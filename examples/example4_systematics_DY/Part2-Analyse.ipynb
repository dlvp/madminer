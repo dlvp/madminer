{
 "cells": [
  {
   "cell_type": "markdown",
   "metadata": {},
   "source": [
    "# Example 3: -  Including systematics"
   ]
  },
  {
   "cell_type": "markdown",
   "metadata": {},
   "source": [
    "## Preparations"
   ]
  },
  {
   "cell_type": "markdown",
   "metadata": {},
   "source": [
    "Let us first load all the python libraries again"
   ]
  },
  {
   "cell_type": "code",
   "execution_count": 3,
   "metadata": {},
   "outputs": [],
   "source": [
    "import sys\n",
    "import os\n",
    "madminer_src_path = \"/Users/dpappadopulo/Projects/~Physics/madminer\"\n",
    "sys.path.append(madminer_src_path)\n",
    "\n",
    "from __future__ import absolute_import, division, print_function, unicode_literals\n",
    "\n",
    "import logging\n",
    "import numpy as np\n",
    "import math\n",
    "import matplotlib\n",
    "from matplotlib import pyplot as plt\n",
    "from scipy.optimize import curve_fit\n",
    "% matplotlib inline\n",
    "\n",
    "from madminer.fisherinformation import FisherInformation\n",
    "from madminer.fisherinformation import project_information,profile_information\n",
    "\n",
    "from madminer.plotting import plot_fisher_information_contours_2d\n",
    "\n",
    "from madminer.sampling import SampleAugmenter\n",
    "from madminer.sampling import constant_benchmark_theta, multiple_benchmark_thetas\n",
    "from madminer.sampling import constant_morphing_theta, multiple_morphing_thetas, random_morphing_thetas\n",
    "from madminer.ml import MLForge, EnsembleForge\n",
    "\n",
    "from sklearn.metrics import mean_squared_error"
   ]
  },
  {
   "cell_type": "markdown",
   "metadata": {},
   "source": [
    "MadMiner uses the Python `logging` module to provide additional information and debugging output. You can choose how much of this output you want to see by switching the level in the following lines to `logging.DEBUG` or `logging.WARNING`."
   ]
  },
  {
   "cell_type": "code",
   "execution_count": 4,
   "metadata": {},
   "outputs": [],
   "source": [
    "logging.basicConfig(\n",
    "    format='%(asctime)-5.5s %(name)-20.20s %(levelname)-7.7s %(message)s',\n",
    "    datefmt='%H:%M',\n",
    "    level=logging.INFO\n",
    ")\n",
    "\n",
    "for key in logging.Logger.manager.loggerDict:\n",
    "    if \"madminer\" not in key:\n",
    "        logging.getLogger(key).setLevel(logging.WARNING)"
   ]
  },
  {
   "cell_type": "markdown",
   "metadata": {},
   "source": [
    "To not forget anything later, let us globaly define the number of events in the MG sample"
   ]
  },
  {
   "cell_type": "code",
   "execution_count": 5,
   "metadata": {},
   "outputs": [],
   "source": [
    "inputfile = 'data/madminer_lhedata_signal.h5'\n",
    "nsamples = 800000"
   ]
  },
  {
   "cell_type": "markdown",
   "metadata": {},
   "source": [
    "## 5. Data Analysis"
   ]
  },
  {
   "cell_type": "markdown",
   "metadata": {},
   "source": [
    "### 5a) Setup Fisher Information"
   ]
  },
  {
   "cell_type": "markdown",
   "metadata": {},
   "source": [
    "Let us first set up the Fisher Information class"
   ]
  },
  {
   "cell_type": "code",
   "execution_count": 6,
   "metadata": {},
   "outputs": [
    {
     "name": "stderr",
     "output_type": "stream",
     "text": [
      "00:03 madminer.fisherinfor INFO    Loading data from data/madminer_lhedata_signal.h5\n",
      "00:03 madminer.fisherinfor INFO    Found 2 parameters\n",
      "00:03 madminer.fisherinfor INFO    Found 31 nuisance parameters\n",
      "00:03 madminer.fisherinfor INFO    Found 81 benchmarks, of which 6 physical\n",
      "00:03 madminer.fisherinfor INFO    Found 3 observables: mll, pt_mu, eta_mu\n",
      "00:03 madminer.fisherinfor INFO    Found 900000 events\n",
      "00:03 madminer.fisherinfor INFO    Found morphing setup with 6 components\n",
      "00:03 madminer.fisherinfor INFO    Found nuisance morphing setup\n"
     ]
    }
   ],
   "source": [
    "fisher = FisherInformation(inputfile)"
   ]
  },
  {
   "cell_type": "markdown",
   "metadata": {},
   "source": [
    "### 5b) Evaluate Fisher Information - Full, Rate and Histograms"
   ]
  },
  {
   "cell_type": "markdown",
   "metadata": {},
   "source": [
    "Let us first look at the Fisher Information in the full data, in the rate only and in a few kinematic distributions"
   ]
  },
  {
   "cell_type": "code",
   "execution_count": 7,
   "metadata": {},
   "outputs": [
    {
     "name": "stderr",
     "output_type": "stream",
     "text": [
      "/Users/dpappadopulo/miniconda3/envs/dpenv27/lib/python2.7/site-packages/madminer/fisherinformation.py:1351: RuntimeWarning: divide by zero encountered in true_divide\n",
      "  inv_sigma = sanitize_array(1.0 / sigma)  # Shape (n_events,)\n",
      "/Users/dpappadopulo/miniconda3/envs/dpenv27/lib/python2.7/site-packages/madminer/morphing.py:695: RuntimeWarning: invalid value encountered in true_divide\n",
      "  a.append(np.log(benchmark_weights[:, i_pos] / benchmark_weights[:, self.i_benchmark_ref]))\n"
     ]
    }
   ],
   "source": [
    "\"\"\"\n",
    "fi_full_mean, fi_full_cov = fisher.calculate_fisher_information_full_detector(\n",
    "    theta=[0.,0.], luminosity=300*1000.,\n",
    "    model_file='models/samples_ensemble',\n",
    "    unweighted_x_sample_file='data/samples_ensemble/x_test.npy',\n",
    ")\n",
    "\n",
    "fi_rate_mean, fi_rate_cov = fisher.calculate_fisher_information_rate(\n",
    "    theta=[0.,0.],luminosity=300*1000.\n",
    ")\n",
    "\n",
    "fi_dphi_mean, fi_dphi_cov = fisher.calculate_fisher_information_hist1d(\n",
    "    theta=[0.,0.], luminosity=300*1000.,\n",
    "    observable='dphi_mumu',nbins=20,histrange=(-3.2,3.2)\n",
    ")\n",
    "\"\"\"\n",
    "fi_mll_mean, fi_mll_cov = fisher.calculate_fisher_information_hist1d(\n",
    "    theta=[0.,0.], luminosity=300*1000.,\n",
    "    observable='mll',nbins=20,histrange=(-3.2,3.2)\n",
    ")"
   ]
  },
  {
   "cell_type": "markdown",
   "metadata": {},
   "source": [
    "### 5c) No Systematics"
   ]
  },
  {
   "cell_type": "markdown",
   "metadata": {},
   "source": [
    "To again obtain the Fisher Information without systematics, we can use `project_information()` to project out the nuisance parameter (set them all to zero)."
   ]
  },
  {
   "cell_type": "code",
   "execution_count": 11,
   "metadata": {},
   "outputs": [],
   "source": [
    "\"\"\"\n",
    "fi_full_mean_proj, fi_full_cov_proj = project_information(\n",
    "    fisher_information=fi_full_mean, covariance=fi_full_cov,remaining_components=[0,1])\n",
    "fi_rate_mean_proj, fi_rate_cov_proj = project_information(\n",
    "    fisher_information=fi_rate_mean, covariance=fi_rate_cov,remaining_components=[0,1])\n",
    "fi_dphi_mean_proj, fi_dphi_cov_proj = project_information(\n",
    "    fisher_information=fi_dphi_mean, covariance=fi_dphi_cov,remaining_components=[0,1])\n",
    "\"\"\"\n",
    "fi_mll_mean_proj, fi_mll_cov_proj = project_information(\n",
    "    fisher_information=fi_mll_mean, covariance=fi_mll_cov,remaining_components=[0,1])"
   ]
  },
  {
   "cell_type": "markdown",
   "metadata": {},
   "source": [
    "Let's plot the result"
   ]
  },
  {
   "cell_type": "code",
   "execution_count": 12,
   "metadata": {},
   "outputs": [
    {
     "name": "stderr",
     "output_type": "stream",
     "text": [
      "/Users/dpappadopulo/miniconda3/envs/dpenv27/lib/python2.7/site-packages/matplotlib/contour.py:1004: UserWarning: The following kwargs were not used by contour: 'label'\n",
      "  s)\n",
      "/Users/dpappadopulo/miniconda3/envs/dpenv27/lib/python2.7/site-packages/matplotlib/cbook/deprecation.py:107: MatplotlibDeprecationWarning: Adding an axes using the same arguments as a previous axes currently reuses the earlier instance.  In a future version, a new instance will always be created and returned.  Meanwhile, this warning can be suppressed, and the future behavior ensured, by passing a unique label to each axes instance.\n",
      "  warnings.warn(message, mplDeprecation, stacklevel=1)\n"
     ]
    },
    {
     "data": {
      "image/png": "[encoded data removed]",
      "text/plain": [
       "<Figure size 360x360 with 1 Axes>"
      ]
     },
     "metadata": {
      "needs_background": "light"
     },
     "output_type": "display_data"
    }
   ],
   "source": [
    "\"\"\"\n",
    "_ = plot_fisher_information_contours_2d(\n",
    "    [fi_full_mean_proj, fi_rate_mean_proj, fi_dphi_mean_proj],\n",
    "    [fi_full_cov_proj , fi_rate_cov_proj , fi_dphi_cov_proj ],\n",
    "    inline_labels=[\"Full\",\"Rate\",\"$\\Delta\\phi_{\\mu\\mu}$\"],\n",
    "    xrange=(-10,10),\n",
    "    yrange=(-150,150)\n",
    ")\n",
    "\"\"\"\n",
    "_ = plot_fisher_information_contours_2d(\n",
    "    [fi_mll_mean_proj],\n",
    "    [fi_mll_cov_proj ],\n",
    "    inline_labels=[\"$m_{\\mu\\mu}$\"],\n",
    "    xrange=(-0.001,0.001),\n",
    "    yrange=(-0.001,0.001)\n",
    ")"
   ]
  },
  {
   "cell_type": "markdown",
   "metadata": {},
   "source": [
    "### 5d) Including Systematics"
   ]
  },
  {
   "cell_type": "markdown",
   "metadata": {},
   "source": [
    "We can also profile over the systematics. The nuisance parameters, by construction, follow Gaussian distributions with mean $\\langle \\nu \\rangle=0 $ and width $\\sigma_\\nu=1$. This provides an additional contribution to the Fisher Information, $I_{ij}^{}=I_{ij}^{0}+I_{ij}^{\\nu}$, where $I_{ij}$ is the total Fisher Info, $I^0_{ij}$ is the Fisher Information obtained by the analyzed process only and $I_{ij}^\\nu = \\delta_{ik}\\delta_{kj}/{\\sigma_\\nu^2}$ is the addition contribution from the constraints of the nuisance parameter. Let's first calulate the Fisher Info for the nuisance parameter:"
   ]
  },
  {
   "cell_type": "code",
   "execution_count": 8,
   "metadata": {},
   "outputs": [],
   "source": [
    "fi_nuisance = fisher.calculate_fisher_information_nuisance_constraints()"
   ]
  },
  {
   "cell_type": "markdown",
   "metadata": {},
   "source": [
    "Now we can add the two Fisher Informations, and also profile over the nuisance parameters"
   ]
  },
  {
   "cell_type": "code",
   "execution_count": 13,
   "metadata": {},
   "outputs": [],
   "source": [
    "\"\"\"\n",
    "fi_full_mean_prof, fi_full_cov_prof = profile_information(\n",
    "    fisher_information=fi_full_mean+fi_nuisance, covariance=fi_full_cov,remaining_components=[0,1])\n",
    "fi_rate_mean_prof, fi_rate_cov_prof = profile_information(\n",
    "    fisher_information=fi_rate_mean+fi_nuisance, covariance=fi_rate_cov,remaining_components=[0,1])\n",
    "\"\"\"\n",
    "fi_mll_mean_prof, fi_mll_cov_prof = profile_information(\n",
    "    fisher_information=fi_mll_mean+fi_nuisance, covariance=fi_mll_cov,remaining_components=[0,1])"
   ]
  },
  {
   "cell_type": "markdown",
   "metadata": {},
   "source": [
    "Let's now plot the result"
   ]
  },
  {
   "cell_type": "code",
   "execution_count": 14,
   "metadata": {},
   "outputs": [
    {
     "data": {
      "image/png": "[encoded data removed]",
      "text/plain": [
       "<Figure size 360x360 with 1 Axes>"
      ]
     },
     "metadata": {
      "needs_background": "light"
     },
     "output_type": "display_data"
    }
   ],
   "source": [
    "\"\"\"\n",
    "_ = plot_fisher_information_contours_2d(\n",
    "    [fi_full_mean_proj,fi_full_mean_prof,fi_rate_mean_proj,fi_rate_mean_prof,fi_dphi_mean_proj,fi_dphi_mean_prof],\n",
    "    [fi_full_cov_proj ,fi_full_cov_prof ,fi_rate_cov_proj ,fi_rate_cov_prof ,fi_dphi_cov_proj ,fi_dphi_cov_prof ],\n",
    "    inline_labels=[\"Full\",\"Full+Syst\",\"Rate\",\"Rate+Syst\",\"$\\Delta\\phi_{\\mu\\mu}$\",\"$\\Delta\\phi_{\\mu\\mu}$+Syst\"],\n",
    "    linestyles=[\"solid\",\"dashed\",\"solid\",\"dashed\",\"solid\",\"dashed\"],\n",
    "    colors=[\"C0\",\"C0\",\"C1\",\"C1\",\"C2\",\"C2\"],\n",
    "    xrange=(-10,10),\n",
    "    yrange=(-150,150),\n",
    ")\n",
    "\"\"\"\n",
    "\n",
    "_ = plot_fisher_information_contours_2d(\n",
    "    [fi_mll_mean_proj,fi_mll_mean_prof],\n",
    "    [fi_mll_cov_proj ,fi_mll_cov_prof ],\n",
    "    inline_labels=[\"mll\",\"mll+Syst\"],\n",
    "    linestyles=[\"solid\",\"dashed\"],\n",
    "    colors=[\"C0\",\"C0\"],\n",
    "    xrange=(-0.001,0.001),\n",
    "    yrange=(-0.001,0.001)\n",
    ")"
   ]
  }
 ],
 "metadata": {
  "kernelspec": {
   "display_name": "Python 2",
   "language": "python",
   "name": "python2"
  },
  "language_info": {
   "codemirror_mode": {
    "name": "ipython",
    "version": 2
   },
   "file_extension": ".py",
   "mimetype": "text/x-python",
   "name": "python",
   "nbconvert_exporter": "python",
   "pygments_lexer": "ipython2",
   "version": "2.7.15"
  }
 },
 "nbformat": 4,
 "nbformat_minor": 2
}
