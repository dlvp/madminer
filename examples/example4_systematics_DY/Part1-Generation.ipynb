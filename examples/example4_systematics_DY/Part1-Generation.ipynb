{
 "cells": [
  {
   "cell_type": "markdown",
   "metadata": {},
   "source": [
    "# Example 3: -  DY check with systematics"
   ]
  },
  {
   "cell_type": "markdown",
   "metadata": {},
   "source": [
    "by Duccio Pappadopulo"
   ]
  },
  {
   "cell_type": "markdown",
   "metadata": {},
   "source": [
    "Use simple $u ~\\bar u \\to \\mu^+\\mu^-$ to test MadMiner treatment of systematics.\n",
    "It uses `SM4fLL_UFO` model containing $W$ and $Y$ electroweak parameters."
   ]
  },
  {
   "cell_type": "markdown",
   "metadata": {},
   "source": [
    "## Preparations"
   ]
  },
  {
   "cell_type": "markdown",
   "metadata": {},
   "source": [
    "Let us first load all the python libraries again"
   ]
  },
  {
   "cell_type": "code",
   "execution_count": 1,
   "metadata": {},
   "outputs": [],
   "source": [
    "import sys\n",
    "import os\n",
    "madminer_src_path = \"/Users/dpappadopulo/Projects/~Physics/madminer\"\n",
    "sys.path.append(madminer_src_path)\n",
    "\n",
    "from __future__ import absolute_import, division, print_function, unicode_literals\n",
    "\n",
    "import logging\n",
    "import numpy as np\n",
    "import matplotlib\n",
    "from matplotlib import pyplot as plt\n",
    "from scipy.optimize import curve_fit\n",
    "% matplotlib inline\n",
    "\n",
    "from madminer.core import MadMiner\n",
    "from madminer.plotting import plot_2d_morphing_basis\n",
    "from madminer.sampling import combine_and_shuffle\n",
    "from madminer.lhe import LHEProcessor\n",
    "from madminer.sampling import SampleAugmenter\n",
    "from madminer.plotting import plot_distributions"
   ]
  },
  {
   "cell_type": "markdown",
   "metadata": {},
   "source": [
    "Please enter here the path to your MG5 root directory. This notebook assumes that you installed Delphes and Pythia through MG5. **This needs to be updated by the user**"
   ]
  },
  {
   "cell_type": "code",
   "execution_count": 2,
   "metadata": {},
   "outputs": [],
   "source": [
    "mg_dir = '/Users/dpappadopulo/Projects/~Physics/MG5_2.6.4'\n",
    "base_dir = '/Users/dpappadopulo/Projects/~Physics/madminer/examples/example4_systematics_DY/'\n",
    "\n",
    "sample_dir = base_dir + 'data/samples/DY_sys/'\n",
    "card_dir = base_dir + 'cards/'\n",
    "ufo_model_dir = card_dir + 'SM4fLL_UFO'\n",
    "run_card_dir = card_dir + 'run_cards/'\n",
    "mg_process_dir = base_dir + 'data/mg_processes/DY_sys/'\n",
    "log_dir = base_dir + 'logs/DY_sys/'\n",
    "temp_dir = base_dir + 'data/temp'"
   ]
  },
  {
   "cell_type": "markdown",
   "metadata": {},
   "source": [
    "MadMiner uses the Python `logging` module to provide additional information and debugging output. You can choose how much of this output you want to see by switching the level in the following lines to `logging.DEBUG` or `logging.WARNING`."
   ]
  },
  {
   "cell_type": "code",
   "execution_count": 3,
   "metadata": {},
   "outputs": [],
   "source": [
    "logging.basicConfig(\n",
    "    format='%(asctime)-5.5s %(name)-20.20s %(levelname)-7.7s %(message)s',\n",
    "    datefmt='%H:%M',\n",
    "    level=logging.DEBUG\n",
    ")\n",
    "\n",
    "for key in logging.Logger.manager.loggerDict:\n",
    "    if \"madminer\" not in key:\n",
    "        logging.getLogger(key).setLevel(logging.WARNING)"
   ]
  },
  {
   "cell_type": "markdown",
   "metadata": {},
   "source": [
    "## 1. Setup"
   ]
  },
  {
   "cell_type": "markdown",
   "metadata": {},
   "source": [
    "### 1a) Parameter Space"
   ]
  },
  {
   "cell_type": "markdown",
   "metadata": {},
   "source": [
    "Let us first define the theory parameters. We are again using the `SM4fLL_UFO` model "
   ]
  },
  {
   "cell_type": "code",
   "execution_count": 4,
   "metadata": {},
   "outputs": [
    {
     "name": "stderr",
     "output_type": "stream",
     "text": [
      "13:51 madminer.core        INFO    Added parameter cWhat (LHA: oblique 1, maximal power in squared ME: (2,), range: (-0.1, 0.1))\n",
      "13:51 madminer.core        INFO    Added parameter cYhat (LHA: oblique 2, maximal power in squared ME: (2,), range: (-0.1, 0.1))\n"
     ]
    }
   ],
   "source": [
    "miner = MadMiner()\n",
    "\n",
    "miner.add_parameter(\n",
    "    lha_block='oblique',\n",
    "    lha_id=1,\n",
    "    parameter_name='cWhat',\n",
    "    morphing_max_power=2,\n",
    "    parameter_range=(-0.1,0.1),\n",
    ")\n",
    "miner.add_parameter(\n",
    "    lha_block='oblique',\n",
    "    lha_id=2,\n",
    "    parameter_name='cYhat',\n",
    "    morphing_max_power=2,\n",
    "    parameter_range=(-0.1,0.1),\n",
    ")"
   ]
  },
  {
   "cell_type": "markdown",
   "metadata": {},
   "source": [
    "### 1b) Benchmarks"
   ]
  },
  {
   "cell_type": "markdown",
   "metadata": {},
   "source": [
    "Define SM benchmarks by hand, and scan to find remaining benchmarks."
   ]
  },
  {
   "cell_type": "code",
   "execution_count": 5,
   "metadata": {},
   "outputs": [
    {
     "name": "stderr",
     "output_type": "stream",
     "text": [
      "13:51 madminer.core        INFO    Added benchmark sm: cYhat = 0.00e+00, cWhat = 0.00e+00)\n"
     ]
    }
   ],
   "source": [
    "miner.add_benchmark( {'cWhat':0., 'cYhat':0.}, 'sm')"
   ]
  },
  {
   "cell_type": "code",
   "execution_count": 6,
   "metadata": {
    "scrolled": false
   },
   "outputs": [
    {
     "name": "stderr",
     "output_type": "stream",
     "text": [
      "13:51 madminer.core        INFO    Optimizing basis for morphing\n",
      "13:51 madminer.morphing    DEBUG   Region 0: max overall power 2, max individual powers [2, 2]\n",
      "13:51 madminer.morphing    DEBUG     Adding component [0 0]\n",
      "13:51 madminer.morphing    DEBUG     Adding component [0 1]\n",
      "13:51 madminer.morphing    DEBUG     Adding component [0 2]\n",
      "13:51 madminer.morphing    DEBUG     Adding component [1 0]\n",
      "13:51 madminer.morphing    DEBUG     Adding component [1 1]\n",
      "13:51 madminer.morphing    DEBUG     Adding component [2 0]\n",
      "13:51 madminer.core        INFO    Added benchmark sm: cWhat = 0.00e+00, cYhat = 0.00e+00)\n",
      "13:51 madminer.core        INFO    Added benchmark morphing_basis_vector_1: cWhat = -6.39e-02, cYhat = -8.65e-02)\n",
      "13:51 madminer.core        INFO    Added benchmark morphing_basis_vector_2: cWhat = 0.03, cYhat = -9.83e-02)\n",
      "13:51 madminer.core        INFO    Added benchmark morphing_basis_vector_3: cWhat = -8.15e-02, cYhat = 0.10)\n",
      "13:51 madminer.core        INFO    Added benchmark morphing_basis_vector_4: cWhat = 0.09, cYhat = -5.44e-03)\n",
      "13:51 madminer.core        INFO    Added benchmark morphing_basis_vector_5: cWhat = 0.09, cYhat = 0.08)\n"
     ]
    }
   ],
   "source": [
    "miner.set_morphing(\n",
    "    include_existing_benchmarks=True,\n",
    "    n_trials=1000,\n",
    "    max_overall_power=2\n",
    ")"
   ]
  },
  {
   "cell_type": "code",
   "execution_count": 7,
   "metadata": {},
   "outputs": [
    {
     "data": {
      "image/png": "[encoded data removed]",
      "text/plain": [
       "<Figure size 468x360 with 2 Axes>"
      ]
     },
     "metadata": {
      "needs_background": "light"
     },
     "output_type": "display_data"
    }
   ],
   "source": [
    "fig = plot_2d_morphing_basis(\n",
    "    miner.morpher,\n",
    "    xlabel=r'$W$',\n",
    "    ylabel=r'$Y$',\n",
    "    xrange=(-0.1,0.1),\n",
    "    yrange=(-0.1,0.1)\n",
    ")"
   ]
  },
  {
   "cell_type": "markdown",
   "metadata": {},
   "source": [
    "### 1c) Systematics"
   ]
  },
  {
   "cell_type": "markdown",
   "metadata": {},
   "source": [
    "Systematics can be added using the `madminer.set_systematics()` command. In particular, we consider two sorts of systematics: scale variations and pdf variations. The setting is described by the following three inputs\n",
    "- `scales`: Whether only the regularization scale (`\"mur\"`), only the factorization scale (`\"muf\"`), both simultanously with $\\mu=\\mu_F=\\mu_R$ (`\"together\"`) or both independently (`\"independent\"`) are varied.\n",
    "- `scale_variation`: If not `None`, the regularization and / or factorization scales are varied. A tuple like ($\\mu_{max},\\mu_{min}$) specifies the factors with which they are varied. Here $\\mu_{max}$ refers to the name of the benchmark with $\\nu = 1$, while $\\mu_{min}$ is either `None` or refers to the name of the benchmark with $\\nu = -1$. Note that if more than two scales are given, currently only first and last scale are used.\n",
    "- `pdf_variation`: If not `None`, the PDFs are varied. The option is passed along to the `--pdf` option of MadGraph's systematics module. See https://cp3.irmp.ucl.ac.be/projects/madgraph/wiki/Systematics for a list. For example, the option `\"90900\"` would run over all the eigenvectors of the PDF4LHC15_nlo_30 set. "
   ]
  },
  {
   "cell_type": "code",
   "execution_count": 8,
   "metadata": {},
   "outputs": [],
   "source": [
    "miner.set_systematics(\n",
    "    #scale_variation=(0.5,1,2), \n",
    "    #scales=\"independent\", \n",
    "    pdf_variation=\"90900\",\n",
    ")"
   ]
  },
  {
   "cell_type": "markdown",
   "metadata": {},
   "source": [
    "### 1d) Save setup"
   ]
  },
  {
   "cell_type": "code",
   "execution_count": 9,
   "metadata": {},
   "outputs": [
    {
     "name": "stderr",
     "output_type": "stream",
     "text": [
      "13:52 madminer.core        INFO    Saving setup (including morphing) to /Users/dpappadopulo/Projects/~Physics/madminer/examples/example4_systematics_DY/data/samples/DY_sys/madminer_DY.h5\n"
     ]
    }
   ],
   "source": [
    "miner.save(sample_dir + 'madminer_DY.h5')"
   ]
  },
  {
   "cell_type": "markdown",
   "metadata": {},
   "source": [
    "## 2. Event Generation"
   ]
  },
  {
   "cell_type": "markdown",
   "metadata": {},
   "source": [
    "### Create run cards"
   ]
  },
  {
   "cell_type": "code",
   "execution_count": 11,
   "metadata": {},
   "outputs": [],
   "source": [
    "# binning for dimuon invariant mass\n",
    "mll_ticks = np.array([300, 360, 430, 520, 620, 750, 900, 1070, 1290, 1550, 1860, 2230, 2670, 3210, 3850, 4620, 5550, 6660, 7990])\n",
    "\n",
    "mll_bin_1 = mll_ticks[:-1]\n",
    "mll_bin_2 = mll_ticks[1:]\n",
    "mll_bins = np.array(zip(mll_bin_1, mll_bin_2))"
   ]
  },
  {
   "cell_type": "code",
   "execution_count": 12,
   "metadata": {},
   "outputs": [
    {
     "name": "stdout",
     "output_type": "stream",
     "text": [
      "/Users/dpappadopulo/Projects/~Physics/madminer/examples/example4_systematics_DY/cards/run_cards//run_card_0.dat\n",
      "/Users/dpappadopulo/Projects/~Physics/madminer/examples/example4_systematics_DY/cards/run_cards//run_card_1.dat\n",
      "/Users/dpappadopulo/Projects/~Physics/madminer/examples/example4_systematics_DY/cards/run_cards//run_card_2.dat\n",
      "/Users/dpappadopulo/Projects/~Physics/madminer/examples/example4_systematics_DY/cards/run_cards//run_card_3.dat\n",
      "/Users/dpappadopulo/Projects/~Physics/madminer/examples/example4_systematics_DY/cards/run_cards//run_card_4.dat\n",
      "/Users/dpappadopulo/Projects/~Physics/madminer/examples/example4_systematics_DY/cards/run_cards//run_card_5.dat\n",
      "/Users/dpappadopulo/Projects/~Physics/madminer/examples/example4_systematics_DY/cards/run_cards//run_card_6.dat\n",
      "/Users/dpappadopulo/Projects/~Physics/madminer/examples/example4_systematics_DY/cards/run_cards//run_card_7.dat\n",
      "/Users/dpappadopulo/Projects/~Physics/madminer/examples/example4_systematics_DY/cards/run_cards//run_card_8.dat\n",
      "/Users/dpappadopulo/Projects/~Physics/madminer/examples/example4_systematics_DY/cards/run_cards//run_card_9.dat\n",
      "/Users/dpappadopulo/Projects/~Physics/madminer/examples/example4_systematics_DY/cards/run_cards//run_card_10.dat\n",
      "/Users/dpappadopulo/Projects/~Physics/madminer/examples/example4_systematics_DY/cards/run_cards//run_card_11.dat\n",
      "/Users/dpappadopulo/Projects/~Physics/madminer/examples/example4_systematics_DY/cards/run_cards//run_card_12.dat\n",
      "/Users/dpappadopulo/Projects/~Physics/madminer/examples/example4_systematics_DY/cards/run_cards//run_card_13.dat\n",
      "/Users/dpappadopulo/Projects/~Physics/madminer/examples/example4_systematics_DY/cards/run_cards//run_card_14.dat\n",
      "/Users/dpappadopulo/Projects/~Physics/madminer/examples/example4_systematics_DY/cards/run_cards//run_card_15.dat\n",
      "/Users/dpappadopulo/Projects/~Physics/madminer/examples/example4_systematics_DY/cards/run_cards//run_card_16.dat\n",
      "/Users/dpappadopulo/Projects/~Physics/madminer/examples/example4_systematics_DY/cards/run_cards//run_card_17.dat\n"
     ]
    }
   ],
   "source": [
    "import shutil\n",
    "import fileinput\n",
    "\n",
    "run_card_filenames = []\n",
    "for i in range(len(mll_bins)):\n",
    "    run_card_filename = run_card_dir+'/run_card_{}.dat'.format(i)\n",
    "    print(run_card_filename)\n",
    "    run_card_filenames.append(run_card_filename)\n",
    "    shutil.copy(card_dir + 'run_card_default.dat', run_card_filename)    \n",
    "\n",
    "for i in range(len(mll_bins)):\n",
    "    f = fileinput.FileInput(run_card_dir+'/run_card_{}.dat'.format(i), inplace=True)\n",
    "    for line in f:\n",
    "        print(line.replace('0.0   = mmll    ! min invariant mass of l+l- (same flavour) lepton pair', \n",
    "                            '{}   = mmll    ! min invariant mass of l+l- (same flavour) lepton pair'.format(mll_bins[i][0])), end='')\n",
    "    f.close\n",
    "    f =  fileinput.FileInput(run_card_dir+'/run_card_{}.dat'.format(i), inplace=True)\n",
    "    for line in f:\n",
    "        print(line.replace('-1.0  = mmllmax ! max invariant mass of l+l- (same flavour) lepton pair', \n",
    "                            '{}  = mmllmax ! max invariant mass of l+l- (same flavour) lepton pair'.format(mll_bins[i][1])), end='')\n",
    "    f.close"
   ]
  },
  {
   "cell_type": "markdown",
   "metadata": {},
   "source": [
    "Load MadMiner again"
   ]
  },
  {
   "cell_type": "code",
   "execution_count": 13,
   "metadata": {},
   "outputs": [
    {
     "name": "stderr",
     "output_type": "stream",
     "text": [
      "13:52 madminer.utils.inter DEBUG   HDF5 file does not contain is_reference field.\n",
      "13:52 madminer.core        INFO    Found 2 parameters:\n",
      "13:52 madminer.core        INFO       cWhat (LHA: oblique 1, maximal power in squared ME: (2,), range: (-0.1, 0.1))\n",
      "13:52 madminer.core        INFO       cYhat (LHA: oblique 2, maximal power in squared ME: (2,), range: (-0.1, 0.1))\n",
      "13:52 madminer.core        INFO    Found 6 benchmarks:\n",
      "13:52 madminer.core        INFO       sm: cWhat = 0.00e+00, cYhat = 0.00e+00\n",
      "13:52 madminer.core        INFO       morphing_basis_vector_1: cWhat = -6.39e-02, cYhat = -8.65e-02\n",
      "13:52 madminer.core        INFO       morphing_basis_vector_2: cWhat = 0.03, cYhat = -9.83e-02\n",
      "13:52 madminer.core        INFO       morphing_basis_vector_3: cWhat = -8.15e-02, cYhat = 0.10\n",
      "13:52 madminer.core        INFO       morphing_basis_vector_4: cWhat = 0.09, cYhat = -5.44e-03\n",
      "13:52 madminer.core        INFO       morphing_basis_vector_5: cWhat = 0.09, cYhat = 0.08\n",
      "13:52 madminer.core        INFO    Found morphing setup with 6 components\n",
      "13:52 madminer.core        INFO    Found systematics setup with 1 nuisance parameter groups\n",
      "13:52 madminer.core        DEBUG     pdf: 90900\n"
     ]
    }
   ],
   "source": [
    "miner.load(sample_dir + 'madminer_DY.h5')"
   ]
  },
  {
   "cell_type": "markdown",
   "metadata": {},
   "source": [
    "We now run MadMiner for the signal: "
   ]
  },
  {
   "cell_type": "code",
   "execution_count": 14,
   "metadata": {},
   "outputs": [],
   "source": [
    "benchmarks = ['sm']"
   ]
  },
  {
   "cell_type": "code",
   "execution_count": 15,
   "metadata": {},
   "outputs": [
    {
     "name": "stderr",
     "output_type": "stream",
     "text": [
      "13:52 madminer.utils.inter INFO    Generating MadGraph process folder from /Users/dpappadopulo/Projects/~Physics/madminer/examples/example4_systematics_DY/cards/proc_card_mg5.dat at /Users/dpappadopulo/Projects/~Physics/madminer/examples/example4_systematics_DY/data/mg_processes/DY_sys/\n",
      "13:52 madminer.core        INFO    Run 0\n",
      "13:52 madminer.core        INFO      Sampling from benchmark: sm\n",
      "13:52 madminer.core        INFO      Original run card:       /Users/dpappadopulo/Projects/~Physics/madminer/examples/example4_systematics_DY/cards/run_cards//run_card_0.dat\n",
      "13:52 madminer.core        INFO      Original Pythia8 card:   None\n",
      "13:52 madminer.core        INFO      Copied run card:         /madminer/cards/run_card_0.dat\n",
      "13:52 madminer.core        INFO      Copied Pythia8 card:     None\n",
      "13:52 madminer.core        INFO      Param card:              /madminer/cards/param_card_0.dat\n",
      "13:52 madminer.core        INFO      Reweight card:           /madminer/cards/reweight_card_0.dat\n",
      "13:52 madminer.core        INFO      Log file:                run_0.log\n",
      "13:52 madminer.core        INFO    Creating param and reweight cards in /Users/dpappadopulo/Projects/~Physics/madminer/examples/example4_systematics_DY/data/mg_processes/DY_sys///madminer/cards/param_card_0.dat, /Users/dpappadopulo/Projects/~Physics/madminer/examples/example4_systematics_DY/data/mg_processes/DY_sys///madminer/cards/reweight_card_0.dat\n",
      "13:52 madminer.utils.inter INFO    Starting MadGraph and Pythia in /Users/dpappadopulo/Projects/~Physics/madminer/examples/example4_systematics_DY/data/mg_processes/DY_sys/\n",
      "13:53 madminer.core        INFO    Run 1\n",
      "13:53 madminer.core        INFO      Sampling from benchmark: sm\n",
      "13:53 madminer.core        INFO      Original run card:       /Users/dpappadopulo/Projects/~Physics/madminer/examples/example4_systematics_DY/cards/run_cards//run_card_1.dat\n",
      "13:53 madminer.core        INFO      Original Pythia8 card:   None\n",
      "13:53 madminer.core        INFO      Copied run card:         /madminer/cards/run_card_1.dat\n",
      "13:53 madminer.core        INFO      Copied Pythia8 card:     None\n",
      "13:53 madminer.core        INFO      Param card:              /madminer/cards/param_card_1.dat\n",
      "13:53 madminer.core        INFO      Reweight card:           /madminer/cards/reweight_card_1.dat\n",
      "13:53 madminer.core        INFO      Log file:                run_1.log\n",
      "13:53 madminer.core        INFO    Creating param and reweight cards in /Users/dpappadopulo/Projects/~Physics/madminer/examples/example4_systematics_DY/data/mg_processes/DY_sys///madminer/cards/param_card_1.dat, /Users/dpappadopulo/Projects/~Physics/madminer/examples/example4_systematics_DY/data/mg_processes/DY_sys///madminer/cards/reweight_card_1.dat\n",
      "13:53 madminer.utils.inter INFO    Starting MadGraph and Pythia in /Users/dpappadopulo/Projects/~Physics/madminer/examples/example4_systematics_DY/data/mg_processes/DY_sys/\n",
      "13:53 madminer.core        INFO    Run 2\n",
      "13:53 madminer.core        INFO      Sampling from benchmark: sm\n",
      "13:53 madminer.core        INFO      Original run card:       /Users/dpappadopulo/Projects/~Physics/madminer/examples/example4_systematics_DY/cards/run_cards//run_card_2.dat\n",
      "13:53 madminer.core        INFO      Original Pythia8 card:   None\n",
      "13:53 madminer.core        INFO      Copied run card:         /madminer/cards/run_card_2.dat\n",
      "13:53 madminer.core        INFO      Copied Pythia8 card:     None\n",
      "13:53 madminer.core        INFO      Param card:              /madminer/cards/param_card_2.dat\n",
      "13:53 madminer.core        INFO      Reweight card:           /madminer/cards/reweight_card_2.dat\n",
      "13:53 madminer.core        INFO      Log file:                run_2.log\n",
      "13:53 madminer.core        INFO    Creating param and reweight cards in /Users/dpappadopulo/Projects/~Physics/madminer/examples/example4_systematics_DY/data/mg_processes/DY_sys///madminer/cards/param_card_2.dat, /Users/dpappadopulo/Projects/~Physics/madminer/examples/example4_systematics_DY/data/mg_processes/DY_sys///madminer/cards/reweight_card_2.dat\n",
      "13:53 madminer.utils.inter INFO    Starting MadGraph and Pythia in /Users/dpappadopulo/Projects/~Physics/madminer/examples/example4_systematics_DY/data/mg_processes/DY_sys/\n",
      "13:53 madminer.core        INFO    Run 3\n",
      "13:53 madminer.core        INFO      Sampling from benchmark: sm\n",
      "13:53 madminer.core        INFO      Original run card:       /Users/dpappadopulo/Projects/~Physics/madminer/examples/example4_systematics_DY/cards/run_cards//run_card_3.dat\n",
      "13:53 madminer.core        INFO      Original Pythia8 card:   None\n",
      "13:53 madminer.core        INFO      Copied run card:         /madminer/cards/run_card_3.dat\n",
      "13:53 madminer.core        INFO      Copied Pythia8 card:     None\n",
      "13:53 madminer.core        INFO      Param card:              /madminer/cards/param_card_3.dat\n",
      "13:53 madminer.core        INFO      Reweight card:           /madminer/cards/reweight_card_3.dat\n",
      "13:53 madminer.core        INFO      Log file:                run_3.log\n",
      "13:53 madminer.core        INFO    Creating param and reweight cards in /Users/dpappadopulo/Projects/~Physics/madminer/examples/example4_systematics_DY/data/mg_processes/DY_sys///madminer/cards/param_card_3.dat, /Users/dpappadopulo/Projects/~Physics/madminer/examples/example4_systematics_DY/data/mg_processes/DY_sys///madminer/cards/reweight_card_3.dat\n",
      "13:53 madminer.utils.inter INFO    Starting MadGraph and Pythia in /Users/dpappadopulo/Projects/~Physics/madminer/examples/example4_systematics_DY/data/mg_processes/DY_sys/\n",
      "13:54 madminer.core        INFO    Run 4\n",
      "13:54 madminer.core        INFO      Sampling from benchmark: sm\n",
      "13:54 madminer.core        INFO      Original run card:       /Users/dpappadopulo/Projects/~Physics/madminer/examples/example4_systematics_DY/cards/run_cards//run_card_4.dat\n",
      "13:54 madminer.core        INFO      Original Pythia8 card:   None\n",
      "13:54 madminer.core        INFO      Copied run card:         /madminer/cards/run_card_4.dat\n",
      "13:54 madminer.core        INFO      Copied Pythia8 card:     None\n",
      "13:54 madminer.core        INFO      Param card:              /madminer/cards/param_card_4.dat\n",
      "13:54 madminer.core        INFO      Reweight card:           /madminer/cards/reweight_card_4.dat\n",
      "13:54 madminer.core        INFO      Log file:                run_4.log\n",
      "13:54 madminer.core        INFO    Creating param and reweight cards in /Users/dpappadopulo/Projects/~Physics/madminer/examples/example4_systematics_DY/data/mg_processes/DY_sys///madminer/cards/param_card_4.dat, /Users/dpappadopulo/Projects/~Physics/madminer/examples/example4_systematics_DY/data/mg_processes/DY_sys///madminer/cards/reweight_card_4.dat\n",
      "13:54 madminer.utils.inter INFO    Starting MadGraph and Pythia in /Users/dpappadopulo/Projects/~Physics/madminer/examples/example4_systematics_DY/data/mg_processes/DY_sys/\n",
      "13:54 madminer.core        INFO    Run 5\n",
      "13:54 madminer.core        INFO      Sampling from benchmark: sm\n",
      "13:54 madminer.core        INFO      Original run card:       /Users/dpappadopulo/Projects/~Physics/madminer/examples/example4_systematics_DY/cards/run_cards//run_card_5.dat\n",
      "13:54 madminer.core        INFO      Original Pythia8 card:   None\n",
      "13:54 madminer.core        INFO      Copied run card:         /madminer/cards/run_card_5.dat\n",
      "13:54 madminer.core        INFO      Copied Pythia8 card:     None\n",
      "13:54 madminer.core        INFO      Param card:              /madminer/cards/param_card_5.dat\n",
      "13:54 madminer.core        INFO      Reweight card:           /madminer/cards/reweight_card_5.dat\n",
      "13:54 madminer.core        INFO      Log file:                run_5.log\n",
      "13:54 madminer.core        INFO    Creating param and reweight cards in /Users/dpappadopulo/Projects/~Physics/madminer/examples/example4_systematics_DY/data/mg_processes/DY_sys///madminer/cards/param_card_5.dat, /Users/dpappadopulo/Projects/~Physics/madminer/examples/example4_systematics_DY/data/mg_processes/DY_sys///madminer/cards/reweight_card_5.dat\n",
      "13:54 madminer.utils.inter INFO    Starting MadGraph and Pythia in /Users/dpappadopulo/Projects/~Physics/madminer/examples/example4_systematics_DY/data/mg_processes/DY_sys/\n",
      "13:54 madminer.core        INFO    Run 6\n",
      "13:54 madminer.core        INFO      Sampling from benchmark: sm\n",
      "13:54 madminer.core        INFO      Original run card:       /Users/dpappadopulo/Projects/~Physics/madminer/examples/example4_systematics_DY/cards/run_cards//run_card_6.dat\n",
      "13:54 madminer.core        INFO      Original Pythia8 card:   None\n",
      "13:54 madminer.core        INFO      Copied run card:         /madminer/cards/run_card_6.dat\n",
      "13:54 madminer.core        INFO      Copied Pythia8 card:     None\n",
      "13:54 madminer.core        INFO      Param card:              /madminer/cards/param_card_6.dat\n",
      "13:54 madminer.core        INFO      Reweight card:           /madminer/cards/reweight_card_6.dat\n",
      "13:54 madminer.core        INFO      Log file:                run_6.log\n",
      "13:54 madminer.core        INFO    Creating param and reweight cards in /Users/dpappadopulo/Projects/~Physics/madminer/examples/example4_systematics_DY/data/mg_processes/DY_sys///madminer/cards/param_card_6.dat, /Users/dpappadopulo/Projects/~Physics/madminer/examples/example4_systematics_DY/data/mg_processes/DY_sys///madminer/cards/reweight_card_6.dat\n",
      "13:54 madminer.utils.inter INFO    Starting MadGraph and Pythia in /Users/dpappadopulo/Projects/~Physics/madminer/examples/example4_systematics_DY/data/mg_processes/DY_sys/\n",
      "13:55 madminer.core        INFO    Run 7\n",
      "13:55 madminer.core        INFO      Sampling from benchmark: sm\n",
      "13:55 madminer.core        INFO      Original run card:       /Users/dpappadopulo/Projects/~Physics/madminer/examples/example4_systematics_DY/cards/run_cards//run_card_7.dat\n",
      "13:55 madminer.core        INFO      Original Pythia8 card:   None\n",
      "13:55 madminer.core        INFO      Copied run card:         /madminer/cards/run_card_7.dat\n",
      "13:55 madminer.core        INFO      Copied Pythia8 card:     None\n",
      "13:55 madminer.core        INFO      Param card:              /madminer/cards/param_card_7.dat\n",
      "13:55 madminer.core        INFO      Reweight card:           /madminer/cards/reweight_card_7.dat\n",
      "13:55 madminer.core        INFO      Log file:                run_7.log\n",
      "13:55 madminer.core        INFO    Creating param and reweight cards in /Users/dpappadopulo/Projects/~Physics/madminer/examples/example4_systematics_DY/data/mg_processes/DY_sys///madminer/cards/param_card_7.dat, /Users/dpappadopulo/Projects/~Physics/madminer/examples/example4_systematics_DY/data/mg_processes/DY_sys///madminer/cards/reweight_card_7.dat\n",
      "13:55 madminer.utils.inter INFO    Starting MadGraph and Pythia in /Users/dpappadopulo/Projects/~Physics/madminer/examples/example4_systematics_DY/data/mg_processes/DY_sys/\n",
      "13:55 madminer.core        INFO    Run 8\n",
      "13:55 madminer.core        INFO      Sampling from benchmark: sm\n",
      "13:55 madminer.core        INFO      Original run card:       /Users/dpappadopulo/Projects/~Physics/madminer/examples/example4_systematics_DY/cards/run_cards//run_card_8.dat\n",
      "13:55 madminer.core        INFO      Original Pythia8 card:   None\n",
      "13:55 madminer.core        INFO      Copied run card:         /madminer/cards/run_card_8.dat\n",
      "13:55 madminer.core        INFO      Copied Pythia8 card:     None\n",
      "13:55 madminer.core        INFO      Param card:              /madminer/cards/param_card_8.dat\n",
      "13:55 madminer.core        INFO      Reweight card:           /madminer/cards/reweight_card_8.dat\n",
      "13:55 madminer.core        INFO      Log file:                run_8.log\n",
      "13:55 madminer.core        INFO    Creating param and reweight cards in /Users/dpappadopulo/Projects/~Physics/madminer/examples/example4_systematics_DY/data/mg_processes/DY_sys///madminer/cards/param_card_8.dat, /Users/dpappadopulo/Projects/~Physics/madminer/examples/example4_systematics_DY/data/mg_processes/DY_sys///madminer/cards/reweight_card_8.dat\n",
      "13:55 madminer.utils.inter INFO    Starting MadGraph and Pythia in /Users/dpappadopulo/Projects/~Physics/madminer/examples/example4_systematics_DY/data/mg_processes/DY_sys/\n",
      "13:55 madminer.core        INFO    Run 9\n",
      "13:55 madminer.core        INFO      Sampling from benchmark: sm\n",
      "13:55 madminer.core        INFO      Original run card:       /Users/dpappadopulo/Projects/~Physics/madminer/examples/example4_systematics_DY/cards/run_cards//run_card_9.dat\n",
      "13:55 madminer.core        INFO      Original Pythia8 card:   None\n",
      "13:55 madminer.core        INFO      Copied run card:         /madminer/cards/run_card_9.dat\n",
      "13:55 madminer.core        INFO      Copied Pythia8 card:     None\n",
      "13:55 madminer.core        INFO      Param card:              /madminer/cards/param_card_9.dat\n",
      "13:55 madminer.core        INFO      Reweight card:           /madminer/cards/reweight_card_9.dat\n",
      "13:55 madminer.core        INFO      Log file:                run_9.log\n",
      "13:55 madminer.core        INFO    Creating param and reweight cards in /Users/dpappadopulo/Projects/~Physics/madminer/examples/example4_systematics_DY/data/mg_processes/DY_sys///madminer/cards/param_card_9.dat, /Users/dpappadopulo/Projects/~Physics/madminer/examples/example4_systematics_DY/data/mg_processes/DY_sys///madminer/cards/reweight_card_9.dat\n",
      "13:55 madminer.utils.inter INFO    Starting MadGraph and Pythia in /Users/dpappadopulo/Projects/~Physics/madminer/examples/example4_systematics_DY/data/mg_processes/DY_sys/\n",
      "13:56 madminer.core        INFO    Run 10\n",
      "13:56 madminer.core        INFO      Sampling from benchmark: sm\n",
      "13:56 madminer.core        INFO      Original run card:       /Users/dpappadopulo/Projects/~Physics/madminer/examples/example4_systematics_DY/cards/run_cards//run_card_10.dat\n",
      "13:56 madminer.core        INFO      Original Pythia8 card:   None\n",
      "13:56 madminer.core        INFO      Copied run card:         /madminer/cards/run_card_10.dat\n",
      "13:56 madminer.core        INFO      Copied Pythia8 card:     None\n",
      "13:56 madminer.core        INFO      Param card:              /madminer/cards/param_card_10.dat\n",
      "13:56 madminer.core        INFO      Reweight card:           /madminer/cards/reweight_card_10.dat\n",
      "13:56 madminer.core        INFO      Log file:                run_10.log\n",
      "13:56 madminer.core        INFO    Creating param and reweight cards in /Users/dpappadopulo/Projects/~Physics/madminer/examples/example4_systematics_DY/data/mg_processes/DY_sys///madminer/cards/param_card_10.dat, /Users/dpappadopulo/Projects/~Physics/madminer/examples/example4_systematics_DY/data/mg_processes/DY_sys///madminer/cards/reweight_card_10.dat\n",
      "13:56 madminer.utils.inter INFO    Starting MadGraph and Pythia in /Users/dpappadopulo/Projects/~Physics/madminer/examples/example4_systematics_DY/data/mg_processes/DY_sys/\n",
      "13:56 madminer.core        INFO    Run 11\n",
      "13:56 madminer.core        INFO      Sampling from benchmark: sm\n",
      "13:56 madminer.core        INFO      Original run card:       /Users/dpappadopulo/Projects/~Physics/madminer/examples/example4_systematics_DY/cards/run_cards//run_card_11.dat\n",
      "13:56 madminer.core        INFO      Original Pythia8 card:   None\n",
      "13:56 madminer.core        INFO      Copied run card:         /madminer/cards/run_card_11.dat\n",
      "13:56 madminer.core        INFO      Copied Pythia8 card:     None\n",
      "13:56 madminer.core        INFO      Param card:              /madminer/cards/param_card_11.dat\n",
      "13:56 madminer.core        INFO      Reweight card:           /madminer/cards/reweight_card_11.dat\n",
      "13:56 madminer.core        INFO      Log file:                run_11.log\n",
      "13:56 madminer.core        INFO    Creating param and reweight cards in /Users/dpappadopulo/Projects/~Physics/madminer/examples/example4_systematics_DY/data/mg_processes/DY_sys///madminer/cards/param_card_11.dat, /Users/dpappadopulo/Projects/~Physics/madminer/examples/example4_systematics_DY/data/mg_processes/DY_sys///madminer/cards/reweight_card_11.dat\n",
      "13:56 madminer.utils.inter INFO    Starting MadGraph and Pythia in /Users/dpappadopulo/Projects/~Physics/madminer/examples/example4_systematics_DY/data/mg_processes/DY_sys/\n",
      "13:56 madminer.core        INFO    Run 12\n",
      "13:56 madminer.core        INFO      Sampling from benchmark: sm\n",
      "13:56 madminer.core        INFO      Original run card:       /Users/dpappadopulo/Projects/~Physics/madminer/examples/example4_systematics_DY/cards/run_cards//run_card_12.dat\n",
      "13:56 madminer.core        INFO      Original Pythia8 card:   None\n",
      "13:56 madminer.core        INFO      Copied run card:         /madminer/cards/run_card_12.dat\n",
      "13:56 madminer.core        INFO      Copied Pythia8 card:     None\n",
      "13:56 madminer.core        INFO      Param card:              /madminer/cards/param_card_12.dat\n",
      "13:56 madminer.core        INFO      Reweight card:           /madminer/cards/reweight_card_12.dat\n",
      "13:56 madminer.core        INFO      Log file:                run_12.log\n",
      "13:56 madminer.core        INFO    Creating param and reweight cards in /Users/dpappadopulo/Projects/~Physics/madminer/examples/example4_systematics_DY/data/mg_processes/DY_sys///madminer/cards/param_card_12.dat, /Users/dpappadopulo/Projects/~Physics/madminer/examples/example4_systematics_DY/data/mg_processes/DY_sys///madminer/cards/reweight_card_12.dat\n",
      "13:56 madminer.utils.inter INFO    Starting MadGraph and Pythia in /Users/dpappadopulo/Projects/~Physics/madminer/examples/example4_systematics_DY/data/mg_processes/DY_sys/\n",
      "13:57 madminer.core        INFO    Run 13\n",
      "13:57 madminer.core        INFO      Sampling from benchmark: sm\n",
      "13:57 madminer.core        INFO      Original run card:       /Users/dpappadopulo/Projects/~Physics/madminer/examples/example4_systematics_DY/cards/run_cards//run_card_13.dat\n",
      "13:57 madminer.core        INFO      Original Pythia8 card:   None\n",
      "13:57 madminer.core        INFO      Copied run card:         /madminer/cards/run_card_13.dat\n",
      "13:57 madminer.core        INFO      Copied Pythia8 card:     None\n",
      "13:57 madminer.core        INFO      Param card:              /madminer/cards/param_card_13.dat\n",
      "13:57 madminer.core        INFO      Reweight card:           /madminer/cards/reweight_card_13.dat\n",
      "13:57 madminer.core        INFO      Log file:                run_13.log\n",
      "13:57 madminer.core        INFO    Creating param and reweight cards in /Users/dpappadopulo/Projects/~Physics/madminer/examples/example4_systematics_DY/data/mg_processes/DY_sys///madminer/cards/param_card_13.dat, /Users/dpappadopulo/Projects/~Physics/madminer/examples/example4_systematics_DY/data/mg_processes/DY_sys///madminer/cards/reweight_card_13.dat\n",
      "13:57 madminer.utils.inter INFO    Starting MadGraph and Pythia in /Users/dpappadopulo/Projects/~Physics/madminer/examples/example4_systematics_DY/data/mg_processes/DY_sys/\n",
      "13:57 madminer.core        INFO    Run 14\n",
      "13:57 madminer.core        INFO      Sampling from benchmark: sm\n",
      "13:57 madminer.core        INFO      Original run card:       /Users/dpappadopulo/Projects/~Physics/madminer/examples/example4_systematics_DY/cards/run_cards//run_card_14.dat\n",
      "13:57 madminer.core        INFO      Original Pythia8 card:   None\n",
      "13:57 madminer.core        INFO      Copied run card:         /madminer/cards/run_card_14.dat\n",
      "13:57 madminer.core        INFO      Copied Pythia8 card:     None\n",
      "13:57 madminer.core        INFO      Param card:              /madminer/cards/param_card_14.dat\n",
      "13:57 madminer.core        INFO      Reweight card:           /madminer/cards/reweight_card_14.dat\n",
      "13:57 madminer.core        INFO      Log file:                run_14.log\n",
      "13:57 madminer.core        INFO    Creating param and reweight cards in /Users/dpappadopulo/Projects/~Physics/madminer/examples/example4_systematics_DY/data/mg_processes/DY_sys///madminer/cards/param_card_14.dat, /Users/dpappadopulo/Projects/~Physics/madminer/examples/example4_systematics_DY/data/mg_processes/DY_sys///madminer/cards/reweight_card_14.dat\n",
      "13:57 madminer.utils.inter INFO    Starting MadGraph and Pythia in /Users/dpappadopulo/Projects/~Physics/madminer/examples/example4_systematics_DY/data/mg_processes/DY_sys/\n",
      "13:57 madminer.core        INFO    Run 15\n",
      "13:57 madminer.core        INFO      Sampling from benchmark: sm\n",
      "13:57 madminer.core        INFO      Original run card:       /Users/dpappadopulo/Projects/~Physics/madminer/examples/example4_systematics_DY/cards/run_cards//run_card_15.dat\n",
      "13:57 madminer.core        INFO      Original Pythia8 card:   None\n",
      "13:57 madminer.core        INFO      Copied run card:         /madminer/cards/run_card_15.dat\n",
      "13:57 madminer.core        INFO      Copied Pythia8 card:     None\n",
      "13:57 madminer.core        INFO      Param card:              /madminer/cards/param_card_15.dat\n",
      "13:57 madminer.core        INFO      Reweight card:           /madminer/cards/reweight_card_15.dat\n",
      "13:57 madminer.core        INFO      Log file:                run_15.log\n",
      "13:57 madminer.core        INFO    Creating param and reweight cards in /Users/dpappadopulo/Projects/~Physics/madminer/examples/example4_systematics_DY/data/mg_processes/DY_sys///madminer/cards/param_card_15.dat, /Users/dpappadopulo/Projects/~Physics/madminer/examples/example4_systematics_DY/data/mg_processes/DY_sys///madminer/cards/reweight_card_15.dat\n",
      "13:57 madminer.utils.inter INFO    Starting MadGraph and Pythia in /Users/dpappadopulo/Projects/~Physics/madminer/examples/example4_systematics_DY/data/mg_processes/DY_sys/\n",
      "13:58 madminer.core        INFO    Run 16\n",
      "13:58 madminer.core        INFO      Sampling from benchmark: sm\n",
      "13:58 madminer.core        INFO      Original run card:       /Users/dpappadopulo/Projects/~Physics/madminer/examples/example4_systematics_DY/cards/run_cards//run_card_16.dat\n",
      "13:58 madminer.core        INFO      Original Pythia8 card:   None\n",
      "13:58 madminer.core        INFO      Copied run card:         /madminer/cards/run_card_16.dat\n",
      "13:58 madminer.core        INFO      Copied Pythia8 card:     None\n",
      "13:58 madminer.core        INFO      Param card:              /madminer/cards/param_card_16.dat\n",
      "13:58 madminer.core        INFO      Reweight card:           /madminer/cards/reweight_card_16.dat\n",
      "13:58 madminer.core        INFO      Log file:                run_16.log\n",
      "13:58 madminer.core        INFO    Creating param and reweight cards in /Users/dpappadopulo/Projects/~Physics/madminer/examples/example4_systematics_DY/data/mg_processes/DY_sys///madminer/cards/param_card_16.dat, /Users/dpappadopulo/Projects/~Physics/madminer/examples/example4_systematics_DY/data/mg_processes/DY_sys///madminer/cards/reweight_card_16.dat\n",
      "13:58 madminer.utils.inter INFO    Starting MadGraph and Pythia in /Users/dpappadopulo/Projects/~Physics/madminer/examples/example4_systematics_DY/data/mg_processes/DY_sys/\n",
      "13:58 madminer.core        INFO    Run 17\n",
      "13:58 madminer.core        INFO      Sampling from benchmark: sm\n",
      "13:58 madminer.core        INFO      Original run card:       /Users/dpappadopulo/Projects/~Physics/madminer/examples/example4_systematics_DY/cards/run_cards//run_card_17.dat\n",
      "13:58 madminer.core        INFO      Original Pythia8 card:   None\n",
      "13:58 madminer.core        INFO      Copied run card:         /madminer/cards/run_card_17.dat\n",
      "13:58 madminer.core        INFO      Copied Pythia8 card:     None\n",
      "13:58 madminer.core        INFO      Param card:              /madminer/cards/param_card_17.dat\n",
      "13:58 madminer.core        INFO      Reweight card:           /madminer/cards/reweight_card_17.dat\n",
      "13:58 madminer.core        INFO      Log file:                run_17.log\n",
      "13:58 madminer.core        INFO    Creating param and reweight cards in /Users/dpappadopulo/Projects/~Physics/madminer/examples/example4_systematics_DY/data/mg_processes/DY_sys///madminer/cards/param_card_17.dat, /Users/dpappadopulo/Projects/~Physics/madminer/examples/example4_systematics_DY/data/mg_processes/DY_sys///madminer/cards/reweight_card_17.dat\n",
      "13:58 madminer.utils.inter INFO    Starting MadGraph and Pythia in /Users/dpappadopulo/Projects/~Physics/madminer/examples/example4_systematics_DY/data/mg_processes/DY_sys/\n",
      "13:58 madminer.core        INFO    Finished running MadGraph! Please check that events were succesfully generated in the following folders:\n",
      "\n",
      "/Users/dpappadopulo/Projects/~Physics/madminer/examples/example4_systematics_DY/data/mg_processes/DY_sys//Events/run_01/n/Users/dpappadopulo/Projects/~Physics/madminer/examples/example4_systematics_DY/data/mg_processes/DY_sys//Events/run_02/n/Users/dpappadopulo/Projects/~Physics/madminer/examples/example4_systematics_DY/data/mg_processes/DY_sys//Events/run_03/n/Users/dpappadopulo/Projects/~Physics/madminer/examples/example4_systematics_DY/data/mg_processes/DY_sys//Events/run_04/n/Users/dpappadopulo/Projects/~Physics/madminer/examples/example4_systematics_DY/data/mg_processes/DY_sys//Events/run_05/n/Users/dpappadopulo/Projects/~Physics/madminer/examples/example4_systematics_DY/data/mg_processes/DY_sys//Events/run_06/n/Users/dpappadopulo/Projects/~Physics/madminer/examples/example4_systematics_DY/data/mg_processes/DY_sys//Events/run_07/n/Users/dpappadopulo/Projects/~Physics/madminer/examples/example4_systematics_DY/data/mg_processes/DY_sys//Events/run_08/n/Users/dpappadopulo/Projects/~Physics/madminer/examples/example4_systematics_DY/data/mg_processes/DY_sys//Events/run_09/n/Users/dpappadopulo/Projects/~Physics/madminer/examples/example4_systematics_DY/data/mg_processes/DY_sys//Events/run_10/n/Users/dpappadopulo/Projects/~Physics/madminer/examples/example4_systematics_DY/data/mg_processes/DY_sys//Events/run_11/n/Users/dpappadopulo/Projects/~Physics/madminer/examples/example4_systematics_DY/data/mg_processes/DY_sys//Events/run_12/n/Users/dpappadopulo/Projects/~Physics/madminer/examples/example4_systematics_DY/data/mg_processes/DY_sys//Events/run_13/n/Users/dpappadopulo/Projects/~Physics/madminer/examples/example4_systematics_DY/data/mg_processes/DY_sys//Events/run_14/n/Users/dpappadopulo/Projects/~Physics/madminer/examples/example4_systematics_DY/data/mg_processes/DY_sys//Events/run_15/n/Users/dpappadopulo/Projects/~Physics/madminer/examples/example4_systematics_DY/data/mg_processes/DY_sys//Events/run_16/n/Users/dpappadopulo/Projects/~Physics/madminer/examples/example4_systematics_DY/data/mg_processes/DY_sys//Events/run_17/n/Users/dpappadopulo/Projects/~Physics/madminer/examples/example4_systematics_DY/data/mg_processes/DY_sys//Events/run_18\n",
      "\n",
      "\n"
     ]
    }
   ],
   "source": [
    "miner.run_multiple(\n",
    "    mg_directory=mg_dir,\n",
    "    proc_card_file=card_dir + 'proc_card_mg5.dat',\n",
    "    param_card_template_file=card_dir + 'param_card.dat',\n",
    "    pythia8_card_file=None,\n",
    "    run_card_files=run_card_filenames,\n",
    "    mg_process_directory=mg_process_dir,\n",
    "    ufo_model_directory=ufo_model_dir,\n",
    "    temp_directory=temp_dir,\n",
    "    sample_benchmarks=benchmarks,\n",
    "    is_background=False,\n",
    "    only_prepare_script=False,\n",
    "    #initial_command='source activate python2',\n",
    "    log_directory=log_dir\n",
    ")"
   ]
  },
  {
   "cell_type": "markdown",
   "metadata": {},
   "source": [
    "## 3. Extract Parton Level Observables / Weights "
   ]
  },
  {
   "cell_type": "markdown",
   "metadata": {},
   "source": [
    "### 3a) Setting up LHEProcessor "
   ]
  },
  {
   "cell_type": "markdown",
   "metadata": {},
   "source": [
    "We first initialize the the LHEProcessor and add the LHE file"
   ]
  },
  {
   "cell_type": "code",
   "execution_count": 25,
   "metadata": {},
   "outputs": [
    {
     "data": {
      "text/plain": [
       "[u'/Users/dpappadopulo/Projects/~Physics/madminer/examples/example4_systematics_DY/data/mg_processes/DY_sys/Events/run_01/',\n",
       " u'/Users/dpappadopulo/Projects/~Physics/madminer/examples/example4_systematics_DY/data/mg_processes/DY_sys/Events/run_02/',\n",
       " u'/Users/dpappadopulo/Projects/~Physics/madminer/examples/example4_systematics_DY/data/mg_processes/DY_sys/Events/run_03/',\n",
       " u'/Users/dpappadopulo/Projects/~Physics/madminer/examples/example4_systematics_DY/data/mg_processes/DY_sys/Events/run_04/',\n",
       " u'/Users/dpappadopulo/Projects/~Physics/madminer/examples/example4_systematics_DY/data/mg_processes/DY_sys/Events/run_05/',\n",
       " u'/Users/dpappadopulo/Projects/~Physics/madminer/examples/example4_systematics_DY/data/mg_processes/DY_sys/Events/run_06/',\n",
       " u'/Users/dpappadopulo/Projects/~Physics/madminer/examples/example4_systematics_DY/data/mg_processes/DY_sys/Events/run_07/',\n",
       " u'/Users/dpappadopulo/Projects/~Physics/madminer/examples/example4_systematics_DY/data/mg_processes/DY_sys/Events/run_08/',\n",
       " u'/Users/dpappadopulo/Projects/~Physics/madminer/examples/example4_systematics_DY/data/mg_processes/DY_sys/Events/run_09/',\n",
       " u'/Users/dpappadopulo/Projects/~Physics/madminer/examples/example4_systematics_DY/data/mg_processes/DY_sys/Events/run_10/',\n",
       " u'/Users/dpappadopulo/Projects/~Physics/madminer/examples/example4_systematics_DY/data/mg_processes/DY_sys/Events/run_11/',\n",
       " u'/Users/dpappadopulo/Projects/~Physics/madminer/examples/example4_systematics_DY/data/mg_processes/DY_sys/Events/run_12/',\n",
       " u'/Users/dpappadopulo/Projects/~Physics/madminer/examples/example4_systematics_DY/data/mg_processes/DY_sys/Events/run_13/',\n",
       " u'/Users/dpappadopulo/Projects/~Physics/madminer/examples/example4_systematics_DY/data/mg_processes/DY_sys/Events/run_14/',\n",
       " u'/Users/dpappadopulo/Projects/~Physics/madminer/examples/example4_systematics_DY/data/mg_processes/DY_sys/Events/run_15/',\n",
       " u'/Users/dpappadopulo/Projects/~Physics/madminer/examples/example4_systematics_DY/data/mg_processes/DY_sys/Events/run_16/',\n",
       " u'/Users/dpappadopulo/Projects/~Physics/madminer/examples/example4_systematics_DY/data/mg_processes/DY_sys/Events/run_17/',\n",
       " u'/Users/dpappadopulo/Projects/~Physics/madminer/examples/example4_systematics_DY/data/mg_processes/DY_sys/Events/run_18/']"
      ]
     },
     "execution_count": 25,
     "metadata": {},
     "output_type": "execute_result"
    }
   ],
   "source": [
    "run_folders"
   ]
  },
  {
   "cell_type": "code",
   "execution_count": 16,
   "metadata": {},
   "outputs": [
    {
     "name": "stderr",
     "output_type": "stream",
     "text": [
      "13:59 madminer.utils.inter DEBUG   HDF5 file does not contain is_reference field.\n",
      "13:59 madminer.lhe         DEBUG   Adding event sample /Users/dpappadopulo/Projects/~Physics/madminer/examples/example4_systematics_DY/data/mg_processes/DY_sys/Events/run_01/unweighted_events.lhe.gz\n",
      "13:59 madminer.lhe         DEBUG   Adding event sample /Users/dpappadopulo/Projects/~Physics/madminer/examples/example4_systematics_DY/data/mg_processes/DY_sys/Events/run_02/unweighted_events.lhe.gz\n",
      "13:59 madminer.lhe         DEBUG   Adding event sample /Users/dpappadopulo/Projects/~Physics/madminer/examples/example4_systematics_DY/data/mg_processes/DY_sys/Events/run_03/unweighted_events.lhe.gz\n",
      "13:59 madminer.lhe         DEBUG   Adding event sample /Users/dpappadopulo/Projects/~Physics/madminer/examples/example4_systematics_DY/data/mg_processes/DY_sys/Events/run_04/unweighted_events.lhe.gz\n",
      "13:59 madminer.lhe         DEBUG   Adding event sample /Users/dpappadopulo/Projects/~Physics/madminer/examples/example4_systematics_DY/data/mg_processes/DY_sys/Events/run_05/unweighted_events.lhe.gz\n",
      "13:59 madminer.lhe         DEBUG   Adding event sample /Users/dpappadopulo/Projects/~Physics/madminer/examples/example4_systematics_DY/data/mg_processes/DY_sys/Events/run_06/unweighted_events.lhe.gz\n",
      "13:59 madminer.lhe         DEBUG   Adding event sample /Users/dpappadopulo/Projects/~Physics/madminer/examples/example4_systematics_DY/data/mg_processes/DY_sys/Events/run_07/unweighted_events.lhe.gz\n",
      "13:59 madminer.lhe         DEBUG   Adding event sample /Users/dpappadopulo/Projects/~Physics/madminer/examples/example4_systematics_DY/data/mg_processes/DY_sys/Events/run_08/unweighted_events.lhe.gz\n",
      "13:59 madminer.lhe         DEBUG   Adding event sample /Users/dpappadopulo/Projects/~Physics/madminer/examples/example4_systematics_DY/data/mg_processes/DY_sys/Events/run_09/unweighted_events.lhe.gz\n",
      "13:59 madminer.lhe         DEBUG   Adding event sample /Users/dpappadopulo/Projects/~Physics/madminer/examples/example4_systematics_DY/data/mg_processes/DY_sys/Events/run_10/unweighted_events.lhe.gz\n",
      "13:59 madminer.lhe         DEBUG   Adding event sample /Users/dpappadopulo/Projects/~Physics/madminer/examples/example4_systematics_DY/data/mg_processes/DY_sys/Events/run_11/unweighted_events.lhe.gz\n",
      "13:59 madminer.lhe         DEBUG   Adding event sample /Users/dpappadopulo/Projects/~Physics/madminer/examples/example4_systematics_DY/data/mg_processes/DY_sys/Events/run_12/unweighted_events.lhe.gz\n",
      "13:59 madminer.lhe         DEBUG   Adding event sample /Users/dpappadopulo/Projects/~Physics/madminer/examples/example4_systematics_DY/data/mg_processes/DY_sys/Events/run_13/unweighted_events.lhe.gz\n",
      "13:59 madminer.lhe         DEBUG   Adding event sample /Users/dpappadopulo/Projects/~Physics/madminer/examples/example4_systematics_DY/data/mg_processes/DY_sys/Events/run_14/unweighted_events.lhe.gz\n",
      "13:59 madminer.lhe         DEBUG   Adding event sample /Users/dpappadopulo/Projects/~Physics/madminer/examples/example4_systematics_DY/data/mg_processes/DY_sys/Events/run_15/unweighted_events.lhe.gz\n",
      "13:59 madminer.lhe         DEBUG   Adding event sample /Users/dpappadopulo/Projects/~Physics/madminer/examples/example4_systematics_DY/data/mg_processes/DY_sys/Events/run_16/unweighted_events.lhe.gz\n",
      "13:59 madminer.lhe         DEBUG   Adding event sample /Users/dpappadopulo/Projects/~Physics/madminer/examples/example4_systematics_DY/data/mg_processes/DY_sys/Events/run_17/unweighted_events.lhe.gz\n",
      "13:59 madminer.lhe         DEBUG   Adding event sample /Users/dpappadopulo/Projects/~Physics/madminer/examples/example4_systematics_DY/data/mg_processes/DY_sys/Events/run_18/unweighted_events.lhe.gz\n"
     ]
    }
   ],
   "source": [
    "lhep = LHEProcessor(sample_dir + 'madminer_DY.h5')\n",
    "\n",
    "run_folders = [base_dir + 'data/mg_processes/DY_sys/Events/run_{:02d}/'.format(i) for i in range(1,19)]\n",
    "\n",
    "for folder in run_folders:\n",
    "    lhep.add_sample(\n",
    "        folder + 'unweighted_events.lhe.gz',\n",
    "        sampled_from_benchmark=\"sm\",\n",
    "        k_factor=1.0\n",
    "    )"
   ]
  },
  {
   "cell_type": "markdown",
   "metadata": {},
   "source": [
    "### 3b) Smearing Functions"
   ]
  },
  {
   "cell_type": "markdown",
   "metadata": {},
   "source": [
    "Instead of performing a proper proper shower and detector simulation, we can simulate smearing effects at parton level smearing through smearing functions. Here we will assume a simple 10% uncertainty on the tau energy measurements and a $\\pm 0.05$ smearing for tau $\\eta$ and $\\phi$. The transverse momenta of the taus are then derived from the smeared energy and the on-shell condition for the quarks (this is what `pt_resolution_abs=None` does). The leptons from the Z-boson decay are assumed to be measured perfectly (otherwise we'd have to call `set_smearing` another time with `pdgis=[-13 13]`)."
   ]
  },
  {
   "cell_type": "code",
   "execution_count": 13,
   "metadata": {},
   "outputs": [],
   "source": [
    "\"\"\"\n",
    "lhep.set_smearing(\n",
    "    pdgids=[-15, 15],   \n",
    "    energy_resolution_abs=0.05,\n",
    "    energy_resolution_rel=0,\n",
    "    pt_resolution_abs=None,\n",
    "    pt_resolution_rel=None,\n",
    "    eta_resolution_abs=0.02,\n",
    "    eta_resolution_rel=0,\n",
    "    phi_resolution_abs=0.02,\n",
    "    phi_resolution_rel=0,\n",
    ")\n",
    "\"\"\""
   ]
  },
  {
   "cell_type": "markdown",
   "metadata": {},
   "source": [
    "### 3c) Add Observables and Cuts"
   ]
  },
  {
   "cell_type": "markdown",
   "metadata": {},
   "source": [
    "We will now add some observables.  In the expression string, you can use the terms `j[i]`, `e[i]`, `mu[i]`, `tau[i]`,  `a[i]`, `met`, where the indices `i` refer to a ordering by the transverse momentum. In addition, you can use `p[i]`, which denotes the `i`-th particle in the order given in the LHE sample (which is the order in which the final-state particles where defined in MadGraph).\n",
    "\n",
    "Here we on a small set of higher-level observables: "
   ]
  },
  {
   "cell_type": "code",
   "execution_count": 17,
   "metadata": {},
   "outputs": [
    {
     "name": "stderr",
     "output_type": "stream",
     "text": [
      "13:59 madminer.lhe         DEBUG   Adding required observable mll = (mu[0]+mu[1]).m\n",
      "13:59 madminer.lhe         DEBUG   Adding required observable pt_mu = p[0].pt\n",
      "13:59 madminer.lhe         DEBUG   Adding required observable eta_mu = mu[0].eta\n"
     ]
    }
   ],
   "source": [
    "lhep.add_observable('mll', '(mu[0]+mu[1]).m',required=True)\n",
    "lhep.add_observable('pt_mu', 'p[0].pt',required=True)\n",
    "lhep.add_observable('eta_mu', 'mu[0].eta',required=True)"
   ]
  },
  {
   "cell_type": "markdown",
   "metadata": {},
   "source": [
    "We can also add cuts, again in parse-able strings. In addition to the objects discussed above, they can contain the observables. As example, we consider cuts on the invariant di-lepton / di-tau mass:"
   ]
  },
  {
   "cell_type": "code",
   "execution_count": 15,
   "metadata": {},
   "outputs": [],
   "source": [
    "\"\"\"\n",
    "lhep.add_cut('m_Z > 86')\n",
    "lhep.add_cut('m_Z < 96')\n",
    "lhep.add_cut('(tau[0]+tau[1]).m > 120')\n",
    "lhep.add_cut('(tau[0]+tau[1]).m < 130')\n",
    "\"\"\""
   ]
  },
  {
   "cell_type": "markdown",
   "metadata": {},
   "source": [
    "### 3d) Run and Save "
   ]
  },
  {
   "cell_type": "markdown",
   "metadata": {},
   "source": [
    "We can now run `analyse_samples` to calculate all observables from the LHE file(s) generated before, apply the smearing, and check which events pass the cuts:"
   ]
  },
  {
   "cell_type": "code",
   "execution_count": 18,
   "metadata": {},
   "outputs": [
    {
     "name": "stderr",
     "output_type": "stream",
     "text": [
      "13:59 madminer.lhe         INFO    Analysing LHE sample /Users/dpappadopulo/Projects/~Physics/madminer/examples/example4_systematics_DY/data/mg_processes/DY_sys/Events/run_01/unweighted_events.lhe.gz\n",
      "13:59 madminer.lhe         DEBUG   Extracting nuisance parameter definitions from LHE file\n",
      "13:59 madminer.utils.inter DEBUG   Parsing nuisance parameter setup from LHE file at /Users/dpappadopulo/Projects/~Physics/madminer/examples/example4_systematics_DY/data/mg_processes/DY_sys/Events/run_01/unweighted_events.lhe.gz\n",
      "13:59 madminer.utils.inter DEBUG   Systematics setup: OrderedDict([(u'pdf', u'90900')])\n",
      "13:59 madminer.utils.inter DEBUG   Found physics reweighting weight group mg_reweighting\n",
      "13:59 madminer.utils.inter WARNING Did not find benchmarks representing PDF uncertainties in LHE file!\n",
      "13:59 madminer.lhe         DEBUG   Found 0 nuisance parameters with matching benchmarks:\n",
      "13:59 madminer.utils.inter DEBUG   Parsing LHE file /Users/dpappadopulo/Projects/~Physics/madminer/examples/example4_systematics_DY/data/mg_processes/DY_sys/Events/run_01/unweighted_events.lhe.gz\n",
      "13:59 madminer.utils.inter DEBUG   Parsing header and events as XML with cElementTree\n",
      "13:59 madminer.utils.inter DEBUG   Found entry event_norm = sum in LHE header. Interpreting this as weight_norm_is_average = False.\n",
      "13:59 madminer.utils.inter INFO      1000 events pass everything\n",
      "13:59 madminer.utils.inter INFO      Out of these, 0 events contain negative weights\n",
      "13:59 madminer.lhe         DEBUG   Found weights [u'sm', 'morphing_basis_vector_1', 'morphing_basis_vector_2', 'morphing_basis_vector_3', 'morphing_basis_vector_4', 'morphing_basis_vector_5'] in LHE file\n",
      "13:59 madminer.lhe         DEBUG   Found 1000 events\n",
      "13:59 madminer.lhe         INFO    Analysing LHE sample /Users/dpappadopulo/Projects/~Physics/madminer/examples/example4_systematics_DY/data/mg_processes/DY_sys/Events/run_02/unweighted_events.lhe.gz\n",
      "13:59 madminer.lhe         DEBUG   Extracting nuisance parameter definitions from LHE file\n",
      "13:59 madminer.utils.inter DEBUG   Parsing nuisance parameter setup from LHE file at /Users/dpappadopulo/Projects/~Physics/madminer/examples/example4_systematics_DY/data/mg_processes/DY_sys/Events/run_02/unweighted_events.lhe.gz\n",
      "13:59 madminer.utils.inter DEBUG   Systematics setup: OrderedDict([(u'pdf', u'90900')])\n",
      "13:59 madminer.utils.inter DEBUG   Found physics reweighting weight group mg_reweighting\n",
      "13:59 madminer.utils.inter WARNING Did not find benchmarks representing PDF uncertainties in LHE file!\n",
      "13:59 madminer.lhe         DEBUG   Found 0 nuisance parameters with matching benchmarks:\n",
      "13:59 madminer.utils.inter DEBUG   Parsing LHE file /Users/dpappadopulo/Projects/~Physics/madminer/examples/example4_systematics_DY/data/mg_processes/DY_sys/Events/run_02/unweighted_events.lhe.gz\n",
      "13:59 madminer.utils.inter DEBUG   Parsing header and events as XML with cElementTree\n",
      "13:59 madminer.utils.inter DEBUG   Found entry event_norm = sum in LHE header. Interpreting this as weight_norm_is_average = False.\n",
      "13:59 madminer.utils.inter INFO      1000 events pass everything\n",
      "13:59 madminer.utils.inter INFO      Out of these, 0 events contain negative weights\n",
      "13:59 madminer.lhe         DEBUG   Found weights [u'sm', 'morphing_basis_vector_1', 'morphing_basis_vector_2', 'morphing_basis_vector_3', 'morphing_basis_vector_4', 'morphing_basis_vector_5'] in LHE file\n",
      "13:59 madminer.lhe         DEBUG   Found 1000 events\n",
      "13:59 madminer.lhe         INFO    Analysing LHE sample /Users/dpappadopulo/Projects/~Physics/madminer/examples/example4_systematics_DY/data/mg_processes/DY_sys/Events/run_03/unweighted_events.lhe.gz\n",
      "13:59 madminer.lhe         DEBUG   Extracting nuisance parameter definitions from LHE file\n",
      "13:59 madminer.utils.inter DEBUG   Parsing nuisance parameter setup from LHE file at /Users/dpappadopulo/Projects/~Physics/madminer/examples/example4_systematics_DY/data/mg_processes/DY_sys/Events/run_03/unweighted_events.lhe.gz\n",
      "13:59 madminer.utils.inter DEBUG   Systematics setup: OrderedDict([(u'pdf', u'90900')])\n",
      "13:59 madminer.utils.inter DEBUG   Found physics reweighting weight group mg_reweighting\n",
      "13:59 madminer.utils.inter WARNING Did not find benchmarks representing PDF uncertainties in LHE file!\n",
      "13:59 madminer.lhe         DEBUG   Found 0 nuisance parameters with matching benchmarks:\n",
      "13:59 madminer.utils.inter DEBUG   Parsing LHE file /Users/dpappadopulo/Projects/~Physics/madminer/examples/example4_systematics_DY/data/mg_processes/DY_sys/Events/run_03/unweighted_events.lhe.gz\n",
      "13:59 madminer.utils.inter DEBUG   Parsing header and events as XML with cElementTree\n",
      "13:59 madminer.utils.inter DEBUG   Found entry event_norm = sum in LHE header. Interpreting this as weight_norm_is_average = False.\n",
      "13:59 madminer.utils.inter INFO      1000 events pass everything\n",
      "13:59 madminer.utils.inter INFO      Out of these, 0 events contain negative weights\n",
      "13:59 madminer.lhe         DEBUG   Found weights [u'sm', 'morphing_basis_vector_1', 'morphing_basis_vector_2', 'morphing_basis_vector_3', 'morphing_basis_vector_4', 'morphing_basis_vector_5'] in LHE file\n",
      "13:59 madminer.lhe         DEBUG   Found 1000 events\n",
      "13:59 madminer.lhe         INFO    Analysing LHE sample /Users/dpappadopulo/Projects/~Physics/madminer/examples/example4_systematics_DY/data/mg_processes/DY_sys/Events/run_04/unweighted_events.lhe.gz\n",
      "13:59 madminer.lhe         DEBUG   Extracting nuisance parameter definitions from LHE file\n",
      "13:59 madminer.utils.inter DEBUG   Parsing nuisance parameter setup from LHE file at /Users/dpappadopulo/Projects/~Physics/madminer/examples/example4_systematics_DY/data/mg_processes/DY_sys/Events/run_04/unweighted_events.lhe.gz\n",
      "13:59 madminer.utils.inter DEBUG   Systematics setup: OrderedDict([(u'pdf', u'90900')])\n",
      "13:59 madminer.utils.inter DEBUG   Found physics reweighting weight group mg_reweighting\n",
      "13:59 madminer.utils.inter WARNING Did not find benchmarks representing PDF uncertainties in LHE file!\n",
      "13:59 madminer.lhe         DEBUG   Found 0 nuisance parameters with matching benchmarks:\n",
      "13:59 madminer.utils.inter DEBUG   Parsing LHE file /Users/dpappadopulo/Projects/~Physics/madminer/examples/example4_systematics_DY/data/mg_processes/DY_sys/Events/run_04/unweighted_events.lhe.gz\n",
      "13:59 madminer.utils.inter DEBUG   Parsing header and events as XML with cElementTree\n",
      "13:59 madminer.utils.inter DEBUG   Found entry event_norm = sum in LHE header. Interpreting this as weight_norm_is_average = False.\n",
      "13:59 madminer.utils.inter INFO      1000 events pass everything\n",
      "13:59 madminer.utils.inter INFO      Out of these, 0 events contain negative weights\n",
      "13:59 madminer.lhe         DEBUG   Found weights [u'sm', 'morphing_basis_vector_1', 'morphing_basis_vector_2', 'morphing_basis_vector_3', 'morphing_basis_vector_4', 'morphing_basis_vector_5'] in LHE file\n",
      "13:59 madminer.lhe         DEBUG   Found 1000 events\n",
      "13:59 madminer.lhe         INFO    Analysing LHE sample /Users/dpappadopulo/Projects/~Physics/madminer/examples/example4_systematics_DY/data/mg_processes/DY_sys/Events/run_05/unweighted_events.lhe.gz\n",
      "13:59 madminer.lhe         DEBUG   Extracting nuisance parameter definitions from LHE file\n",
      "13:59 madminer.utils.inter DEBUG   Parsing nuisance parameter setup from LHE file at /Users/dpappadopulo/Projects/~Physics/madminer/examples/example4_systematics_DY/data/mg_processes/DY_sys/Events/run_05/unweighted_events.lhe.gz\n",
      "13:59 madminer.utils.inter DEBUG   Systematics setup: OrderedDict([(u'pdf', u'90900')])\n",
      "13:59 madminer.utils.inter DEBUG   Found physics reweighting weight group mg_reweighting\n",
      "13:59 madminer.utils.inter WARNING Did not find benchmarks representing PDF uncertainties in LHE file!\n",
      "13:59 madminer.lhe         DEBUG   Found 0 nuisance parameters with matching benchmarks:\n",
      "13:59 madminer.utils.inter DEBUG   Parsing LHE file /Users/dpappadopulo/Projects/~Physics/madminer/examples/example4_systematics_DY/data/mg_processes/DY_sys/Events/run_05/unweighted_events.lhe.gz\n",
      "13:59 madminer.utils.inter DEBUG   Parsing header and events as XML with cElementTree\n",
      "13:59 madminer.utils.inter DEBUG   Found entry event_norm = sum in LHE header. Interpreting this as weight_norm_is_average = False.\n",
      "13:59 madminer.utils.inter INFO      1000 events pass everything\n",
      "13:59 madminer.utils.inter INFO      Out of these, 0 events contain negative weights\n",
      "13:59 madminer.lhe         DEBUG   Found weights [u'sm', 'morphing_basis_vector_1', 'morphing_basis_vector_2', 'morphing_basis_vector_3', 'morphing_basis_vector_4', 'morphing_basis_vector_5'] in LHE file\n",
      "13:59 madminer.lhe         DEBUG   Found 1000 events\n",
      "13:59 madminer.lhe         INFO    Analysing LHE sample /Users/dpappadopulo/Projects/~Physics/madminer/examples/example4_systematics_DY/data/mg_processes/DY_sys/Events/run_06/unweighted_events.lhe.gz\n",
      "13:59 madminer.lhe         DEBUG   Extracting nuisance parameter definitions from LHE file\n",
      "13:59 madminer.utils.inter DEBUG   Parsing nuisance parameter setup from LHE file at /Users/dpappadopulo/Projects/~Physics/madminer/examples/example4_systematics_DY/data/mg_processes/DY_sys/Events/run_06/unweighted_events.lhe.gz\n",
      "13:59 madminer.utils.inter DEBUG   Systematics setup: OrderedDict([(u'pdf', u'90900')])\n",
      "13:59 madminer.utils.inter DEBUG   Found physics reweighting weight group mg_reweighting\n",
      "13:59 madminer.utils.inter WARNING Did not find benchmarks representing PDF uncertainties in LHE file!\n",
      "13:59 madminer.lhe         DEBUG   Found 0 nuisance parameters with matching benchmarks:\n",
      "13:59 madminer.utils.inter DEBUG   Parsing LHE file /Users/dpappadopulo/Projects/~Physics/madminer/examples/example4_systematics_DY/data/mg_processes/DY_sys/Events/run_06/unweighted_events.lhe.gz\n",
      "13:59 madminer.utils.inter DEBUG   Parsing header and events as XML with cElementTree\n",
      "13:59 madminer.utils.inter DEBUG   Found entry event_norm = sum in LHE header. Interpreting this as weight_norm_is_average = False.\n",
      "13:59 madminer.utils.inter INFO      1000 events pass everything\n",
      "13:59 madminer.utils.inter INFO      Out of these, 0 events contain negative weights\n",
      "13:59 madminer.lhe         DEBUG   Found weights [u'sm', 'morphing_basis_vector_1', 'morphing_basis_vector_2', 'morphing_basis_vector_3', 'morphing_basis_vector_4', 'morphing_basis_vector_5'] in LHE file\n",
      "13:59 madminer.lhe         DEBUG   Found 1000 events\n",
      "13:59 madminer.lhe         INFO    Analysing LHE sample /Users/dpappadopulo/Projects/~Physics/madminer/examples/example4_systematics_DY/data/mg_processes/DY_sys/Events/run_07/unweighted_events.lhe.gz\n",
      "13:59 madminer.lhe         DEBUG   Extracting nuisance parameter definitions from LHE file\n",
      "13:59 madminer.utils.inter DEBUG   Parsing nuisance parameter setup from LHE file at /Users/dpappadopulo/Projects/~Physics/madminer/examples/example4_systematics_DY/data/mg_processes/DY_sys/Events/run_07/unweighted_events.lhe.gz\n",
      "13:59 madminer.utils.inter DEBUG   Systematics setup: OrderedDict([(u'pdf', u'90900')])\n",
      "13:59 madminer.utils.inter DEBUG   Found physics reweighting weight group mg_reweighting\n",
      "13:59 madminer.utils.inter WARNING Did not find benchmarks representing PDF uncertainties in LHE file!\n",
      "13:59 madminer.lhe         DEBUG   Found 0 nuisance parameters with matching benchmarks:\n",
      "13:59 madminer.utils.inter DEBUG   Parsing LHE file /Users/dpappadopulo/Projects/~Physics/madminer/examples/example4_systematics_DY/data/mg_processes/DY_sys/Events/run_07/unweighted_events.lhe.gz\n",
      "13:59 madminer.utils.inter DEBUG   Parsing header and events as XML with cElementTree\n",
      "13:59 madminer.utils.inter DEBUG   Found entry event_norm = sum in LHE header. Interpreting this as weight_norm_is_average = False.\n",
      "13:59 madminer.utils.inter INFO      1000 events pass everything\n",
      "13:59 madminer.utils.inter INFO      Out of these, 0 events contain negative weights\n",
      "13:59 madminer.lhe         DEBUG   Found weights [u'sm', 'morphing_basis_vector_1', 'morphing_basis_vector_2', 'morphing_basis_vector_3', 'morphing_basis_vector_4', 'morphing_basis_vector_5'] in LHE file\n",
      "13:59 madminer.lhe         DEBUG   Found 1000 events\n",
      "13:59 madminer.lhe         INFO    Analysing LHE sample /Users/dpappadopulo/Projects/~Physics/madminer/examples/example4_systematics_DY/data/mg_processes/DY_sys/Events/run_08/unweighted_events.lhe.gz\n",
      "13:59 madminer.lhe         DEBUG   Extracting nuisance parameter definitions from LHE file\n",
      "13:59 madminer.utils.inter DEBUG   Parsing nuisance parameter setup from LHE file at /Users/dpappadopulo/Projects/~Physics/madminer/examples/example4_systematics_DY/data/mg_processes/DY_sys/Events/run_08/unweighted_events.lhe.gz\n",
      "13:59 madminer.utils.inter DEBUG   Systematics setup: OrderedDict([(u'pdf', u'90900')])\n",
      "13:59 madminer.utils.inter DEBUG   Found physics reweighting weight group mg_reweighting\n",
      "13:59 madminer.utils.inter WARNING Did not find benchmarks representing PDF uncertainties in LHE file!\n",
      "13:59 madminer.lhe         DEBUG   Found 0 nuisance parameters with matching benchmarks:\n",
      "13:59 madminer.utils.inter DEBUG   Parsing LHE file /Users/dpappadopulo/Projects/~Physics/madminer/examples/example4_systematics_DY/data/mg_processes/DY_sys/Events/run_08/unweighted_events.lhe.gz\n",
      "13:59 madminer.utils.inter DEBUG   Parsing header and events as XML with cElementTree\n",
      "13:59 madminer.utils.inter DEBUG   Found entry event_norm = sum in LHE header. Interpreting this as weight_norm_is_average = False.\n",
      "13:59 madminer.utils.inter INFO      1000 events pass everything\n",
      "13:59 madminer.utils.inter INFO      Out of these, 0 events contain negative weights\n",
      "13:59 madminer.lhe         DEBUG   Found weights [u'sm', 'morphing_basis_vector_1', 'morphing_basis_vector_2', 'morphing_basis_vector_3', 'morphing_basis_vector_4', 'morphing_basis_vector_5'] in LHE file\n",
      "13:59 madminer.lhe         DEBUG   Found 1000 events\n",
      "13:59 madminer.lhe         INFO    Analysing LHE sample /Users/dpappadopulo/Projects/~Physics/madminer/examples/example4_systematics_DY/data/mg_processes/DY_sys/Events/run_09/unweighted_events.lhe.gz\n",
      "13:59 madminer.lhe         DEBUG   Extracting nuisance parameter definitions from LHE file\n",
      "13:59 madminer.utils.inter DEBUG   Parsing nuisance parameter setup from LHE file at /Users/dpappadopulo/Projects/~Physics/madminer/examples/example4_systematics_DY/data/mg_processes/DY_sys/Events/run_09/unweighted_events.lhe.gz\n",
      "13:59 madminer.utils.inter DEBUG   Systematics setup: OrderedDict([(u'pdf', u'90900')])\n",
      "13:59 madminer.utils.inter DEBUG   Found physics reweighting weight group mg_reweighting\n",
      "13:59 madminer.utils.inter WARNING Did not find benchmarks representing PDF uncertainties in LHE file!\n",
      "13:59 madminer.lhe         DEBUG   Found 0 nuisance parameters with matching benchmarks:\n",
      "13:59 madminer.utils.inter DEBUG   Parsing LHE file /Users/dpappadopulo/Projects/~Physics/madminer/examples/example4_systematics_DY/data/mg_processes/DY_sys/Events/run_09/unweighted_events.lhe.gz\n",
      "13:59 madminer.utils.inter DEBUG   Parsing header and events as XML with cElementTree\n",
      "13:59 madminer.utils.inter DEBUG   Found entry event_norm = sum in LHE header. Interpreting this as weight_norm_is_average = False.\n",
      "13:59 madminer.utils.inter INFO      1000 events pass everything\n",
      "13:59 madminer.utils.inter INFO      Out of these, 0 events contain negative weights\n",
      "13:59 madminer.lhe         DEBUG   Found weights [u'sm', 'morphing_basis_vector_1', 'morphing_basis_vector_2', 'morphing_basis_vector_3', 'morphing_basis_vector_4', 'morphing_basis_vector_5'] in LHE file\n",
      "13:59 madminer.lhe         DEBUG   Found 1000 events\n",
      "13:59 madminer.lhe         INFO    Analysing LHE sample /Users/dpappadopulo/Projects/~Physics/madminer/examples/example4_systematics_DY/data/mg_processes/DY_sys/Events/run_10/unweighted_events.lhe.gz\n",
      "13:59 madminer.lhe         DEBUG   Extracting nuisance parameter definitions from LHE file\n",
      "13:59 madminer.utils.inter DEBUG   Parsing nuisance parameter setup from LHE file at /Users/dpappadopulo/Projects/~Physics/madminer/examples/example4_systematics_DY/data/mg_processes/DY_sys/Events/run_10/unweighted_events.lhe.gz\n",
      "13:59 madminer.utils.inter DEBUG   Systematics setup: OrderedDict([(u'pdf', u'90900')])\n",
      "13:59 madminer.utils.inter DEBUG   Found physics reweighting weight group mg_reweighting\n",
      "13:59 madminer.utils.inter WARNING Did not find benchmarks representing PDF uncertainties in LHE file!\n",
      "13:59 madminer.lhe         DEBUG   Found 0 nuisance parameters with matching benchmarks:\n",
      "13:59 madminer.utils.inter DEBUG   Parsing LHE file /Users/dpappadopulo/Projects/~Physics/madminer/examples/example4_systematics_DY/data/mg_processes/DY_sys/Events/run_10/unweighted_events.lhe.gz\n",
      "13:59 madminer.utils.inter DEBUG   Parsing header and events as XML with cElementTree\n",
      "13:59 madminer.utils.inter DEBUG   Found entry event_norm = sum in LHE header. Interpreting this as weight_norm_is_average = False.\n",
      "13:59 madminer.utils.inter INFO      1000 events pass everything\n",
      "13:59 madminer.utils.inter INFO      Out of these, 0 events contain negative weights\n",
      "13:59 madminer.lhe         DEBUG   Found weights [u'sm', 'morphing_basis_vector_1', 'morphing_basis_vector_2', 'morphing_basis_vector_3', 'morphing_basis_vector_4', 'morphing_basis_vector_5'] in LHE file\n",
      "13:59 madminer.lhe         DEBUG   Found 1000 events\n",
      "13:59 madminer.lhe         INFO    Analysing LHE sample /Users/dpappadopulo/Projects/~Physics/madminer/examples/example4_systematics_DY/data/mg_processes/DY_sys/Events/run_11/unweighted_events.lhe.gz\n",
      "13:59 madminer.lhe         DEBUG   Extracting nuisance parameter definitions from LHE file\n",
      "13:59 madminer.utils.inter DEBUG   Parsing nuisance parameter setup from LHE file at /Users/dpappadopulo/Projects/~Physics/madminer/examples/example4_systematics_DY/data/mg_processes/DY_sys/Events/run_11/unweighted_events.lhe.gz\n",
      "13:59 madminer.utils.inter DEBUG   Systematics setup: OrderedDict([(u'pdf', u'90900')])\n",
      "13:59 madminer.utils.inter DEBUG   Found physics reweighting weight group mg_reweighting\n",
      "13:59 madminer.utils.inter WARNING Did not find benchmarks representing PDF uncertainties in LHE file!\n",
      "13:59 madminer.lhe         DEBUG   Found 0 nuisance parameters with matching benchmarks:\n",
      "13:59 madminer.utils.inter DEBUG   Parsing LHE file /Users/dpappadopulo/Projects/~Physics/madminer/examples/example4_systematics_DY/data/mg_processes/DY_sys/Events/run_11/unweighted_events.lhe.gz\n",
      "13:59 madminer.utils.inter DEBUG   Parsing header and events as XML with cElementTree\n",
      "13:59 madminer.utils.inter DEBUG   Found entry event_norm = sum in LHE header. Interpreting this as weight_norm_is_average = False.\n",
      "13:59 madminer.utils.inter INFO      1000 events pass everything\n",
      "13:59 madminer.utils.inter INFO      Out of these, 0 events contain negative weights\n",
      "13:59 madminer.lhe         DEBUG   Found weights [u'sm', 'morphing_basis_vector_1', 'morphing_basis_vector_2', 'morphing_basis_vector_3', 'morphing_basis_vector_4', 'morphing_basis_vector_5'] in LHE file\n",
      "13:59 madminer.lhe         DEBUG   Found 1000 events\n",
      "13:59 madminer.lhe         INFO    Analysing LHE sample /Users/dpappadopulo/Projects/~Physics/madminer/examples/example4_systematics_DY/data/mg_processes/DY_sys/Events/run_12/unweighted_events.lhe.gz\n",
      "13:59 madminer.lhe         DEBUG   Extracting nuisance parameter definitions from LHE file\n",
      "13:59 madminer.utils.inter DEBUG   Parsing nuisance parameter setup from LHE file at /Users/dpappadopulo/Projects/~Physics/madminer/examples/example4_systematics_DY/data/mg_processes/DY_sys/Events/run_12/unweighted_events.lhe.gz\n",
      "13:59 madminer.utils.inter DEBUG   Systematics setup: OrderedDict([(u'pdf', u'90900')])\n",
      "13:59 madminer.utils.inter DEBUG   Found physics reweighting weight group mg_reweighting\n",
      "13:59 madminer.utils.inter WARNING Did not find benchmarks representing PDF uncertainties in LHE file!\n",
      "13:59 madminer.lhe         DEBUG   Found 0 nuisance parameters with matching benchmarks:\n",
      "13:59 madminer.utils.inter DEBUG   Parsing LHE file /Users/dpappadopulo/Projects/~Physics/madminer/examples/example4_systematics_DY/data/mg_processes/DY_sys/Events/run_12/unweighted_events.lhe.gz\n",
      "13:59 madminer.utils.inter DEBUG   Parsing header and events as XML with cElementTree\n",
      "13:59 madminer.utils.inter DEBUG   Found entry event_norm = sum in LHE header. Interpreting this as weight_norm_is_average = False.\n",
      "13:59 madminer.utils.inter INFO      1000 events pass everything\n",
      "13:59 madminer.utils.inter INFO      Out of these, 0 events contain negative weights\n",
      "13:59 madminer.lhe         DEBUG   Found weights [u'sm', 'morphing_basis_vector_1', 'morphing_basis_vector_2', 'morphing_basis_vector_3', 'morphing_basis_vector_4', 'morphing_basis_vector_5'] in LHE file\n",
      "13:59 madminer.lhe         DEBUG   Found 1000 events\n",
      "13:59 madminer.lhe         INFO    Analysing LHE sample /Users/dpappadopulo/Projects/~Physics/madminer/examples/example4_systematics_DY/data/mg_processes/DY_sys/Events/run_13/unweighted_events.lhe.gz\n",
      "13:59 madminer.lhe         DEBUG   Extracting nuisance parameter definitions from LHE file\n",
      "13:59 madminer.utils.inter DEBUG   Parsing nuisance parameter setup from LHE file at /Users/dpappadopulo/Projects/~Physics/madminer/examples/example4_systematics_DY/data/mg_processes/DY_sys/Events/run_13/unweighted_events.lhe.gz\n",
      "13:59 madminer.utils.inter DEBUG   Systematics setup: OrderedDict([(u'pdf', u'90900')])\n",
      "13:59 madminer.utils.inter DEBUG   Found physics reweighting weight group mg_reweighting\n",
      "13:59 madminer.utils.inter WARNING Did not find benchmarks representing PDF uncertainties in LHE file!\n",
      "13:59 madminer.lhe         DEBUG   Found 0 nuisance parameters with matching benchmarks:\n",
      "13:59 madminer.utils.inter DEBUG   Parsing LHE file /Users/dpappadopulo/Projects/~Physics/madminer/examples/example4_systematics_DY/data/mg_processes/DY_sys/Events/run_13/unweighted_events.lhe.gz\n",
      "13:59 madminer.utils.inter DEBUG   Parsing header and events as XML with cElementTree\n",
      "13:59 madminer.utils.inter DEBUG   Found entry event_norm = sum in LHE header. Interpreting this as weight_norm_is_average = False.\n",
      "13:59 madminer.utils.inter INFO      1000 events pass everything\n",
      "13:59 madminer.utils.inter INFO      Out of these, 0 events contain negative weights\n",
      "13:59 madminer.lhe         DEBUG   Found weights [u'sm', 'morphing_basis_vector_1', 'morphing_basis_vector_2', 'morphing_basis_vector_3', 'morphing_basis_vector_4', 'morphing_basis_vector_5'] in LHE file\n",
      "13:59 madminer.lhe         DEBUG   Found 1000 events\n",
      "13:59 madminer.lhe         INFO    Analysing LHE sample /Users/dpappadopulo/Projects/~Physics/madminer/examples/example4_systematics_DY/data/mg_processes/DY_sys/Events/run_14/unweighted_events.lhe.gz\n",
      "13:59 madminer.lhe         DEBUG   Extracting nuisance parameter definitions from LHE file\n",
      "13:59 madminer.utils.inter DEBUG   Parsing nuisance parameter setup from LHE file at /Users/dpappadopulo/Projects/~Physics/madminer/examples/example4_systematics_DY/data/mg_processes/DY_sys/Events/run_14/unweighted_events.lhe.gz\n",
      "13:59 madminer.utils.inter DEBUG   Systematics setup: OrderedDict([(u'pdf', u'90900')])\n",
      "13:59 madminer.utils.inter DEBUG   Found physics reweighting weight group mg_reweighting\n",
      "13:59 madminer.utils.inter WARNING Did not find benchmarks representing PDF uncertainties in LHE file!\n",
      "13:59 madminer.lhe         DEBUG   Found 0 nuisance parameters with matching benchmarks:\n",
      "13:59 madminer.utils.inter DEBUG   Parsing LHE file /Users/dpappadopulo/Projects/~Physics/madminer/examples/example4_systematics_DY/data/mg_processes/DY_sys/Events/run_14/unweighted_events.lhe.gz\n",
      "13:59 madminer.utils.inter DEBUG   Parsing header and events as XML with cElementTree\n",
      "13:59 madminer.utils.inter DEBUG   Found entry event_norm = sum in LHE header. Interpreting this as weight_norm_is_average = False.\n",
      "13:59 madminer.utils.inter INFO      1000 events pass everything\n",
      "13:59 madminer.utils.inter INFO      Out of these, 0 events contain negative weights\n",
      "13:59 madminer.lhe         DEBUG   Found weights [u'sm', 'morphing_basis_vector_1', 'morphing_basis_vector_2', 'morphing_basis_vector_3', 'morphing_basis_vector_4', 'morphing_basis_vector_5'] in LHE file\n",
      "13:59 madminer.lhe         DEBUG   Found 1000 events\n",
      "13:59 madminer.lhe         INFO    Analysing LHE sample /Users/dpappadopulo/Projects/~Physics/madminer/examples/example4_systematics_DY/data/mg_processes/DY_sys/Events/run_15/unweighted_events.lhe.gz\n",
      "13:59 madminer.lhe         DEBUG   Extracting nuisance parameter definitions from LHE file\n",
      "13:59 madminer.utils.inter DEBUG   Parsing nuisance parameter setup from LHE file at /Users/dpappadopulo/Projects/~Physics/madminer/examples/example4_systematics_DY/data/mg_processes/DY_sys/Events/run_15/unweighted_events.lhe.gz\n",
      "13:59 madminer.utils.inter DEBUG   Systematics setup: OrderedDict([(u'pdf', u'90900')])\n",
      "13:59 madminer.utils.inter DEBUG   Found physics reweighting weight group mg_reweighting\n",
      "13:59 madminer.utils.inter WARNING Did not find benchmarks representing PDF uncertainties in LHE file!\n",
      "13:59 madminer.lhe         DEBUG   Found 0 nuisance parameters with matching benchmarks:\n",
      "13:59 madminer.utils.inter DEBUG   Parsing LHE file /Users/dpappadopulo/Projects/~Physics/madminer/examples/example4_systematics_DY/data/mg_processes/DY_sys/Events/run_15/unweighted_events.lhe.gz\n",
      "13:59 madminer.utils.inter DEBUG   Parsing header and events as XML with cElementTree\n",
      "13:59 madminer.utils.inter DEBUG   Found entry event_norm = sum in LHE header. Interpreting this as weight_norm_is_average = False.\n",
      "13:59 madminer.utils.inter INFO      1000 events pass everything\n",
      "13:59 madminer.utils.inter INFO      Out of these, 0 events contain negative weights\n",
      "13:59 madminer.lhe         DEBUG   Found weights [u'sm', 'morphing_basis_vector_1', 'morphing_basis_vector_2', 'morphing_basis_vector_3', 'morphing_basis_vector_4', 'morphing_basis_vector_5'] in LHE file\n",
      "13:59 madminer.lhe         DEBUG   Found 1000 events\n",
      "13:59 madminer.lhe         INFO    Analysing LHE sample /Users/dpappadopulo/Projects/~Physics/madminer/examples/example4_systematics_DY/data/mg_processes/DY_sys/Events/run_16/unweighted_events.lhe.gz\n",
      "13:59 madminer.lhe         DEBUG   Extracting nuisance parameter definitions from LHE file\n",
      "13:59 madminer.utils.inter DEBUG   Parsing nuisance parameter setup from LHE file at /Users/dpappadopulo/Projects/~Physics/madminer/examples/example4_systematics_DY/data/mg_processes/DY_sys/Events/run_16/unweighted_events.lhe.gz\n",
      "13:59 madminer.utils.inter DEBUG   Systematics setup: OrderedDict([(u'pdf', u'90900')])\n",
      "13:59 madminer.utils.inter DEBUG   Found physics reweighting weight group mg_reweighting\n",
      "13:59 madminer.utils.inter WARNING Did not find benchmarks representing PDF uncertainties in LHE file!\n",
      "13:59 madminer.lhe         DEBUG   Found 0 nuisance parameters with matching benchmarks:\n",
      "13:59 madminer.utils.inter DEBUG   Parsing LHE file /Users/dpappadopulo/Projects/~Physics/madminer/examples/example4_systematics_DY/data/mg_processes/DY_sys/Events/run_16/unweighted_events.lhe.gz\n",
      "13:59 madminer.utils.inter DEBUG   Parsing header and events as XML with cElementTree\n",
      "13:59 madminer.utils.inter DEBUG   Found entry event_norm = sum in LHE header. Interpreting this as weight_norm_is_average = False.\n",
      "13:59 madminer.utils.inter INFO      1000 events pass everything\n",
      "13:59 madminer.utils.inter INFO      Out of these, 0 events contain negative weights\n",
      "13:59 madminer.lhe         DEBUG   Found weights [u'sm', 'morphing_basis_vector_1', 'morphing_basis_vector_2', 'morphing_basis_vector_3', 'morphing_basis_vector_4', 'morphing_basis_vector_5'] in LHE file\n",
      "13:59 madminer.lhe         DEBUG   Found 1000 events\n",
      "13:59 madminer.lhe         INFO    Analysing LHE sample /Users/dpappadopulo/Projects/~Physics/madminer/examples/example4_systematics_DY/data/mg_processes/DY_sys/Events/run_17/unweighted_events.lhe.gz\n",
      "13:59 madminer.lhe         DEBUG   Extracting nuisance parameter definitions from LHE file\n",
      "13:59 madminer.utils.inter DEBUG   Parsing nuisance parameter setup from LHE file at /Users/dpappadopulo/Projects/~Physics/madminer/examples/example4_systematics_DY/data/mg_processes/DY_sys/Events/run_17/unweighted_events.lhe.gz\n",
      "13:59 madminer.utils.inter DEBUG   Systematics setup: OrderedDict([(u'pdf', u'90900')])\n",
      "13:59 madminer.utils.inter DEBUG   Found physics reweighting weight group mg_reweighting\n",
      "13:59 madminer.utils.inter WARNING Did not find benchmarks representing PDF uncertainties in LHE file!\n",
      "13:59 madminer.lhe         DEBUG   Found 0 nuisance parameters with matching benchmarks:\n",
      "13:59 madminer.utils.inter DEBUG   Parsing LHE file /Users/dpappadopulo/Projects/~Physics/madminer/examples/example4_systematics_DY/data/mg_processes/DY_sys/Events/run_17/unweighted_events.lhe.gz\n",
      "13:59 madminer.utils.inter DEBUG   Parsing header and events as XML with cElementTree\n",
      "13:59 madminer.utils.inter DEBUG   Found entry event_norm = sum in LHE header. Interpreting this as weight_norm_is_average = False.\n",
      "13:59 madminer.utils.inter INFO      1000 events pass everything\n",
      "13:59 madminer.utils.inter INFO      Out of these, 0 events contain negative weights\n",
      "13:59 madminer.lhe         DEBUG   Found weights [u'sm', 'morphing_basis_vector_1', 'morphing_basis_vector_2', 'morphing_basis_vector_3', 'morphing_basis_vector_4', 'morphing_basis_vector_5'] in LHE file\n",
      "13:59 madminer.lhe         DEBUG   Found 1000 events\n",
      "13:59 madminer.lhe         INFO    Analysing LHE sample /Users/dpappadopulo/Projects/~Physics/madminer/examples/example4_systematics_DY/data/mg_processes/DY_sys/Events/run_18/unweighted_events.lhe.gz\n",
      "13:59 madminer.lhe         DEBUG   Extracting nuisance parameter definitions from LHE file\n",
      "13:59 madminer.utils.inter DEBUG   Parsing nuisance parameter setup from LHE file at /Users/dpappadopulo/Projects/~Physics/madminer/examples/example4_systematics_DY/data/mg_processes/DY_sys/Events/run_18/unweighted_events.lhe.gz\n",
      "13:59 madminer.utils.inter DEBUG   Systematics setup: OrderedDict([(u'pdf', u'90900')])\n",
      "13:59 madminer.utils.inter DEBUG   Found physics reweighting weight group mg_reweighting\n",
      "13:59 madminer.utils.inter WARNING Did not find benchmarks representing PDF uncertainties in LHE file!\n",
      "13:59 madminer.lhe         DEBUG   Found 0 nuisance parameters with matching benchmarks:\n",
      "13:59 madminer.utils.inter DEBUG   Parsing LHE file /Users/dpappadopulo/Projects/~Physics/madminer/examples/example4_systematics_DY/data/mg_processes/DY_sys/Events/run_18/unweighted_events.lhe.gz\n",
      "13:59 madminer.utils.inter DEBUG   Parsing header and events as XML with cElementTree\n",
      "13:59 madminer.utils.inter DEBUG   Found entry event_norm = sum in LHE header. Interpreting this as weight_norm_is_average = False.\n",
      "13:59 madminer.utils.inter INFO      1000 events pass everything\n",
      "13:59 madminer.utils.inter INFO      Out of these, 0 events contain negative weights\n",
      "13:59 madminer.lhe         DEBUG   Found weights [u'sm', 'morphing_basis_vector_1', 'morphing_basis_vector_2', 'morphing_basis_vector_3', 'morphing_basis_vector_4', 'morphing_basis_vector_5'] in LHE file\n",
      "13:59 madminer.lhe         DEBUG   Found 1000 events\n"
     ]
    }
   ],
   "source": [
    "lhep.analyse_samples() "
   ]
  },
  {
   "cell_type": "markdown",
   "metadata": {},
   "source": [
    "Finally, let's save everything"
   ]
  },
  {
   "cell_type": "code",
   "execution_count": 19,
   "metadata": {},
   "outputs": [
    {
     "name": "stderr",
     "output_type": "stream",
     "text": [
      "14:00 madminer.lhe         DEBUG   Loading HDF5 data from /Users/dpappadopulo/Projects/~Physics/madminer/examples/example4_systematics_DY/data/samples/DY_sys/madminer_DY.h5 and saving file to data/madminer_lhedata_signal.h5\n",
      "14:00 madminer.lhe         DEBUG   Weight names: [u'sm', 'morphing_basis_vector_1', 'morphing_basis_vector_2', 'morphing_basis_vector_3', 'morphing_basis_vector_4', 'morphing_basis_vector_5']\n",
      "14:00 madminer.utils.inter DEBUG   Benchmarks found in HDF5 file: [u'sm', u'morphing_basis_vector_1', u'morphing_basis_vector_2', u'morphing_basis_vector_3', u'morphing_basis_vector_4', u'morphing_basis_vector_5']\n",
      "14:00 madminer.utils.inter DEBUG   Benchmark morphing_basis_vector_1 already in benchmark_names_phys\n",
      "14:00 madminer.utils.inter DEBUG   Benchmark morphing_basis_vector_2 already in benchmark_names_phys\n",
      "14:00 madminer.utils.inter DEBUG   Benchmark morphing_basis_vector_3 already in benchmark_names_phys\n",
      "14:00 madminer.utils.inter DEBUG   Benchmark morphing_basis_vector_4 already in benchmark_names_phys\n",
      "14:00 madminer.utils.inter DEBUG   Benchmark morphing_basis_vector_5 already in benchmark_names_phys\n",
      "14:00 madminer.utils.inter DEBUG   Benchmark sm already in benchmark_names_phys\n",
      "14:00 madminer.utils.inter DEBUG   Combined benchmark names: [u'sm', u'morphing_basis_vector_1', u'morphing_basis_vector_2', u'morphing_basis_vector_3', u'morphing_basis_vector_4', u'morphing_basis_vector_5']\n",
      "14:00 madminer.utils.inter DEBUG   Combined is_nuisance: [0 0 0 0 0 0]\n",
      "14:00 madminer.utils.inter DEBUG   Combined is_reference: [1 0 0 0 0 0]\n",
      "14:00 madminer.utils.inter DEBUG   Weight names found in event file: [u'sm', 'morphing_basis_vector_1', 'morphing_basis_vector_2', 'morphing_basis_vector_3', 'morphing_basis_vector_4', 'morphing_basis_vector_5']\n",
      "14:00 madminer.utils.inter DEBUG   Benchmarks found in MadMiner file: [u'sm', u'morphing_basis_vector_1', u'morphing_basis_vector_2', u'morphing_basis_vector_3', u'morphing_basis_vector_4', u'morphing_basis_vector_5']\n",
      "14:00 madminer.utils.inter DEBUG   Sorted benchmarks: [u'sm', u'morphing_basis_vector_1', u'morphing_basis_vector_2', u'morphing_basis_vector_3', u'morphing_basis_vector_4', u'morphing_basis_vector_5']\n"
     ]
    }
   ],
   "source": [
    "lhep.save('data/madminer_lhedata_signal.h5')"
   ]
  },
  {
   "cell_type": "code",
   "execution_count": 20,
   "metadata": {},
   "outputs": [
    {
     "name": "stderr",
     "output_type": "stream",
     "text": [
      "14:00 madminer.sampling    DEBUG   Combining and shuffling samples\n",
      "14:00 madminer.sampling    INFO    Copying setup from data/madminer_lhedata_signal.h5 to data/madminer_lhedata_signal_shuffled.h5\n",
      "14:00 madminer.sampling    INFO    Loading samples from file 1 / 1 at data/madminer_lhedata_signal.h5, multiplying weights with k factor 1.0\n"
     ]
    }
   ],
   "source": [
    "combine_and_shuffle(['data/madminer_lhedata_signal.h5'], 'data/madminer_lhedata_signal_shuffled.h5')"
   ]
  },
  {
   "cell_type": "markdown",
   "metadata": {},
   "source": [
    "### 3e) Plot Distributions"
   ]
  },
  {
   "cell_type": "markdown",
   "metadata": {},
   "source": [
    "Let us now plot some distributions. This can also be done using the `plot_distributions` function. As before the function requires\n",
    "- `filename`: the name of the file with the processed LHE data\n",
    "- `parameter_points`: a list of benchmarks, which can either be specified by there name (such as `sm`) or manually (for example `np.array([0,1])`). \n",
    "- `line_labels`: names for the benchmarks\n",
    "- `observables`: list of observables to be plotted (when `None`, all observables are plotted)\n",
    "We can also plot the uncertainties using the option `uncertainties='nuisance'`. By default, the full uncertainy band using all considered nuicanse parameter is shown. To obtain the uncertainty, MadMiner created a set of `n_toys` (default 100) Monte Carlo sample distributions to estimate the 68% CL band. Additionally, MadMiner can also show a set of `N` of these Monte Carlo toy samples using the option `draw_nuisance_toys=N`. \n",
    "\n",
    "More options, in particular regarding plotting, can be found via the command `help(plot_distributions)`. "
   ]
  },
  {
   "cell_type": "code",
   "execution_count": 31,
   "metadata": {},
   "outputs": [
    {
     "name": "stderr",
     "output_type": "stream",
     "text": [
      "14:23 madminer.sampling    INFO    Loading data from data/madminer_lhedata_signal_shuffled.h5\n",
      "14:23 madminer.sampling    INFO    Found 2 parameters\n",
      "14:23 madminer.sampling    DEBUG      cWhat (LHA: oblique 1, maximal power in squared ME: (2,), range: (-0.1, 0.1))\n",
      "14:23 madminer.sampling    DEBUG      cYhat (LHA: oblique 2, maximal power in squared ME: (2,), range: (-0.1, 0.1))\n",
      "14:23 madminer.sampling    INFO    Did not find nuisance parameters\n",
      "14:23 madminer.sampling    INFO    Found 6 benchmarks, of which 6 physical\n",
      "14:23 madminer.sampling    DEBUG      sm: cWhat = 0.00e+00, cYhat = 0.00e+00\n",
      "14:23 madminer.sampling    DEBUG      morphing_basis_vector_1: cWhat = -6.39e-02, cYhat = -8.65e-02\n",
      "14:23 madminer.sampling    DEBUG      morphing_basis_vector_2: cWhat = 0.03, cYhat = -9.83e-02\n",
      "14:23 madminer.sampling    DEBUG      morphing_basis_vector_3: cWhat = -8.15e-02, cYhat = 0.10\n",
      "14:23 madminer.sampling    DEBUG      morphing_basis_vector_4: cWhat = 0.09, cYhat = -5.44e-03\n",
      "14:23 madminer.sampling    DEBUG      morphing_basis_vector_5: cWhat = 0.09, cYhat = 0.08\n",
      "14:23 madminer.sampling    INFO    Found 3 observables\n",
      "14:23 madminer.sampling    DEBUG      0 mll\n",
      "14:23 madminer.sampling    DEBUG      1 pt_mu\n",
      "14:23 madminer.sampling    DEBUG      2 eta_mu\n",
      "14:23 madminer.sampling    INFO    Found 18000 events\n",
      "14:23 madminer.sampling    INFO    Found morphing setup with 6 components\n",
      "14:23 madminer.plotting    DEBUG   Observable indices: [0]\n",
      "14:23 madminer.plotting    DEBUG   Loaded raw data with shapes (18000, 3), (18000, 6)\n",
      "14:23 madminer.plotting    DEBUG   Only analyzing first 1000 / 18000 events\n",
      "14:23 madminer.plotting    DEBUG   Calculated 1 theta matrices\n",
      "14:23 madminer.plotting    DEBUG   Plotting panel 0: observable 0, label mll\n",
      "14:23 madminer.plotting    DEBUG   Ranges for observable mll: min = [303.2999343358388], max = [764.7978445703467]\n"
     ]
    },
    {
     "data": {
      "image/png": "[encoded data removed]",
      "text/plain": [
       "<Figure size 864x288 with 1 Axes>"
      ]
     },
     "metadata": {
      "needs_background": "light"
     },
     "output_type": "display_data"
    }
   ],
   "source": [
    "fig = plot_distributions(\n",
    "    filename='data/madminer_lhedata_signal_shuffled.h5',\n",
    "    parameter_points=['sm'],\n",
    "    line_labels=['SM'],\n",
    "    observables=['mll'],\n",
    "    uncertainties=None,\n",
    "    #n_toys=100,\n",
    "    #n_bins=20 ,               \n",
    "    normalize=True, \n",
    "    log=True,\n",
    "    n_events=1000\n",
    "    #draw_nuisance_toys=5,\n",
    ")"
   ]
  },
  {
   "cell_type": "code",
   "execution_count": 24,
   "metadata": {},
   "outputs": [
    {
     "data": {
      "text/plain": [
       "array([   0.       ,    0.       ,  124.2418705, 3005.9946056])"
      ]
     },
     "execution_count": 24,
     "metadata": {},
     "output_type": "execute_result"
    }
   ],
   "source": [
    "a= np.array([ -3.2694710695e+02, +4.6441453233e+02 ,-1.3292358239e+03, 1.4454906240e+03])\n",
    "b = np.array([+3.2694710695e+02 ,-4.6441453233e+02, +1.4534776944e+03, 1.5605039816e+03])\n",
    "a+b"
   ]
  },
  {
   "cell_type": "markdown",
   "metadata": {},
   "source": [
    "We can also only consider a subset of nuisance parameter. In the following example, we separatly show the uncertainties from scale and PDF variations.  "
   ]
  },
  {
   "cell_type": "code",
   "execution_count": 19,
   "metadata": {},
   "outputs": [
    {
     "name": "stderr",
     "output_type": "stream",
     "text": [
      "21:25 madminer.sampling    INFO    Loading data from data/madminer_lhedata_signal.h5\n",
      "21:25 madminer.sampling    INFO    Found 2 parameters\n",
      "21:25 madminer.sampling    INFO    Found 33 nuisance parameters\n",
      "21:25 madminer.sampling    INFO    Found 81 benchmarks, of which 6 physical\n",
      "21:25 madminer.sampling    INFO    Found 14 observables\n",
      "21:25 madminer.sampling    INFO    Found 84546 events\n",
      "21:25 madminer.sampling    INFO    Found morphing setup with 6 components\n",
      "21:25 madminer.sampling    INFO    Found nuisance morphing setup\n",
      "21:25 madminer.plotting    WARNING Removed 4 / 84546 events with negative weights\n",
      "21:25 madminer.sampling    INFO    Loading data from data/madminer_lhedata_signal.h5\n",
      "21:25 madminer.sampling    INFO    Found 2 parameters\n",
      "21:25 madminer.sampling    INFO    Found 33 nuisance parameters\n",
      "21:25 madminer.sampling    INFO    Found 81 benchmarks, of which 6 physical\n",
      "21:25 madminer.sampling    INFO    Found 14 observables\n",
      "21:25 madminer.sampling    INFO    Found 84546 events\n",
      "21:25 madminer.sampling    INFO    Found morphing setup with 6 components\n",
      "21:25 madminer.sampling    INFO    Found nuisance morphing setup\n",
      "21:25 madminer.plotting    WARNING Removed 4 / 84546 events with negative weights\n"
     ]
    },
    {
     "data": {
      "image/png": "[encoded data removed]",
      "text/plain": [
       "<matplotlib.figure.Figure at 0x10c848510>"
      ]
     },
     "metadata": {},
     "output_type": "display_data"
    },
    {
     "data": {
      "image/png": "[encoded data removed]",
      "text/plain": [
       "<matplotlib.figure.Figure at 0x2ff65cbd0>"
      ]
     },
     "metadata": {},
     "output_type": "display_data"
    }
   ],
   "source": [
    "nuisance_scale=np.array([i for i in range(0,2)])\n",
    "nuisance_pdf=np.array([i for i in range(2,33)])\n",
    "\n",
    "fig_scale = plot_distributions(\n",
    "     filename='data/madminer_lhedata_signal.h5',\n",
    "    parameter_points=['sm',np.array([10,0]),np.array([0,10])],\n",
    "    line_labels=['SM',r'$\\theta_0=10$',r'$\\theta_1=10$'],\n",
    "    observables=['m_Z','m_ZH','dphi_mumu'],\n",
    "    uncertainties='nuisance',\n",
    "    n_bins=20,               \n",
    "    normalize=False,  \n",
    "    nuisance_parameters=nuisance_scale,\n",
    ")\n",
    "\n",
    "fig_pdf = plot_distributions(\n",
    "     filename='data/madminer_lhedata_signal.h5',\n",
    "    parameter_points=['sm',np.array([10,0]),np.array([0,10])],\n",
    "    line_labels=['SM',r'$\\theta_0=10$',r'$\\theta_1=10$'],\n",
    "    observables=['m_Z','m_ZH','dphi_mumu'],\n",
    "    uncertainties='nuisance',\n",
    "    n_bins=20,               \n",
    "    normalize=False,  \n",
    "    nuisance_parameters=nuisance_pdf,\n",
    ")"
   ]
  },
  {
   "cell_type": "markdown",
   "metadata": {},
   "source": [
    "Note that the uncertainty mainly effects the signal normalization, not the signal distribution. This can be seen looking at the normalized distributions via `normalize=True`"
   ]
  },
  {
   "cell_type": "code",
   "execution_count": 20,
   "metadata": {},
   "outputs": [
    {
     "name": "stderr",
     "output_type": "stream",
     "text": [
      "21:26 madminer.sampling    INFO    Loading data from data/madminer_lhedata_signal.h5\n",
      "21:26 madminer.sampling    INFO    Found 2 parameters\n",
      "21:26 madminer.sampling    INFO    Found 33 nuisance parameters\n",
      "21:26 madminer.sampling    INFO    Found 81 benchmarks, of which 6 physical\n",
      "21:26 madminer.sampling    INFO    Found 14 observables\n",
      "21:26 madminer.sampling    INFO    Found 84546 events\n",
      "21:26 madminer.sampling    INFO    Found morphing setup with 6 components\n",
      "21:26 madminer.sampling    INFO    Found nuisance morphing setup\n",
      "21:26 madminer.plotting    WARNING Removed 4 / 84546 events with negative weights\n"
     ]
    },
    {
     "data": {
      "image/png": "[encoded data removed]",
      "text/plain": [
       "<matplotlib.figure.Figure at 0x2ff65cb50>"
      ]
     },
     "metadata": {},
     "output_type": "display_data"
    }
   ],
   "source": [
    "fig_pdf = plot_distributions(\n",
    "     filename='data/madminer_lhedata_signal.h5',\n",
    "    parameter_points=['sm',np.array([10,0]),np.array([0,10])],\n",
    "    line_labels=['SM',r'$\\theta_0=10$',r'$\\theta_1=10$'],\n",
    "    observables=['m_Z','m_ZH','dphi_mumu'],\n",
    "    uncertainties='nuisance',\n",
    "    n_bins=20,               \n",
    "    normalize=True,  \n",
    ")"
   ]
  },
  {
   "cell_type": "code",
   "execution_count": null,
   "metadata": {},
   "outputs": [],
   "source": []
  }
 ],
 "metadata": {
  "kernelspec": {
   "display_name": "Python 2",
   "language": "python",
   "name": "python2"
  },
  "language_info": {
   "codemirror_mode": {
    "name": "ipython",
    "version": 2
   },
   "file_extension": ".py",
   "mimetype": "text/x-python",
   "name": "python",
   "nbconvert_exporter": "python",
   "pygments_lexer": "ipython2",
   "version": "2.7.15"
  }
 },
 "nbformat": 4,
 "nbformat_minor": 2
}
