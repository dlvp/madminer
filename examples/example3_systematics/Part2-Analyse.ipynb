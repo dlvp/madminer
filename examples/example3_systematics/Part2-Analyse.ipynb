{
 "cells": [
  {
   "cell_type": "markdown",
   "metadata": {},
   "source": [
    "# Example 3: -  Including systematics"
   ]
  },
  {
   "cell_type": "markdown",
   "metadata": {},
   "source": [
    "## Preparations"
   ]
  },
  {
   "cell_type": "markdown",
   "metadata": {},
   "source": [
    "Let us first load all the python libraries again"
   ]
  },
  {
   "cell_type": "code",
   "execution_count": 1,
   "metadata": {},
   "outputs": [],
   "source": [
    "import sys\n",
    "import os\n",
    "madminer_src_path = \"/Users/felixkling/Documents/GitHub/madminer\"\n",
    "sys.path.append(madminer_src_path)\n",
    "\n",
    "from __future__ import absolute_import, division, print_function, unicode_literals\n",
    "\n",
    "import logging\n",
    "import numpy as np\n",
    "import math\n",
    "import matplotlib\n",
    "from matplotlib import pyplot as plt\n",
    "from scipy.optimize import curve_fit\n",
    "% matplotlib inline\n",
    "\n",
    "from madminer.fisherinformation import FisherInformation\n",
    "from madminer.fisherinformation import project_information,profile_information\n",
    "\n",
    "from madminer.plotting import plot_fisher_information_contours_2d\n",
    "\n",
    "from madminer.sampling import SampleAugmenter\n",
    "from madminer.sampling import constant_benchmark_theta, multiple_benchmark_thetas\n",
    "from madminer.sampling import constant_morphing_theta, multiple_morphing_thetas, random_morphing_thetas\n",
    "from madminer.ml import MLForge, EnsembleForge\n",
    "\n",
    "from sklearn.metrics import mean_squared_error"
   ]
  },
  {
   "cell_type": "markdown",
   "metadata": {},
   "source": [
    "MadMiner uses the Python `logging` module to provide additional information and debugging output. You can choose how much of this output you want to see by switching the level in the following lines to `logging.DEBUG` or `logging.WARNING`."
   ]
  },
  {
   "cell_type": "code",
   "execution_count": 2,
   "metadata": {},
   "outputs": [],
   "source": [
    "logging.basicConfig(\n",
    "    format='%(asctime)-5.5s %(name)-20.20s %(levelname)-7.7s %(message)s',\n",
    "    datefmt='%H:%M',\n",
    "    level=logging.INFO\n",
    ")\n",
    "\n",
    "for key in logging.Logger.manager.loggerDict:\n",
    "    if \"madminer\" not in key:\n",
    "        logging.getLogger(key).setLevel(logging.WARNING)"
   ]
  },
  {
   "cell_type": "markdown",
   "metadata": {},
   "source": [
    "To not forget anything later, let us globaly define the number of events in the MG sample"
   ]
  },
  {
   "cell_type": "code",
   "execution_count": 3,
   "metadata": {},
   "outputs": [],
   "source": [
    "inputfile = 'data/madminer_lhedata_signal.h5'\n",
    "nsamples = 10000"
   ]
  },
  {
   "cell_type": "markdown",
   "metadata": {},
   "source": [
    "## 4. Data Augmentation and Machine Learning"
   ]
  },
  {
   "cell_type": "markdown",
   "metadata": {},
   "source": [
    "### 4a) Make (unweighted) training and test samples with augmented data"
   ]
  },
  {
   "cell_type": "markdown",
   "metadata": {},
   "source": [
    "Let us make event samples using the `SampleAugmenter`.  For simplicity we use the local data and later train Sally. "
   ]
  },
  {
   "cell_type": "code",
   "execution_count": 4,
   "metadata": {},
   "outputs": [
    {
     "name": "stderr",
     "output_type": "stream",
     "text": [
      "19:18 madminer.sampling    INFO    Loading data from data/madminer_lhedata_signal.h5\n",
      "19:18 madminer.sampling    INFO    Found 2 parameters\n",
      "19:18 madminer.sampling    INFO    Found 33 nuisance parameters\n",
      "19:18 madminer.sampling    INFO    Found 81 benchmarks, of which 6 physical\n",
      "19:18 madminer.sampling    INFO    Found 14 observables\n",
      "19:18 madminer.sampling    INFO    Found 8461 events\n",
      "19:18 madminer.sampling    INFO    Found morphing setup with 6 components\n",
      "19:18 madminer.sampling    INFO    Found nuisance morphing setup\n",
      "19:18 madminer.sampling    INFO    Extracting training sample for local score regression. Sampling and score evaluation according to (u'benchmark', u'sm')\n",
      "19:18 madminer.sampling    INFO    Effective number of samples: 4230.999999999793\n",
      "19:18 madminer.sampling    INFO    Extracting training sample for local score regression. Sampling and score evaluation according to (u'benchmark', u'sm')\n",
      "19:18 madminer.sampling    INFO    Effective number of samples: 4230.999999999793\n",
      "19:18 madminer.sampling    INFO    Extracting training sample for local score regression. Sampling and score evaluation according to (u'benchmark', u'sm')\n",
      "19:18 madminer.sampling    INFO    Effective number of samples: 4230.999999999793\n",
      "19:18 madminer.sampling    INFO    Extracting training sample for local score regression. Sampling and score evaluation according to (u'benchmark', u'sm')\n",
      "19:18 madminer.sampling    INFO    Effective number of samples: 4230.999999999793\n",
      "19:18 madminer.sampling    INFO    Extracting training sample for local score regression. Sampling and score evaluation according to (u'benchmark', u'sm')\n",
      "19:18 madminer.sampling    INFO    Effective number of samples: 4230.999999999793\n",
      "19:18 madminer.sampling    INFO    Extracting training sample for local score regression. Sampling and score evaluation according to (u'benchmark', u'sm')\n",
      "19:18 madminer.sampling    INFO    Effective number of samples: 4228.999999999793\n"
     ]
    }
   ],
   "source": [
    "#Define n_estimator\n",
    "n_estimators = 5\n",
    "\n",
    "#Initialize\n",
    "sa  = SampleAugmenter(inputfile)\n",
    "\n",
    "#augment train sample\n",
    "for i in range(n_estimators):\n",
    "    _ , _ , _ = sa.extract_samples_train_local(\n",
    "        theta=constant_benchmark_theta('sm'), n_samples=int(nsamples/2),\n",
    "        folder='./data/samples_ensemble/', filename='train{}'.format(i),\n",
    "        nuisance_score=True\n",
    "    )\n",
    "    \n",
    "#augment test sample\n",
    "_ , _ , _ = sa.extract_samples_train_local(\n",
    "    theta=constant_benchmark_theta('sm'), n_samples=int(nsamples/2),\n",
    "    folder='./data/samples_ensemble/', filename='test', \n",
    "    switch_train_test_events=True,\n",
    "    nuisance_score=True\n",
    ")\n",
    "\n",
    "#augment test sample\n",
    "#_ , _ = sa.extract_samples_test(\n",
    "#    theta=constant_benchmark_theta('sm'), n_samples=int(nsamples/2),\n",
    "#    folder='./data/samples_ensemble/', filename='test'\n",
    "#)"
   ]
  },
  {
   "cell_type": "markdown",
   "metadata": {},
   "source": [
    "### 4b)  Train a neural network to estimate the score"
   ]
  },
  {
   "cell_type": "markdown",
   "metadata": {},
   "source": [
    "We can now set up an EnsembleForge and train it."
   ]
  },
  {
   "cell_type": "code",
   "execution_count": 5,
   "metadata": {},
   "outputs": [
    {
     "name": "stderr",
     "output_type": "stream",
     "text": [
      "19:18 madminer.ml          INFO    Training 5 estimators in ensemble\n",
      "19:18 madminer.ml          INFO    Training estimator 1 / 5 in ensemble\n",
      "19:18 madminer.ml          INFO    Starting training\n",
      "19:18 madminer.ml          INFO      Method:                 sally\n",
      "19:18 madminer.ml          INFO      Training data:          x at data/samples_ensemble/x_train0.npy\n",
      "19:18 madminer.ml          INFO                              t_xz (theta0) at data/samples_ensemble/t_xz_train0.npy\n",
      "19:18 madminer.ml          INFO      Features:               all\n",
      "19:18 madminer.ml          INFO      Method:                 sally\n",
      "19:18 madminer.ml          INFO      Hidden layers:          (100, 100)\n",
      "19:18 madminer.ml          INFO      Activation function:    tanh\n",
      "19:18 madminer.ml          INFO      Batch size:             128\n",
      "19:18 madminer.ml          INFO      Trainer:                amsgrad\n",
      "19:18 madminer.ml          INFO      Epochs:                 50\n",
      "19:18 madminer.ml          INFO      Learning rate:          0.001 initially, decaying to 0.0001\n",
      "19:18 madminer.ml          INFO      Validation split:       None\n",
      "19:18 madminer.ml          INFO      Early stopping:         True\n",
      "19:18 madminer.ml          INFO      Scale inputs:           True\n",
      "19:18 madminer.ml          INFO      Shuffle labels          False\n",
      "19:18 madminer.ml          INFO      Regularization:         None\n",
      "19:18 madminer.ml          INFO      Samples:                all\n",
      "19:18 madminer.ml          INFO    Loading training data\n",
      "19:18 madminer.ml          INFO    Found 5000 samples with 35 parameters and 14 observables\n",
      "19:18 madminer.ml          INFO    Rescaling inputs\n",
      "19:18 madminer.ml          INFO    Creating model for method sally\n",
      "19:18 madminer.ml          INFO    Training model\n",
      "19:18 madminer.utils.ml.sc INFO      Epoch 05: train loss 0.0013 (mse_score: 0.0013)\n",
      "19:18 madminer.utils.ml.sc INFO      Epoch 10: train loss 0.0011 (mse_score: 0.0011)\n",
      "19:18 madminer.utils.ml.sc INFO      Epoch 15: train loss 0.0010 (mse_score: 0.0010)\n",
      "19:18 madminer.utils.ml.sc INFO      Epoch 20: train loss 0.0010 (mse_score: 0.0010)\n",
      "19:18 madminer.utils.ml.sc INFO      Epoch 25: train loss 0.0009 (mse_score: 0.0009)\n",
      "19:18 madminer.utils.ml.sc INFO      Epoch 30: train loss 0.0009 (mse_score: 0.0009)\n",
      "19:18 madminer.utils.ml.sc INFO      Epoch 35: train loss 0.0009 (mse_score: 0.0009)\n",
      "19:18 madminer.utils.ml.sc INFO      Epoch 40: train loss 0.0009 (mse_score: 0.0009)\n",
      "19:18 madminer.utils.ml.sc INFO      Epoch 45: train loss 0.0008 (mse_score: 0.0008)\n",
      "19:18 madminer.utils.ml.sc INFO      Epoch 50: train loss 0.0009 (mse_score: 0.0009)\n",
      "19:18 madminer.utils.ml.sc INFO    Finished training\n",
      "19:18 madminer.ml          INFO    Training estimator 2 / 5 in ensemble\n",
      "19:18 madminer.ml          INFO    Starting training\n",
      "19:18 madminer.ml          INFO      Method:                 sally\n",
      "19:18 madminer.ml          INFO      Training data:          x at data/samples_ensemble/x_train1.npy\n",
      "19:18 madminer.ml          INFO                              t_xz (theta0) at data/samples_ensemble/t_xz_train1.npy\n",
      "19:18 madminer.ml          INFO      Features:               all\n",
      "19:18 madminer.ml          INFO      Method:                 sally\n",
      "19:18 madminer.ml          INFO      Hidden layers:          (100, 100)\n",
      "19:18 madminer.ml          INFO      Activation function:    tanh\n",
      "19:18 madminer.ml          INFO      Batch size:             128\n",
      "19:18 madminer.ml          INFO      Trainer:                amsgrad\n",
      "19:18 madminer.ml          INFO      Epochs:                 50\n",
      "19:18 madminer.ml          INFO      Learning rate:          0.001 initially, decaying to 0.0001\n",
      "19:18 madminer.ml          INFO      Validation split:       None\n",
      "19:18 madminer.ml          INFO      Early stopping:         True\n",
      "19:18 madminer.ml          INFO      Scale inputs:           True\n",
      "19:18 madminer.ml          INFO      Shuffle labels          False\n",
      "19:18 madminer.ml          INFO      Regularization:         None\n",
      "19:18 madminer.ml          INFO      Samples:                all\n",
      "19:18 madminer.ml          INFO    Loading training data\n",
      "19:18 madminer.ml          INFO    Found 5000 samples with 35 parameters and 14 observables\n",
      "19:18 madminer.ml          INFO    Rescaling inputs\n",
      "19:18 madminer.ml          INFO    Creating model for method sally\n",
      "19:18 madminer.ml          INFO    Training model\n",
      "19:18 madminer.utils.ml.sc INFO      Epoch 05: train loss 0.0012 (mse_score: 0.0012)\n",
      "19:18 madminer.utils.ml.sc INFO      Epoch 10: train loss 0.0011 (mse_score: 0.0011)\n",
      "19:18 madminer.utils.ml.sc INFO      Epoch 15: train loss 0.0013 (mse_score: 0.0013)\n",
      "19:18 madminer.utils.ml.sc INFO      Epoch 20: train loss 0.0009 (mse_score: 0.0009)\n",
      "19:18 madminer.utils.ml.sc INFO      Epoch 25: train loss 0.0009 (mse_score: 0.0009)\n",
      "19:18 madminer.utils.ml.sc INFO      Epoch 30: train loss 0.0009 (mse_score: 0.0009)\n",
      "19:18 madminer.utils.ml.sc INFO      Epoch 35: train loss 0.0008 (mse_score: 0.0008)\n",
      "19:18 madminer.utils.ml.sc INFO      Epoch 40: train loss 0.0008 (mse_score: 0.0008)\n",
      "19:18 madminer.utils.ml.sc INFO      Epoch 45: train loss 0.0008 (mse_score: 0.0008)\n",
      "19:18 madminer.utils.ml.sc INFO      Epoch 50: train loss 0.0009 (mse_score: 0.0009)\n",
      "19:18 madminer.utils.ml.sc INFO    Finished training\n",
      "19:18 madminer.ml          INFO    Training estimator 3 / 5 in ensemble\n",
      "19:18 madminer.ml          INFO    Starting training\n",
      "19:18 madminer.ml          INFO      Method:                 sally\n",
      "19:18 madminer.ml          INFO      Training data:          x at data/samples_ensemble/x_train2.npy\n",
      "19:18 madminer.ml          INFO                              t_xz (theta0) at data/samples_ensemble/t_xz_train2.npy\n",
      "19:18 madminer.ml          INFO      Features:               all\n",
      "19:18 madminer.ml          INFO      Method:                 sally\n",
      "19:18 madminer.ml          INFO      Hidden layers:          (100, 100)\n",
      "19:18 madminer.ml          INFO      Activation function:    tanh\n",
      "19:18 madminer.ml          INFO      Batch size:             128\n",
      "19:18 madminer.ml          INFO      Trainer:                amsgrad\n",
      "19:18 madminer.ml          INFO      Epochs:                 50\n",
      "19:18 madminer.ml          INFO      Learning rate:          0.001 initially, decaying to 0.0001\n",
      "19:18 madminer.ml          INFO      Validation split:       None\n",
      "19:18 madminer.ml          INFO      Early stopping:         True\n",
      "19:18 madminer.ml          INFO      Scale inputs:           True\n",
      "19:18 madminer.ml          INFO      Shuffle labels          False\n",
      "19:18 madminer.ml          INFO      Regularization:         None\n",
      "19:18 madminer.ml          INFO      Samples:                all\n",
      "19:18 madminer.ml          INFO    Loading training data\n",
      "19:18 madminer.ml          INFO    Found 5000 samples with 35 parameters and 14 observables\n",
      "19:18 madminer.ml          INFO    Rescaling inputs\n",
      "19:18 madminer.ml          INFO    Creating model for method sally\n",
      "19:18 madminer.ml          INFO    Training model\n",
      "19:18 madminer.utils.ml.sc INFO      Epoch 05: train loss 0.0012 (mse_score: 0.0012)\n",
      "19:18 madminer.utils.ml.sc INFO      Epoch 10: train loss 0.0010 (mse_score: 0.0010)\n",
      "19:18 madminer.utils.ml.sc INFO      Epoch 15: train loss 0.0009 (mse_score: 0.0009)\n",
      "19:18 madminer.utils.ml.sc INFO      Epoch 20: train loss 0.0009 (mse_score: 0.0009)\n",
      "19:18 madminer.utils.ml.sc INFO      Epoch 25: train loss 0.0008 (mse_score: 0.0008)\n",
      "19:18 madminer.utils.ml.sc INFO      Epoch 30: train loss 0.0008 (mse_score: 0.0008)\n",
      "19:18 madminer.utils.ml.sc INFO      Epoch 35: train loss 0.0008 (mse_score: 0.0008)\n",
      "19:18 madminer.utils.ml.sc INFO      Epoch 40: train loss 0.0008 (mse_score: 0.0008)\n",
      "19:18 madminer.utils.ml.sc INFO      Epoch 45: train loss 0.0008 (mse_score: 0.0008)\n",
      "19:18 madminer.utils.ml.sc INFO      Epoch 50: train loss 0.0008 (mse_score: 0.0008)\n",
      "19:18 madminer.utils.ml.sc INFO    Finished training\n",
      "19:18 madminer.ml          INFO    Training estimator 4 / 5 in ensemble\n",
      "19:18 madminer.ml          INFO    Starting training\n",
      "19:18 madminer.ml          INFO      Method:                 sally\n",
      "19:18 madminer.ml          INFO      Training data:          x at data/samples_ensemble/x_train3.npy\n",
      "19:18 madminer.ml          INFO                              t_xz (theta0) at data/samples_ensemble/t_xz_train3.npy\n"
     ]
    },
    {
     "name": "stderr",
     "output_type": "stream",
     "text": [
      "19:18 madminer.ml          INFO      Features:               all\n",
      "19:18 madminer.ml          INFO      Method:                 sally\n",
      "19:18 madminer.ml          INFO      Hidden layers:          (100, 100)\n",
      "19:18 madminer.ml          INFO      Activation function:    tanh\n",
      "19:18 madminer.ml          INFO      Batch size:             128\n",
      "19:18 madminer.ml          INFO      Trainer:                amsgrad\n",
      "19:18 madminer.ml          INFO      Epochs:                 50\n",
      "19:18 madminer.ml          INFO      Learning rate:          0.001 initially, decaying to 0.0001\n",
      "19:18 madminer.ml          INFO      Validation split:       None\n",
      "19:18 madminer.ml          INFO      Early stopping:         True\n",
      "19:18 madminer.ml          INFO      Scale inputs:           True\n",
      "19:18 madminer.ml          INFO      Shuffle labels          False\n",
      "19:18 madminer.ml          INFO      Regularization:         None\n",
      "19:18 madminer.ml          INFO      Samples:                all\n",
      "19:18 madminer.ml          INFO    Loading training data\n",
      "19:18 madminer.ml          INFO    Found 5000 samples with 35 parameters and 14 observables\n",
      "19:18 madminer.ml          INFO    Rescaling inputs\n",
      "19:18 madminer.ml          INFO    Creating model for method sally\n",
      "19:18 madminer.ml          INFO    Training model\n",
      "19:18 madminer.utils.ml.sc INFO      Epoch 05: train loss 0.0013 (mse_score: 0.0013)\n",
      "19:18 madminer.utils.ml.sc INFO      Epoch 10: train loss 0.0011 (mse_score: 0.0011)\n",
      "19:18 madminer.utils.ml.sc INFO      Epoch 15: train loss 0.0010 (mse_score: 0.0010)\n",
      "19:18 madminer.utils.ml.sc INFO      Epoch 20: train loss 0.0009 (mse_score: 0.0009)\n",
      "19:18 madminer.utils.ml.sc INFO      Epoch 25: train loss 0.0009 (mse_score: 0.0009)\n",
      "19:18 madminer.utils.ml.sc INFO      Epoch 30: train loss 0.0010 (mse_score: 0.0010)\n",
      "19:18 madminer.utils.ml.sc INFO      Epoch 35: train loss 0.0009 (mse_score: 0.0009)\n",
      "19:18 madminer.utils.ml.sc INFO      Epoch 40: train loss 0.0009 (mse_score: 0.0009)\n",
      "19:18 madminer.utils.ml.sc INFO      Epoch 45: train loss 0.0009 (mse_score: 0.0009)\n",
      "19:18 madminer.utils.ml.sc INFO      Epoch 50: train loss 0.0008 (mse_score: 0.0008)\n",
      "19:18 madminer.utils.ml.sc INFO    Finished training\n",
      "19:18 madminer.ml          INFO    Training estimator 5 / 5 in ensemble\n",
      "19:18 madminer.ml          INFO    Starting training\n",
      "19:18 madminer.ml          INFO      Method:                 sally\n",
      "19:18 madminer.ml          INFO      Training data:          x at data/samples_ensemble/x_train4.npy\n",
      "19:18 madminer.ml          INFO                              t_xz (theta0) at data/samples_ensemble/t_xz_train4.npy\n",
      "19:18 madminer.ml          INFO      Features:               all\n",
      "19:18 madminer.ml          INFO      Method:                 sally\n",
      "19:18 madminer.ml          INFO      Hidden layers:          (100, 100)\n",
      "19:18 madminer.ml          INFO      Activation function:    tanh\n",
      "19:18 madminer.ml          INFO      Batch size:             128\n",
      "19:18 madminer.ml          INFO      Trainer:                amsgrad\n",
      "19:18 madminer.ml          INFO      Epochs:                 50\n",
      "19:18 madminer.ml          INFO      Learning rate:          0.001 initially, decaying to 0.0001\n",
      "19:18 madminer.ml          INFO      Validation split:       None\n",
      "19:18 madminer.ml          INFO      Early stopping:         True\n",
      "19:18 madminer.ml          INFO      Scale inputs:           True\n",
      "19:18 madminer.ml          INFO      Shuffle labels          False\n",
      "19:18 madminer.ml          INFO      Regularization:         None\n",
      "19:18 madminer.ml          INFO      Samples:                all\n",
      "19:18 madminer.ml          INFO    Loading training data\n",
      "19:18 madminer.ml          INFO    Found 5000 samples with 35 parameters and 14 observables\n",
      "19:18 madminer.ml          INFO    Rescaling inputs\n",
      "19:18 madminer.ml          INFO    Creating model for method sally\n",
      "19:18 madminer.ml          INFO    Training model\n",
      "19:18 madminer.utils.ml.sc INFO      Epoch 05: train loss 0.0012 (mse_score: 0.0012)\n",
      "19:18 madminer.utils.ml.sc INFO      Epoch 10: train loss 0.0010 (mse_score: 0.0010)\n",
      "19:18 madminer.utils.ml.sc INFO      Epoch 15: train loss 0.0011 (mse_score: 0.0011)\n",
      "19:18 madminer.utils.ml.sc INFO      Epoch 20: train loss 0.0008 (mse_score: 0.0008)\n",
      "19:18 madminer.utils.ml.sc INFO      Epoch 25: train loss 0.0008 (mse_score: 0.0008)\n",
      "19:18 madminer.utils.ml.sc INFO      Epoch 30: train loss 0.0008 (mse_score: 0.0008)\n",
      "19:18 madminer.utils.ml.sc INFO      Epoch 35: train loss 0.0008 (mse_score: 0.0008)\n",
      "19:18 madminer.utils.ml.sc INFO      Epoch 40: train loss 0.0007 (mse_score: 0.0007)\n",
      "19:18 madminer.utils.ml.sc INFO      Epoch 45: train loss 0.0007 (mse_score: 0.0007)\n",
      "19:18 madminer.utils.ml.sc INFO      Epoch 50: train loss 0.0007 (mse_score: 0.0007)\n",
      "19:18 madminer.utils.ml.sc INFO    Finished training\n"
     ]
    }
   ],
   "source": [
    "ensemble = EnsembleForge(estimators=n_estimators)\n",
    "ensemble.train_all(\n",
    "    method='sally',\n",
    "    x_filename=['data/samples_ensemble/x_train{}.npy'.format(i) for i in range(n_estimators)],\n",
    "    t_xz0_filename=['data/samples_ensemble/t_xz_train{}.npy'.format(i) for i in range(n_estimators)]\n",
    ")\n",
    "ensemble.save('models/samples_ensemble')"
   ]
  },
  {
   "cell_type": "markdown",
   "metadata": {},
   "source": [
    "## 5. Data Analysis"
   ]
  },
  {
   "cell_type": "markdown",
   "metadata": {},
   "source": [
    "### 5a) Setup Fisher Information"
   ]
  },
  {
   "cell_type": "markdown",
   "metadata": {},
   "source": [
    "Let us first set up the Fisher Information class"
   ]
  },
  {
   "cell_type": "code",
   "execution_count": 6,
   "metadata": {},
   "outputs": [
    {
     "name": "stderr",
     "output_type": "stream",
     "text": [
      "19:18 madminer.fisherinfor INFO    Loading data from data/madminer_lhedata_signal.h5\n",
      "19:18 madminer.fisherinfor INFO    Found 2 parameters\n",
      "19:18 madminer.fisherinfor INFO    Found 33 nuisance parameters\n",
      "19:18 madminer.fisherinfor INFO    Found 81 benchmarks, of which 6 physical\n",
      "19:18 madminer.fisherinfor INFO    Found 14 observables: m_Z, m_H, m_ZH, pt_Z, pt_H, eta_Z, eta_H, dphi_mumu, dphi_mupmum, dphi_tata, dphi_mupH, dphi_mumH, pt_mup, pt_mum\n",
      "19:18 madminer.fisherinfor INFO    Found 8461 events\n",
      "19:18 madminer.fisherinfor INFO    Found morphing setup with 6 components\n",
      "19:18 madminer.fisherinfor INFO    Found nuisance morphing setup\n"
     ]
    }
   ],
   "source": [
    "fisher = FisherInformation(inputfile)"
   ]
  },
  {
   "cell_type": "markdown",
   "metadata": {},
   "source": [
    "### 5b) Evaluate Fisher Information - Full, Rate and Histograms"
   ]
  },
  {
   "cell_type": "markdown",
   "metadata": {},
   "source": [
    "Let us first look at the Fisher Information in the full data, in the rate only and in a few kinematic distributions"
   ]
  },
  {
   "cell_type": "code",
   "execution_count": 7,
   "metadata": {},
   "outputs": [
    {
     "name": "stderr",
     "output_type": "stream",
     "text": [
      "19:18 madminer.ml          INFO    Found ensemble with 5 estimators and expectations None\n",
      "19:18 madminer.fisherinfor INFO    Evaluating rate Fisher information\n",
      "/Users/felixkling/Documents/GitHub/madminer/madminer/fisherinformation.py:1181: RuntimeWarning: divide by zero encountered in true_divide\n",
      "  inv_sigma = sanitize_array(1.0 / sigma)  # Shape (n_events,)\n",
      "/Users/felixkling/Documents/GitHub/madminer/madminer/morphing.py:697: RuntimeWarning: invalid value encountered in true_divide\n",
      "  a.append(0.5 * np.log(benchmark_weights[:, i_pos] / benchmark_weights[:, i_neg]))\n",
      "/Users/felixkling/Documents/GitHub/madminer/madminer/morphing.py:695: RuntimeWarning: invalid value encountered in true_divide\n",
      "  a.append(np.log(benchmark_weights[:, i_pos] / benchmark_weights[:, self.i_benchmark_ref]))\n"
     ]
    }
   ],
   "source": [
    "fi_full_mean, fi_full_cov = fisher.calculate_fisher_information_full_detector(\n",
    "    theta=[0.,0.], luminosity=300*1000.,\n",
    "    model_file='models/samples_ensemble',\n",
    "    unweighted_x_sample_file='data/samples_ensemble/x_test.npy',\n",
    ")\n",
    "\n",
    "fi_rate_mean, fi_rate_cov = fisher.calculate_fisher_information_rate(\n",
    "    theta=[0.,0.],luminosity=300*1000.\n",
    ")\n",
    "\n",
    "fi_dphi_mean, fi_dphi_cov = fisher.calculate_fisher_information_hist1d(\n",
    "    theta=[0.,0.], luminosity=300*1000.,\n",
    "    observable='dphi_mumu',nbins=20,histrange=(-3.2,3.2)\n",
    ")"
   ]
  },
  {
   "cell_type": "markdown",
   "metadata": {},
   "source": [
    "### 5c) No Systematics"
   ]
  },
  {
   "cell_type": "markdown",
   "metadata": {},
   "source": [
    "To again obtain the Fisher Information without systematics, we can use `project_information()` to project out the nuisance parameter (set them all to zero)."
   ]
  },
  {
   "cell_type": "code",
   "execution_count": 8,
   "metadata": {},
   "outputs": [],
   "source": [
    "fi_full_mean_proj, fi_full_cov_proj = project_information(\n",
    "    fisher_information=fi_full_mean, covariance=fi_full_cov,remaining_components=[0,1])\n",
    "fi_rate_mean_proj, fi_rate_cov_proj = project_information(\n",
    "    fisher_information=fi_rate_mean, covariance=fi_rate_cov,remaining_components=[0,1])\n",
    "fi_dphi_mean_proj, fi_dphi_cov_proj = project_information(\n",
    "    fisher_information=fi_dphi_mean, covariance=fi_dphi_cov,remaining_components=[0,1])"
   ]
  },
  {
   "cell_type": "markdown",
   "metadata": {},
   "source": [
    "Let's plot the result"
   ]
  },
  {
   "cell_type": "code",
   "execution_count": 9,
   "metadata": {},
   "outputs": [
    {
     "name": "stderr",
     "output_type": "stream",
     "text": [
      "/Users/felixkling/Documents/GitHub/madminer/madminer/plotting.py:714: RuntimeWarning: invalid value encountered in sqrt\n",
      "  uncertainties = (var ** 0.5).reshape((resolution, resolution))\n",
      "/Users/felixkling/Documents/GitHub/madminer/madminer/plotting.py:727: RuntimeWarning: invalid value encountered in greater\n",
      "  band = (d2_up > d2_threshold) * (d2_down < d2_threshold) + (d2_up < d2_threshold) * (d2_down > d2_threshold)\n",
      "/Users/felixkling/Documents/GitHub/madminer/madminer/plotting.py:727: RuntimeWarning: invalid value encountered in less\n",
      "  band = (d2_up > d2_threshold) * (d2_down < d2_threshold) + (d2_up < d2_threshold) * (d2_down > d2_threshold)\n"
     ]
    },
    {
     "data": {
      "image/png": "[encoded data removed]",
      "text/plain": [
       "<matplotlib.figure.Figure at 0x10cb2a390>"
      ]
     },
     "metadata": {},
     "output_type": "display_data"
    }
   ],
   "source": [
    "_ = plot_fisher_information_contours_2d(\n",
    "    [fi_full_mean_proj, fi_rate_mean_proj, fi_dphi_mean_proj],\n",
    "    [fi_full_cov_proj , fi_rate_cov_proj , fi_dphi_cov_proj ],\n",
    "    inline_labels=[\"Full\",\"Rate\",\"$\\Delta\\phi_{\\mu\\mu}$\"],\n",
    "    xrange=(-10,10),\n",
    "    yrange=(-150,150)\n",
    ")"
   ]
  },
  {
   "cell_type": "markdown",
   "metadata": {},
   "source": [
    "### 5d) Including Systematics"
   ]
  },
  {
   "cell_type": "markdown",
   "metadata": {},
   "source": [
    "We can also profile over the systematics. The nuisance parameters, by construction, follow Gaussian distributions with mean $\\langle \\nu \\rangle=0 $ and width $\\sigma_\\nu=1$. This provides an additional contribution to the Fisher Information, $I_{ij}^{}=I_{ij}^{0}+I_{ij}^{\\nu}$, where $I_{ij}$ is the total Fisher Info, $I^0_{ij}$ is the Fisher Information obtained by the analyzed process only and $I_{ij}^\\nu = \\delta_{ik}\\delta_{kj}/{\\sigma_\\nu^2}$ is the addition contribution from the constraints of the nuisance parameter. Let's first calulate the Fisher Info for the nuisance parameter:"
   ]
  },
  {
   "cell_type": "code",
   "execution_count": 10,
   "metadata": {},
   "outputs": [],
   "source": [
    "fi_nuisance = fisher.calculate_fisher_information_nuisance_constraints()"
   ]
  },
  {
   "cell_type": "markdown",
   "metadata": {},
   "source": [
    "Now we can add the two Fisher Informations, and also profile over the nuisance parameters"
   ]
  },
  {
   "cell_type": "code",
   "execution_count": 12,
   "metadata": {},
   "outputs": [],
   "source": [
    "fi_full_mean_prof, fi_full_cov_prof = profile_information(\n",
    "    fisher_information=fi_full_mean+fi_nuisance, covariance=fi_full_cov,remaining_components=[0,1])\n",
    "fi_rate_mean_prof, fi_rate_cov_prof = profile_information(\n",
    "    fisher_information=fi_rate_mean+fi_nuisance, covariance=fi_rate_cov,remaining_components=[0,1])\n",
    "fi_dphi_mean_prof, fi_dphi_cov_prof = profile_information(\n",
    "    fisher_information=fi_dphi_mean+fi_nuisance, covariance=fi_dphi_cov,remaining_components=[0,1])"
   ]
  },
  {
   "cell_type": "markdown",
   "metadata": {},
   "source": [
    "Let's now plot the result"
   ]
  },
  {
   "cell_type": "code",
   "execution_count": 18,
   "metadata": {},
   "outputs": [
    {
     "data": {
      "image/png": "[encoded data removed]",
      "text/plain": [
       "<matplotlib.figure.Figure at 0x111aa0b50>"
      ]
     },
     "metadata": {},
     "output_type": "display_data"
    }
   ],
   "source": [
    "_ = plot_fisher_information_contours_2d(\n",
    "    [fi_full_mean_proj,fi_full_mean_prof,fi_rate_mean_proj,fi_rate_mean_prof,fi_dphi_mean_proj,fi_dphi_mean_prof],\n",
    "    [fi_full_cov_proj ,fi_full_cov_prof ,fi_rate_cov_proj ,fi_rate_cov_prof ,fi_dphi_cov_proj ,fi_dphi_cov_prof ],\n",
    "    inline_labels=[\"Full\",\"Full+Syst\",\"Rate\",\"Rate+Syst\",\"$\\Delta\\phi_{\\mu\\mu}$\",\"$\\Delta\\phi_{\\mu\\mu}$+Syst\"],\n",
    "    linestyles=[\"solid\",\"dashed\",\"solid\",\"dashed\",\"solid\",\"dashed\"],\n",
    "    colors=[\"C0\",\"C0\",\"C1\",\"C1\",\"C2\",\"C2\"],\n",
    "    xrange=(-10,10),\n",
    "    yrange=(-150,150),\n",
    ")"
   ]
  },
  {
   "cell_type": "code",
   "execution_count": null,
   "metadata": {},
   "outputs": [],
   "source": []
  }
 ],
 "metadata": {
  "kernelspec": {
   "display_name": "Python 2",
   "language": "python",
   "name": "python2"
  },
  "language_info": {
   "codemirror_mode": {
    "name": "ipython",
    "version": 2
   },
   "file_extension": ".py",
   "mimetype": "text/x-python",
   "name": "python",
   "nbconvert_exporter": "python",
   "pygments_lexer": "ipython2",
   "version": "2.7.15"
  }
 },
 "nbformat": 4,
 "nbformat_minor": 2
}
