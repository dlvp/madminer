{
 "cells": [
  {
   "cell_type": "code",
   "execution_count": 77,
   "metadata": {},
   "outputs": [],
   "source": [
    "import shutil\n",
    "import logging\n",
    "import numpy as np\n",
    "import matplotlib.pyplot as plt\n",
    "from madminer.utils.interfaces.mg import (\n",
    "    generate_mg_process,\n",
    "    prepare_run_mg_pythia,\n",
    "    run_mg_pythia,\n",
    ")"
   ]
  },
  {
   "cell_type": "code",
   "execution_count": 2,
   "metadata": {},
   "outputs": [],
   "source": [
    "mg_directory = '/Users/dpappadopulo/Projects/~Physics/MG5_2.6.4'\n",
    "temp_directory = mg_directory + '/tmp'\n",
    "cards_dir = '/Users/dpappadopulo/Projects/~Physics/madminer/examples/example1_wgamma/cards'\n",
    "lhapdf_repo = \"/Users/dpappadopulo/Projects/~Physics/MG5_2.6.4/HEPTools/lhapdf6/share/LHAPDF/PDF4LHC_repo\"\n",
    "lhapdf_dir = \"/Users/dpappadopulo/Projects/~Physics/MG5_2.6.4/HEPTools/lhapdf6/share/LHAPDF/PDF4LHC15_nlo_30\"\n",
    "\n",
    "\n",
    "run_cards = ['run_card_{}.dat'.format(i) for i in range(18)]\n",
    "dat_files = ['PDF4LHC15_nlo_30_'+'{:04d}'.format(i)+'.dat' for i in range(31)]"
   ]
  },
  {
   "cell_type": "markdown",
   "metadata": {},
   "source": [
    "This set up the environment to generate the events"
   ]
  },
  {
   "cell_type": "code",
   "execution_count": 3,
   "metadata": {},
   "outputs": [],
   "source": [
    "generate_mg_process(\n",
    "            mg_directory,\n",
    "            temp_directory, # ?\n",
    "            cards_dir + '/proc_card_wgamma.dat', # where the process card is\n",
    "            temp_directory , # events are gonna go in temp_directory/Events\n",
    "            ufo_model_directory=None,\n",
    "            log_file=temp_directory+ '/log.txt', # where to save the logs\n",
    "            initial_command= None # forget about this\n",
    "        )"
   ]
  },
  {
   "cell_type": "markdown",
   "metadata": {},
   "source": [
    "Generate the events"
   ]
  },
  {
   "cell_type": "code",
   "execution_count": null,
   "metadata": {},
   "outputs": [],
   "source": [
    "for bin_id in range(18):\n",
    "    for pdf_id in range(31):\n",
    "        print \"Doing pT bin number: {}\".format(bin_id) + \" - PDF member number: {}\".format(pdf_id)\n",
    "        \n",
    "        # This moves everythime the PDF card in the folder where it can be read by MG, \n",
    "        # and renames it as the central member of the PDF set.\n",
    "        shutil.copy(lhapdf_repo + '/' + dat_files[pdf_id], lhapdf_dir + '/' + 'PDF4LHC15_nlo_30_0000.dat')\n",
    "        \n",
    "        run_mg_pythia(\n",
    "                        mg_directory,\n",
    "                        temp_directory,\n",
    "                        proc_card_filename=None,\n",
    "                        run_card_file=cards_dir + '/runcards_photon_pT_cut/' + run_cards[bin_id],\n",
    "                        param_card_file=None,\n",
    "                        reweight_card_file=None,\n",
    "                        pythia8_card_file=None,\n",
    "                        is_background=False,\n",
    "                        initial_command=None,\n",
    "                        log_file=temp_directory+ '/log.txt',\n",
    "                        )"
   ]
  },
  {
   "cell_type": "markdown",
   "metadata": {},
   "source": [
    "Read files and calculate stuff"
   ]
  },
  {
   "cell_type": "code",
   "execution_count": 22,
   "metadata": {},
   "outputs": [],
   "source": [
    "events_directory = temp_directory + '/Events'  # contains run_ID folders"
   ]
  },
  {
   "cell_type": "code",
   "execution_count": 23,
   "metadata": {},
   "outputs": [],
   "source": [
    "def get_file(bin_id, pdf_id):\n",
    "    \"\"\"\n",
    "    bin_id from 0 to 17\n",
    "    run_id from 1 to 30\n",
    "    \"\"\"\n",
    "    label = bin_id*31+pdf_id+1\n",
    "    return '/run_'+'{:02d}'.format(label)+'/run_{:02d}_tag_1_banner.txt'.format(label)"
   ]
  },
  {
   "cell_type": "code",
   "execution_count": 29,
   "metadata": {},
   "outputs": [],
   "source": [
    "results = {}\n",
    "for bin_id in range(18):\n",
    "    for pdf_id in range(31):\n",
    "        #print \"Doing pT bin number: {}\".format(bin_id) + \" - PDF member number: {}\".format(pdf_id)\n",
    "        with open(events_directory +get_file(bin_id, pdf_id), 'r') as f:\n",
    "            for line in f:\n",
    "                if 'Integrated weight' in line:\n",
    "                    results[(bin_id, pdf_id)] = float(line.split()[-1])"
   ]
  },
  {
   "cell_type": "code",
   "execution_count": 42,
   "metadata": {},
   "outputs": [],
   "source": [
    "pt_values = {}\n",
    "for bin_id in range(18):\n",
    "    pt_bin = []\n",
    "    with open(cards_dir + '/runcards_photon_pT_cut/' + run_cards[bin_id], 'r') as f:\n",
    "        for line in f:\n",
    "            if 'minimum pt for the photons' in line:\n",
    "                pt_bin.append(float(line.split()[0]))\n",
    "            if 'maximum pt for the photons' in line:\n",
    "                pt_bin.append(float(line.split()[0]))\n",
    "        pt_values[bin_id] = pt_bin"
   ]
  },
  {
   "cell_type": "code",
   "execution_count": 55,
   "metadata": {},
   "outputs": [],
   "source": [
    "sigma_pt_values = {i: [] for i in range(18)}\n",
    "for k, v in results.items():\n",
    "    sigma_pt_values[k[0]].append((k[1], v))\n",
    "for k, v in sigma_pt_values.items():\n",
    "    sigma_pt_values[k] = sorted(v, key=lambda x: x[0])"
   ]
  },
  {
   "cell_type": "code",
   "execution_count": 62,
   "metadata": {},
   "outputs": [],
   "source": [
    "delta_pt_bin = {}\n",
    "for bin_id in range(18):\n",
    "    delta = 0\n",
    "    central = sigma_pt_values[bin_id][0][1]\n",
    "    for member in sigma_pt_values[bin_id][1:]:\n",
    "        delta += (member[1]-central) ** 2\n",
    "    delta_pt_bin[bin_id] = np.sqrt(delta) / central"
   ]
  },
  {
   "cell_type": "markdown",
   "metadata": {},
   "source": [
    "Plot"
   ]
  },
  {
   "cell_type": "code",
   "execution_count": 106,
   "metadata": {},
   "outputs": [
    {
     "data": {
      "image/png": "[encoded data removed]",
      "text/plain": [
       "<Figure size 1080x360 with 1 Axes>"
      ]
     },
     "metadata": {
      "needs_background": "light"
     },
     "output_type": "display_data"
    }
   ],
   "source": [
    "bins_lower = np.array([v[0] for v in pt_values.values()])\n",
    "bins_higher =  np.array([v[1] for v in pt_values.values()])\n",
    "bins = (bins_higher+bins_lower)/2\n",
    "\n",
    "plt.rcParams.update({'font.size': 18})\n",
    "f, ax = plt.subplots(figsize=(15,5))\n",
    "plt.bar(bins, delta_pt_bin.values(), width =0.95* (bins_higher-bins_lower), color = 'gray')\n",
    "plt.xlabel('$p_T(\\gamma)$', fontsize=18)\n",
    "plt.ylabel('$\\delta \\sigma / \\sigma$', fontsize=18)\n",
    "plt.show()"
   ]
  }
 ],
 "metadata": {
  "kernelspec": {
   "display_name": "Python 2",
   "language": "python",
   "name": "python2"
  },
  "language_info": {
   "codemirror_mode": {
    "name": "ipython",
    "version": 2
   },
   "file_extension": ".py",
   "mimetype": "text/x-python",
   "name": "python",
   "nbconvert_exporter": "python",
   "pygments_lexer": "ipython2",
   "version": "2.7.15"
  }
 },
 "nbformat": 4,
 "nbformat_minor": 2
}
