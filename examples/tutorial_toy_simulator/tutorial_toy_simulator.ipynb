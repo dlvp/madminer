{
 "cells": [
  {
   "cell_type": "markdown",
   "metadata": {},
   "source": [
    "# Toy example\n",
    "\n",
    "Original notebook by Alexander Held, edited for the MadMiner repository by Johann Brehmer, Felix Kling, and Kyle Cranmer 2018."
   ]
  },
  {
   "cell_type": "markdown",
   "metadata": {},
   "source": [
    "In this notebook, we use a simple toy example to demonstrate the machine learning and inference algorithms in MadMiner. This allows us to skip many of the more technical steps, and there's no dependency on MadGraph, Pythia, or Delphes.\n",
    "\n",
    "What this tutorial does not do, is explaining the inference methods. To understand what's happening, please have a look at [\"Constraining Effective Field Theories With Machine Learning\"](https://arxiv.org/abs/1805.00013), which will explain the basic idea in just a few pages. If you really want to get down to the dirty details, [\"A Guide to Constraining Effective Field Theories With Machine Learning\"](https://arxiv.org/abs/1805.00020) has you covered."
   ]
  },
  {
   "cell_type": "markdown",
   "metadata": {},
   "source": [
    "## Preparations"
   ]
  },
  {
   "cell_type": "code",
   "execution_count": 2,
   "metadata": {},
   "outputs": [
    {
     "name": "stdout",
     "output_type": "stream",
     "text": [
      "LICENSE.md      \u001b[1m\u001b[36mdocs\u001b[m\u001b[m            \u001b[1m\u001b[36mexamples\u001b[m\u001b[m        setup.py\n",
      "README.md       environment.yml \u001b[1m\u001b[36mmadminer\u001b[m\u001b[m        \u001b[1m\u001b[36mtests\u001b[m\u001b[m\n"
     ]
    }
   ],
   "source": [
    "!ls ../../"
   ]
  },
  {
   "cell_type": "code",
   "execution_count": 3,
   "metadata": {},
   "outputs": [],
   "source": [
<<<<<<< HEAD
    "import sys\n",
    "import os\n",
    "madminer_src_path = \"../\"\n",
    "sys.path.append(madminer_src_path)\n",
    "\n",
=======
>>>>>>> 22b35102f47e23cebd0dd4f617e6da3071fe26b7
    "from __future__ import absolute_import, division, print_function, unicode_literals\n",
    "\n",
    "import os\n",
    "import logging\n",
    "import numpy as np\n",
    "from scipy.stats import norm\n",
    "import matplotlib\n",
    "from matplotlib import pyplot as plt\n",
    "%matplotlib inline\n",
    "\n",
    "from madminer.ml import MLForge"
   ]
  },
  {
   "cell_type": "code",
   "execution_count": 4,
   "metadata": {},
   "outputs": [],
   "source": [
    "if not os.path.exists('data'):\n",
    "    os.makedirs('data')"
   ]
  },
  {
   "cell_type": "markdown",
   "metadata": {},
   "source": [
    "MadMiner uses the Python `logging` module to provide additional information and debugging output. You can choose how much of this output you want to see by switching the level in the following lines to `logging.DEBUG` or `logging.WARNING`."
   ]
  },
  {
   "cell_type": "code",
   "execution_count": 5,
   "metadata": {},
   "outputs": [],
   "source": [
    "# MadMiner output\n",
    "logging.basicConfig(\n",
    "    format='%(asctime)-5.5s %(name)-20.20s %(levelname)-7.7s %(message)s',\n",
    "    datefmt='%H:%M',\n",
    "    level=logging.INFO\n",
    ")\n",
    "\n",
    "# Output of all other modules (e.g. matplotlib)\n",
    "for key in logging.Logger.manager.loggerDict:\n",
    "    if \"madminer\" not in key:\n",
    "        logging.getLogger(key).setLevel(logging.WARNING)"
   ]
  },
  {
   "cell_type": "markdown",
   "metadata": {},
   "source": [
    "## 1. A toy simulator"
   ]
  },
  {
   "cell_type": "markdown",
   "metadata": {},
   "source": [
    "Our simulator depends on just one parameter `theta` and produces one-dimensional observables `x`. It is characterized by one latent variable `z`. \"Running\" the simulator consists of two steps:\n",
    "- \"Hard process\": a value of `z` is drawn from a normal distribution, where the mean depends on `theta`. \n",
    "- \"Detector\": a value for `x` is drawn from a normal distribution with mean equal to `z`. There is no explicit dependence on `theta`.\n",
    "\n",
    "As in the particle physics case, we assume that we can calculate the joint likelihood ratio `r(x, z | theta0, theta1)` as well as the joint score `t(x, z | theta)`, which depend explicitly on `z` (and where the \"detector\" part cancels).\n",
    "\n",
    "Here are some general settings (feel free to play with them): "
   ]
  },
  {
   "cell_type": "code",
   "execution_count": 6,
   "metadata": {},
   "outputs": [],
   "source": [
    "z_std = 2.\n",
    "x_std = 1."
   ]
  },
  {
   "cell_type": "markdown",
   "metadata": {},
   "source": [
    "The following function runs the simulator for a value of `theta` and calculates the joint likelihood ratio between `theta0` and `theta1` as well as the joint score at `theta_score`:"
   ]
  },
  {
   "cell_type": "code",
   "execution_count": 7,
   "metadata": {},
   "outputs": [],
   "source": [
    "def simulate(theta, theta0=None, theta1=None, theta_score=None, npoints=None):\n",
    "    # Draw latent variables z \n",
    "    z = np.random.normal(loc=theta, scale=z_std, size=npoints)\n",
    "    \n",
    "    # Draw observables x\n",
    "    x = np.random.normal(loc=z  , scale=x_std, size=None)\n",
    "    \n",
    "    # Calculate joint likelihood ratio and joint score\n",
    "    if theta0 is not None and theta1 is not None:\n",
    "        r_xz = norm(loc=theta0, scale=z_std).pdf(z) / norm(loc=theta1, scale=z_std).pdf(z)\n",
    "    else:\n",
    "        r_xz = None\n",
    "        \n",
    "    if theta_score is not None:\n",
    "        t_xz = (x - theta_score) / z_std**2\n",
    "    else:\n",
    "        t_xz = None\n",
    "    \n",
    "    return x, r_xz, t_xz"
   ]
  },
  {
   "cell_type": "markdown",
   "metadata": {},
   "source": [
    "Usually the likelihood function `p(x|theta)` is intractable, but in this toy example it is just given by the convolution of two Gaussians, which is again a Gaussian. We will use this to validate the results later:"
   ]
  },
  {
   "cell_type": "code",
   "execution_count": 8,
   "metadata": {},
   "outputs": [],
   "source": [
    "def calculate_likelihood_ratio(x, theta0, theta1=0.):\n",
    "    combined_std = (z_std**2 + x_std**2)**0.5\n",
    "    r_x = norm(loc=theta0, scale=combined_std).pdf(x) / norm(loc=theta1, scale=combined_std).pdf(x)\n",
    "    return r_x"
   ]
  },
  {
   "cell_type": "markdown",
   "metadata": {},
   "source": [
    "Let's now visualize that: we run the simulation and plot the probability distributions $p(x | \\theta_i)$. Additionally, we also plot the true log-likelihood ratio $\\log\\,r(x|\\theta_0,\\theta_1)$. "
   ]
  },
  {
   "cell_type": "code",
   "execution_count": 9,
   "metadata": {},
   "outputs": [
    {
     "name": "stderr",
     "output_type": "stream",
     "text": [
<<<<<<< HEAD
      "/Users/dpappadopulo/miniconda3/envs/dpenv27/lib/python2.7/site-packages/matplotlib/axes/_axes.py:6571: UserWarning: The 'normed' kwarg is deprecated, and has been replaced by the 'density' kwarg.\n",
      "  warnings.warn(\"The 'normed' kwarg is deprecated, and has been \"\n"
=======
      "/Users/johannbrehmer/anaconda3/envs/higgs_inference/lib/python3.6/site-packages/matplotlib/axes/_axes.py:6510: MatplotlibDeprecationWarning: \n",
      "The 'normed' kwarg was deprecated in Matplotlib 2.1 and will be removed in 3.1. Use 'density' instead.\n",
      "  alternative=\"'density'\", removal=\"3.1\")\n"
>>>>>>> 22b35102f47e23cebd0dd4f617e6da3071fe26b7
     ]
    },
    {
     "data": {
<<<<<<< HEAD
      "image/png": "iVBORw0KGgoAAAANSUhEUgAAAYIAAAFACAYAAACx2ns2AAAABHNCSVQICAgIfAhkiAAAAAlwSFlzAAALEgAACxIB0t1+/AAAADl0RVh0U29mdHdhcmUAbWF0cGxvdGxpYiB2ZXJzaW9uIDIuMi4zLCBodHRwOi8vbWF0cGxvdGxpYi5vcmcvIxREBQAAIABJREFUeJzt3Xt4FOXZ+PHvTUIggAIGD8hBoGArgiIiqFREEEFQTgUFQcEAIUttK9Yq1goUq6UnqG+VhHAWULAoFQv+qBZt1bcqoBzEIyLFUOoBBDlDyP37Yya8m2WX7GY3O3u4P9c1V3Znnnnmns3u3jvzzDyPqCrGGGPSVzWvAzDGGOMtSwTGGJPmLBEYY0yas0RgjDFpzhKBMcakOUsExhiT5iwRGGNMmrNEYIwxac4SgTHGpLlMrwPwQrVq1TQ7O9vrMIwxKebQoUOqqkn3AzstE0F2djYHDx70OgxjTIoRkcNex1AZSZe5jDHGxJYlAmOMSXOWCIwxJs2lZRtBMMePH6e4uJgjR454HUpCqVmzJo0bN6Z69epeh5K27L2ZeFLtcyHpOB5B7dq1NbCx+LPPPuOMM84gJycHEfEossSiquzevZv9+/fTvHlzr8NJW/beTCyn+1yIyCFVre1RaJVmp4ZcR44csQ9aABEhJyfHfol6zN6biSUVPxeWCPzYB+1U9pokBvs/JJZU+39YIjDGmDRnicAYY9KcJQITU99++y2PP/44X375pdehGGPCZJePhtB56hp27o3d3eKN6mXzxoRulV7/8OHD9OrVizVr1pCRkRGyXNeuXZk/fz7NmjXjxIkT3HPPPbz88stUq1aN559/nhYtWpyyzrFjx7j++utZs2YNmZnRvSV27tzJj370Iw4cOMCECROiqsskljp16nDgwIGY1VeZ9zQQ9vs6FC8+F4kutfcuCjv3Hmb71D4xq6/ZhJVRrT937lwGDhx42g9MoF//+te0aNGCLVu2MGvWLGbMmMHvf//7U8plZWXRvXt3li5dyrBhw6KK86KLLqJr167MnDmTn/3sZxHFezrBEnO0ydV458SJE5V6T0P47+to14/l5yLRWSJIMEOHDqW0tJTPPvuML774ghkzZtCnTx8WL17MU089dbLcddddx89//nN69OjBL37xC/bt28ef/vSnk8sPHjzI8uXLWb9+PQDNmzdn5crQyah///488MADMXnD+3w+br31VlavXk3v3r2jrg+CJ+Zok2syuvvuu9mwYUNM62zXrh1//OMfwy4/bdo05s6dC8Do0aO5++67AXj44YdZtGgRZ599Nk2aNOHyyy/n3nvvPbne4MGDOeuss9i4cSM33XQTq1atiug9DZG/rwN5+blIZJYIEszGjRvp168fS5cu5fXXX+eee+6hR48ebNu27eShMcAvf/lLJk6cyJdffsm7777LihUrytXz8ssv8/nnn9OuXTsA9uzZw/XXXx9yu23atGHt2rUx2Yf+/ftz3nnnUVBQELNEEEyjetmnJAM7Sqha69evZ968ebz11luoKp06deLaa6+lpKSEZ599lo0bN3L8+HHat2/P5ZdfXm7dzZs3c8stt/Dmm29y7NgxHn/88Yje0xD5+zra9WP5uUhklggSyJEjR/jqq6+YNGkSAK1bt+abb77h66+/pl69euXKdunSBVVl2rRpvPrqq6ccXm/YsIEpU6aQn58POL/cLrnkEg4ePMi4cePIysqia9euJ3/pZGRkkJWVxf79+znjjDOi2o+srCxGjRrFo48+yr///W8uuOCCqOoLJdgXfqofJUTyy70qvP766wwYMIDatZ2bZwcOHMhrr71GaWkp/fr1o2bNmtSsWZObb7653HpHjhxhz549TJw4EaBS72mI/H0d7vrbtm3jkUceYd++fSxbtuxk+Vh+LhKZXTWUQN577z1atWpFzZo1AXjnnXe49NJLyc7OPuUuxs2bN7Nr1y6ysrKCvkG/+eYbatWqBUBJSQl/+9vfuPnmm3nuuecYNGgQs2bNOuUX19GjR09uO1p5eXmICEVFRTGpzyS3LVu20KlTp5ONrpV5T0Pl3tfhrN+iRQvmzJkTdJ1Yfi5EpKaIvC0iG0Vki4j8MiYVR8kSQQLZuHEjO3bs4MiRIxw8eJBJkyYxfvx46tevz4kTJ05+cHbt2sWwYcN4/vnnqVOnDv/v//2/U+q68MILefPNNwGYPn06ffr0oXnz5hQXF9OkSROAcr+4du/eTYMGDWLWiVbTpk3p06cPs2fP5tixYzGp03jvmmuu4S9/+QuHDh06eb79mmuuoXPnzrzwwgscOXKEAwcO8Ne//rXceps3b+aSSy45+bwy72mI/H3dvXt3du7cWeH6ocT6cwEcBbqp6qVAO6CXiFwZq8ory04NhRDs/HO09VVk48aNDBw4kE6dOnH8+HF+/vOf07lzZwBuuOEGXn/9da6++moGDhzIH/7wBy666CIeeugh7r//fnr16lWurqFDh3LjjTfSsmVLrrrqqpO/zBs3bkxxcTHt2rWjtLT0ZPlXXnmFPn1id5UUwLhx43jhhRdYvnw5t956a0zrNt5o3749I0eOpGPHjoBzauWyyy4DoG/fvlxyySWce+65tG3blrp1655cb/PmzSfXKRPpexoie1+XlpaydetWzjrrrArXDyXWnwt1evksuwa3ujt53/OnqqbdVKtWLQ30/vvvnzIv3rp06aIffvhh0GXr16/X4cOHV1jHtddeq5999lnI5QcOHNCRI0dqfn6+Llq06OT8AQMG6EcffRR0ncq+NidOnNAWLVrotddeW6n1/V1w/19jWs5T09qoTjqz/DStTcjiifDeDMf+/ftVVfXgwYN6+eWX6/r1609bPlbvadXg7+vNmzfr+PHjw4r966+/1rFjx2qLFi300UcfPTk/0s8Fzi/+dX5TngZ8/wAZwAachPCbwOVeTHZEkEA+/fRTWrVqFXRZ+/btue666zhx4kRU1+bXrl2befPmlZt37Ngx+vfvz4UXXljpeoOpVq0aY8eO5f7772fLli1cfPHFMa0/ae3bAZP3lZ83uW7wskkkLy+P999/nyNHjjBixAjat29/2vKxek9D8Pd1mzZtmDZtWljr5+TkUFhYWG5eJT8XJara4XQFVPUE0E5E6gHLRaSNqr4XyUZiLa6JQER6AY/hZMTZqjo1YHkX4I/AJcAQVV3mzr8OmO5X9Hvu8r+IyHzgWqDskzVSVWN7oXWcFBcXn3Z5bm5uhXWMHDnylKsxKpKVlcUdd9wR0Trhys3N5aGHHqKwsPCUa8Krgl1S6h3/ewLCVVXv6Vioys8FgKruFZFXgF5AeiQCEckAngB6AMXAWhFZoarv+xXbAYwE7vVfV1VfwWlYQUTOArYCf/Mr8rOypJHuRo4c6XUI5TRo0IDBgwfz5JNP8utf/5o6depU6fbS8ZLSVJdo7+loiMjZwHE3CWTjfB/+xuOw4nrVUEdgq6puU9VjwBKgn38BVd2uqpuA0mAVuAYBL6rqoaoL1cSSz+fj22+/5emnn/Y6FGO81hB4RUQ2AWuBl1T1rxWsU+XimQgaAZ/7PS9250VqCBD4jfKIiGwSkekiUqOyAZqqcfXVV9O2bVsKCgrKGstMhOx1SyyV/X+o6iZVvUxVL1HVNqo6JcahVUpS3UcgIg2BtsBqv9kP4LQZXAGcBdwfYt08EVknIutKSkqqPFbzf0QEn8/Hu+++y9tvv+11OEmnZs2a7N6925JBglB3zOJY3WSWCOLZWLwTaOL3vLE7LxK3AMtV9XjZDFXd5T48KiLzCGhf8CtXBBSBM3h9hNs1URo+fDj33XcfM2bMoFOnTqctG6qn0XRVdo38V1995XUoxlWzZk0aN27sdRgxE89EsBZoJSLNcRLAEOC2COsYinMEcJKINFTVXeIMItofj1vfTXBnnHEGt99+O3PnzmXatGnk5OSELBvrLsCTXfXq1U9796sx0YrbqSFVLQHuwjmt8wHwjKpuEZEpItIXQESuEJFiYDAwU0S2lK0vIs1wjij+EVD1YhHZDGwGGgC/qup9MZXj8/k4evQo8+fP9zoUY4yfuN5HoKqrgFUB8yb6PV6Lc8oo2LrbCdK4rKp2gXiSaNu2LZ07d6awsJDx48dTrVpSNVEZk7LszuJQprd17gCNlbpNYfzmSq+eLENVVsTn8zF8+HD+/ve/06NHjyrdljEmPJYIQgnWDUA0ouxCIFmGqqzIoEGDuPvuuykoKEiPRBDsB0Xdpt7EYkwIlggSTCoMVXk6NWrUIDc3lz/84Q8UFxen1JUXQYX7g6Ju01N/LER5FGlMuOwkbYLZuHEjLVq04O2332bx4sX88pe/5NixY0GHqnzkkUdYvHgx77777ikjV/kPydeuXTtyc3PLdccbKJ5D8o0dO5bS0lJmzZoVl+0lhfGbnYThP8Xy1KQxp2GJIIFUdqjKJUuWhByqcsOGDWzYsIEbbriBdu3asW3bNkaNGsWgQYPKlfcfkq+qtWjRgl69ejFr1iyOHz9e8QrGmCpliSCBxGOoyngNyVcRn8/Hrl27TjusoDEmPiwRJJB4DFUZShUMyXdavXv3pmnTphQUFMRle8aY0KyxOJRgjXfR1leBeAxVGUpVDFV5OhkZGeTl5fGLX/yCjz/+OOaD4sRdqMuNo7lCyBqQTbx4PUSaF1M6D1UZqyH5YmHXrl2amZl5ynCCsR5uMi7DV046s+q3Ec/tmEoBDmoCfMdFOtkRQQKJx1CVMRySL2rnnXceAwcOZP78+TzyyCNkZ6dvx3LGeMnaCBJIcXHxabtdyM3NrTAJJNpQlRXx+Xx88803LF261JPtG2MsEaQcr8Z3raxrr72Wiy66yBqNjfGQJQLjqbJBa95++23eeecdr8MxJi1ZIvCjNgLUKeLxmtx+++3UqlWryo4KGtXLptmEleWmzlPXVMm2jElG1ljsKhsOMCcnB2eMG6NxGpKvXr16DB06lKeeeorf/e53Ma//jQmn9lTebELofpeMSTeWCFw2HGBw8RqSb9y4ccyZM4cnn3wS+E6Vb88Y838sEbhsOEBvtW/fno4dO1JYWIje/Fuvw0lcdpOZqQKWCEzC8Pl83HnnnZzbbjNwk9fhJKZgX/ixvAPepCVrLDYJ49Zbb6VevXrsf/dFr0MxJq3YEYFJGNnZ2dx5551Mf+x/+O9//8t5553ndUjJwU4XmSjZEYFJKPn5+VB6ImRX2SYIG9TGRMkSgUkoF154ITUvuJSioiJOnDjhdTjGpAVLBCbh1LmsNzt27GDVqlVeh2JMWrBEYBJOrZadaNiwITNmzPA6FGPSgiUCk3AkI5MxY8awevVqtm3b5nU4xsSMiDQRkVdE5H0R2SIiP/E6JrBEYBLUmDFjqFatGjNnzvQ6FGNiqQT4qaq2Bq4EfigirT2OyS4fNd7qPHUNO/ceLjevUb1sGjduTN++fZk7dy5TpkyhRo0aHkVoTOyo6i5gl/t4v4h8ADQC3vcyrrgmAhHpBTwGZACzVXVqwPIuwB+BS4AhqrrMb9kJoOzC6B2q2ted3xxYAuQA64HbVfVYVe+LiY2dew+zfWrwsZJ9Ph/Lly9n2bJlDBs2LM6RGVO1RKQZcBnwlreRxDERiEgG8ATQAygG1orIClX1z4Q7gJHAvUGqOKyq7YLM/w0wXVWXiEghMAqwUU5SQPfu3WnZsiUFBQWJlQiCDVQfzSD1JpVkisg6v+dFqloUWEhE6gDPAner6rdxiy6EeB4RdAS2quo2ABFZAvTD75BIVbe7y0rDqVCc/qK7Abe5sxYAk7FEkBKqVatGfn4+9957L5s2beKSSy7xOiTHvh3OTVvGnKpEVTucroCIVMdJAotV9bn4hHV68WwsbgR87ve82J0Xrpoisk5E3hSR/u68HGCvqpZUVKeI5LnrryspKQlWxCSgkSNHUqNGDRvK0qQE98frHOADVZ3mdTxlkumqoQvcTHsb8EcRiajTelUtUtUOqtohM9PayJNFTk4Ot956K4sWLWL//v1eh2NMtDoDtwPdRGSDO/X2Oqh4JoKdQBO/543deWFR1Z3u323AqziNLLuBeiJS9s0eUZ0mOYwbN44DBw6waNEir0MxJiqq+rqqiqpeoqrt3MnzW+jjmQjWAq1EpLmIZAFDgBXhrCgi9UWkhvu4AU5WfV+dAXVfAQa5RUcAz8c8cuOpjh07ctlll1FQUGDjShtTBeKWCNzz+HcBq4EPgGdUdYuITBGRsktBrxCRYmAwMFNEtrirXwSsE5GNOF/8U/2uNrofuEdEtuK0GVi3lSlGRPD5fGzevJn//d//9TocY1JOXE+Wu4dAqwLmTfR7vBbn9E7gev8LtA1R5zacK5JMCrvtttu49957KSgooHPnzl6HY0xKsVZTkxRq167NHXfcQVFREdOnT+fss8+Oqr5G9bJpNmHlKfPemNAtqnqNSUaWCEzSyM/P5/HHH2fevHncd999UdUV7As/MDEYky6S6fJRk+YuvvhiunTpQmFhIaWlYd1zaIwJgyUCk1R8Ph+fffYZq1ev9joUY1KGJQKTVAYOHMg555xjdxobE0OWCExSycrKYvTo0axcuZIdO2yAdmNiwRKBSTp5eXmoKkVFp3TqaIypBEsEJulccMEF9OnTh9mzZ3PsmA09YUy0LBGYpOTz+fjiiy/4y1/+4nUoxiQ9SwQmKfXs2ZNmzZpZo7ExMWCJwCSljIwM8vPzefXVV/nggw+8DseYpGaJwCSt3NxcsrKyKCws9DoUY5KaJQKTtM4++2wGDRrEggULOHjwoNfhGJO0LBGYpObz+di3bx9LlizxOhRjkpYlApPUOnfuTJs2bazR2JgoWCIwSa1s0Jr169ezdu1ar8MxJilZN9SmSnSeuoadew+Xm1dV/f0PHz6c++67jxkzZjBv3ryY129MqrNEYKrEzr2H2T61T7l5VdXf/5lnnsnw4cNZsGABf/jDHzjrrLOqZDvGpCpLBCZuQo0KFgs+n4+ZM2eyYMECxo8fH5M6jUkXlghM3FTlMJCXXnopV111FYWFhfzkJz+hWjVr/jImXPZpMSnD5/Px8ccf88orr3gdijFJxRKBSRmDBw8mJyeHGTNmeB2KMUnFEoFJGTVr1iQ3N5fnn3+enTt3eh2OMUnDEoFJKWPHjuXEiRPMnj3b61C8VbcpTK5bfpre1uuoTIKyxmKTUr7zne/Qs2dPZs2axYMPPkhmZpq+xcdvPnXe5Lrxj8MkhTT9lJhU5vP56N+/Py+88AIDBgyIrrLpbWFfwNjIdZtGV6cxCSauiUBEegGPARnAbFWdGrC8C/BH4BJgiKouc+e3AwqAM4ETwCOqutRdNh+4FtjnVjNSVTdU/d6YRNWnTx8aN25MQUFBRIkg2H0O22vugMn7QqxhTGqIWyIQkQzgCaAHUAysFZEVqvq+X7EdwEjg3oDVDwF3qOonInI+sF5EVqvqXnf5z8qShjGZmZnk5eUxceJEPvnkE1q1ahXWekHvc5gc29hMehORucBNwJeq2sbreMrEs7G4I7BVVbep6jFgCdDPv4CqblfVTUBpwPyPVfUT9/F/gC+Bs+MTtklGo0ePJjMzk5kzZ3odijH+5gO9vA4iUDwTQSPgc7/nxe68iIhIRyAL+NRv9iMisklEpotIjRDr5YnIOhFZV1JSEulmTZJp2LAhAwYMYN68eRw+fLjiFYyJA1X9J7DH6zgCJdXloyLSEFgI3KmqZUcNDwDfA64AzgLuD7auqhapagdV7ZC2V5KkGZ/Px549e/jzn//sdSgmfWSW/eB0pzyvAwpHPBPBTqCJ3/PG7rywiMiZwErgQVV9s2y+qu5Sx1FgHs4pKGPo2rUr3/ve92zQGhNPJWU/ON2pyOuAwhHPRLAWaCUizUUkCxgCrAhnRbf8cuDJwEZh9ygBERGgP/BeTKM2SUtEyM/P580332TDBruQzJhQ4pYIVLUEuAtYDXwAPKOqW0Rkioj0BRCRK0SkGBgMzBSRLe7qtwBdgJEissGd2rnLFovIZmAz0AD4Vbz2ySS+ESNGkJ2dbUcFxpxGXE+Wq+oqYFXAvIl+j9finDIKXG8RsChEnVXXt7FJevXq1WPo0KEsWrSI3/72t9Sta3fXGu+IyNNAV6CB+6N3kqrO8TaqJGssNqYyfD4fhw4dYuHChV6HYtKcqg5V1YaqWl1VGydCEgBLBCYNdOjQgQ4dOlBQUICqeh2OMQnHEoFJCz6fj/fff5/XXnvN61CMSTiWCExaGDJkCPXq1bNGY5OyRKS225VPxCwRmLRQq1YtRowYwbPPPssXX3zhdTjGRE1EqonIbSKyUkS+BD4EdonI+yLyOxFpGW5dlghM2vD5fBw/fpw5cxKifc6YaL0CfAend4XzVLWJqp4DfB94E/iNiAwPpyJLBCZtfPe736Vbt24UFRVx4sQJr8MxJlrXq+rDqrrJr8sdVHWPqj6rqj8AloZTkXW6Y9KKz+dj8ODBvPjii9x0003lFwYZhKZYG5x6Y4sxCUBVj8eiDNgRgUkz/fr1o2HDhsEbjfe5g9D4Td8/+j/xD9KYGBCRoB1wBmOJwKSV6tWrM3r0aF588UU+++wzr8MxJmZE5Bm/6c/A6HDXtURg0s6YMWMQEYqKkqJjSGPC9a2q3uJOg4GXw13REoFJO02aNOHmm29mzpw5HD161OtwjImVRwKePxjuipYITFry+Xx89dVXPPfcc16HYkyliEgz936B50RkNtBHRC4oW66qYY+EZonApKUePXrwne98x+40NsnseZybyJ4AegCXAv8UkSdCDdkbil0+atJStWrVyM/P52c/+xmbN2+mbdu2Qcs1qpdNswkrT5n3xgTr/dx4LqOs91IR2aOqY0QkExgPFAEjwq3IjghM2rrzzjupUaMGhYWFIcu8MaEb26f2KTft3Hs4jlEaE9LLInKX+1jBGQBMVX8HXBVJRZYITNrKycnhlltuYeHChRw4cMDrcIyJ1D1AXRFZB5wvInkiMlxEngB2R1KRJQKT1nw+H/v372fx4sVeh2JMRFS1VFUfwRnGNw84D7gcZ9z2GyOpy9oITFq78sorufTSSykoKCCvnyJeB2RMhFT1ELDCnSrFjghMWhMRfD4fGzdu5M1i64jOpCdLBCbtDRs2jDPOOIOCdWH1z2VMQhORhpFePhpxIohmFBxjElGdOnW4/fbbeWbLcXbvjqiNzZhEtBD4UER+H+4KFSaCWI6CY0yi8vl8HD0Bc+fO9ToUY6KiqtcDLYB54a4TzhFBzEbBMSZRtWnThu83zWDmzJmUlpZWvIIxCUwdW8ItH85VQ9cHG9zA7cfiWeBZEakeQYzGJCRfhyyGPfcpL730Ej179vQ6nNir2xQm1z113vjN3sRjYkpEbgP6AicAAV5Q1afDWTecRNBIRMYBLYE9wAZ3A/8uKxDuKDgmNXWeuuaUu20b1cv2KJrK+8FFmdx99tkUFBSkZiII9oUfmBhMMrtWVYeUPXFvLItZInge+B9gNTAX51bmn4nIX4F7VDXsfnxFpBfwGJABzFbVqQHLuwB/BC4BhqjqMr9lI4BfuE9/paoL3PmXA/OBbGAV8BNV1XBjMtHbufcw26f28TqMqNXIFEaNGsVvf/tbPv/8c5o0aeJ1SMZEooaI9AE+BxrjfCeGJZw2ggxVnaOqfwf2qOoYnDaD7TgdG4XFvdLoCZw73loDQ0WkdUCxHcBI4KmAdc8CJgGdgI7AJBGp7y4uAMYArdypV7gxGRNo7NixqCqzZs3yOhRjIjUOqA/0dv/edfri/yecRBCrjo06AltVdZuqHgOWAP38C6jqdlXdBAS21vUEXlLVPar6DfAS0EtEGgJnquqb7lHAk0D/CGIyppxmzZpx4403Mnv2bI4ftzOeJnEFGY8gF3hNVaeq6mL3juOwhJMI/Ds2ahRFx0aNcA5ZyhS786JZt5H7uMI63bjXici6kpKSsIM26cfn87Fr1y6ef/55r0Mx5nRCjUfweMxvKAvo2GgMUXRs5CVVLVLVDqraITPTulgyod14441ccMEFNmiNSXShTtv/mwhO20N4N5Q1FZGmQAOcK4bmA9OBlcCZZctF5MwKqtoJ+Le+NXbnhSPUujvdx5Wp05igMjIyyMvLY82aNXz44Ydeh2NSiIj0EpGPRGSriEyIsrq4jkewAOfLf4HfY//nZfMqOje/FmglIs1FJAsYQvi95a0GbhCR+m4j8Q3AalXdBXwrIleKiAB34BwuGROVUaNGUb169dMOWmNMJMK8YCYSMRuPoMJzJKp6XSWDDKynxM1eq3EuH52rqltEZAqwTlVXiMgVwHKcFu+bReSXqnqxqu4RkYdxkgnAFL+Bmcfxf5ePvuhOxpze9Lawb0f5eXWbnnx47rnnMnDgQBYsWMCjjz5KrVq14hygSUEnL5gBEJGyC2ber0xlqloKPCIi04HrgXY4353vAQ9GUlfYJ8tF5DFV/UkklQdS1VU41/r7z5vo93gt5U/1+Jebi3MfQ+D8dUCbaOIyaWjfDpi877RFxo0bx9KlS1myZAm5ublxCswkuUz3F3qZIlUtO18f7KKXTtFuMN7jEewXkRdEpDaAiPQUkTcqu2FjEt0111zDxRdfbI3GJhIlZReluFNEjbaR8GufrWiqqP02/CMCVf2F25fFqyJyDDgARNvYYZJIsK4kIDm7kwiHiJCfn8+PfvQj1q1bR4cOHbwOySS3aC6YCWYBTiPx6QbWU5xT50+erqJITg11x7l89CDQEMhV1Y/CXd8kv1TpSiISt99+O/fffz8FBQXMmTMHcBJfswkry5VrVC+bNyZ08yJEkzxOXjCDkwCGALdVtrJYtd9CZGMWPwg8pKqvi0hbYKmI3KOqa2IVjDGJpm7dugwbNoxFixbx+9//nvr16wf9wg9MDMYECnXBTLT1xqL9Nuw2AlXtpqqvu48341wC9atoNm5MMvD5fBw+fJgFCxZ4HYpJcqq6SlUvVNXvuDfqxkLU7bfh3FAW9PyTew1/99OVMSYVXHbZZXTq1InCwkKsY1uTaFT1FzjdTb/qJoB7iLD9NqwRykTkR+7dxSe5N4VdJSILgBGRbNSYZOPz+fjoo4945ZVXvA7FmHIC2m8bAD9W1dcHwDWfAAAcDklEQVQiqSOcRNALZ8Sbp0WkbKziz4BPgKHAH1V1fkSRG5NkbrnlFs466yy7lNQkorL2267AIJz224iuXAjnzuIjwAxghjskZQPgsKrujTxeY5JTdnY2d955J4899hi7du2iYcOGXodkDOC03/o93iwiN+IMI3x1uHWE3VjsVv4a8CpQJCJXhh+qMclv7NixlJSUMHv2bK9DMSam7beR3Fk8A/gpcCVOF6e/F5GhEaxvTFJr1aoVPXr0oKioCBvTwiSAmLXfRpIIvlTVN1T1G1V9GWfUsIg6NjIm2fl8PoqLi1m50u4bMJ7zb7/9j9t+u41KtN9GckPZZyLyK5yeP48BxwH7WWTSys0330yjRo0oKCigX79+Fa+Q6Oo2hcl1T503frM38ZiwqeoRESnE6XH0t0TRfhvJEUEpMAD4XEReB7biXLfaKtKNGpOsMjMzGTNmDKtXr+bTTz/1Opzojd/s9MLqPwV2z20SltsVdR9VPa6quyp7EU8kdxbfpqoXA02BnwCTcTo7miUi9s4xaWPMmDFkZGQwc+ZMr0MxBmCTiEwSkUh+2JcT8YqqelRV16vqXFX9iap2VdWmFa9pTGo4//zz6d+/P3PnzuXIkSNeh2PMWTgd2P1HRJ4XkYdFZHAkFVQ6gxiTznw+H7t372bZsmVeh2LSnKreoqoXARcAv8Q5bd8xkjosERhTCd26dePCCy9kxowZXodiDHDybM07qrpAVX8WybqWCIyphLJBa/71r3+xceNGr8MxJiqRXD5qjPEzcuRIHnzwQeeooH5fr8MxaUpE7gkyex+wXlU3hFOHHREYU0n169dnyJAhLF68mNKjh7wOx6SvDkA+0MidxuLcbDZLRO4LpwJLBMZEwefzcfDgQQ5use6pjWcaA+1V9aeq+lPgcuAcoAswMpwKLBEYE4UrrriCyy+/nP3vrrJBa4xXzgGO+j0/DpyrqocD5odkicCYKPl8Po5//W/eeCOi0QGNiZXFwFvuTWWTgTeAp9yhK98PpwJLBMZEaciQIUiN2jZojfGEqj4M5AF7gW+AfFWdoqoHVXVYOHVYIjAmSrVr16ZOm24sW7aML7/80utwTHo6jtMf3An3cUTimghEpJeIfCQiW0XklMGVRaSGiCx1l78lIs3c+cNEZIPfVCoi7dxlr7p1li07J577ZAzAGe16c+zYMebOnet1KCbNiMhPcE4PNcBpL1gkIj+KpI64JQIRyQCeAG4EWgNDRaR1QLFRwDeq2hKYDvwGQFUXq2o7VW0H3A58FnB97LCy5apqP8lM3FVv0ISuXbsyc+ZMTpw44XU4Jr2MAjqp6iRVnYgzeNiYSCqI5w1lHYGtqroNQESWAP0o35jRD6dXU4BlwOMiIlr+coyhwJKqD9eY8DWql817Z3bi6+2vcv6Qh8n+zhUn578xIaJxxI2JlOCcEipzwp0XtngmgkbA537Pi4FOocqoaomI7ANygK/9ytyKkzD8zROREzgDNv9Kg1zHJyJ5OA0qZGVlRbEbxpzqjQndOHbs+zRtOp8rjqznhamTAWg2wUYyM1VuHs5VQ8txEkB/IKJzlEnVWCwinYBDqvqe3+xhqtoWuMadbg+2rqoWqWoHVe2QmWk9a5jYy8rKYvTo0axcuZLt27d7HY5JE6o6DbgT2I3zo3mEqk6PpI54fiPuBJr4PW/szgtWplhEMoG6ODtXZgjwtP8KqrrT/btfRJ7COQX1ZGxDTz+dp65h597D5eY1qpftUTTJIy8vj1//+tcUFRXx6KOPeh2OSWEish/wP/shfstUVc8Mt654JoK1QCsRaY7zhT8EuC2gzApgBPAvYBCwpuw0jzv6zi04v/px52UC9VT1axGpDtwEvFzVO5IOdu49zPapfbwOI+k0bdqUPn36MGfOHCZPnux1OCaFqeoZsaorbqeGVLUEuAtYDXwAPKOqW0RkioiUdd04B8gRka3APYD/JaZdgM/LGptdNYDVIrIJ2ICTYGZV8a4Yc1o+n48vv/yS5557zutQjAlLXE+Wq+oqYFXAvIl+j48AQYdYU9VXcS6L8p93EKeDJWMSRs+ePWnevLlzp/FVYXX+aAzu8JKTgYuAjqq6Ll7bTqrGYmOSQbVq1cjPz+ef//wnx776t9fhmOTxHjAQ+Ge8N2yXz5jUN70t7NtRfl7dplW6ydzcXB566CEObHgRGFel2zKpQVU/AGf0u3izRGBS374dMHlfXDfZoEEDBg8ezFN/Xs6BAweoU6dOXLdvTCTs1JAxVcTn86HHDvH0009XXNikikwRWec35fkvFJGXReS9IFPgTbJxZUcExlSRq6++mupnN2PGjBmMHj3ak0N+E3clqtoh1EJVvT6ewYTLjgiMqSIiwhmX9WbDhg289dZbXodjTEiWCIypQrVbd6VOnTo2aI2pkIgMEJFi4CpgpYisjte27dSQMVWoWo1a3H777cydO5dp06aRk5PjdUgVq9sUJtc9dd74zd7EkyZUdTmw3Itt2xGBMVXM5/Nx9OhR5s+f73Uo4Rm/2bnKyn8KvPzWpBRLBMZUsbZt29K5c2cKCwspLS31OhxjTmGJwJg48Pl8bN26lb///e9eh2LMKSwRGBMHgwYNokGDBtZobBKSJQJj4qBGjRrk5uayYsUKiouLvQ7HmHIsERgTJ2PHjqW0tJTZs2d7HYox5VgiMCZOWrRoQc+ePZk1axbHjx/3OhxjTrJEYEwcjRs3jv/85z+88MILXodizEmWCIyJo969e9O0aVNrNDYJxRKBMXGUkZFBXl4eL7/8Mh9//LHX4RgDWCIwJu5GjRpFZmYmhYWFXodiDGB9DRmg89Q17Nx7uNy8RvWyPYomtTSql02zCStPmTdgwADmz5/Pr371K2rVquVRdMY4LBEYdu49zPapfbwOIyW9MaHbKfOaTVjJI+PG8ec//5lnnnmGkSNHxj8wY/xYIjCpxYPxiSvj2muv5aKLLqKgoMASgfGcJQKTWjwYn7gyRASfz8ePf/xj3nnnHdq3b+91SCaNWWOxMR654447qFWrll1KajxnicAYj9StW5fbbruNp556ir1793odjkljlgiM8ZDP5+PQoUMsXLjQ61BMGotrIhCRXiLykYhsFZEJQZbXEJGl7vK3RKSZO7+ZiBwWkQ3uVOi3zuUistld539EROK3R8ZEp3379nTs2JGCggJU1etwTJqKWyIQkQzgCeBGoDUwVERaBxQbBXyjqi2B6cBv/JZ9qqrt3Cnfb34BMAZo5U69qmofjKkKPp+PDz74gH/84x9ehxJa2TjG/tP0tl5HZWIknkcEHYGtqrpNVY8BS4B+AWX6AQvcx8uA7qf7hS8iDYEzVfVNdX5OPQn0j33oxlSdW2+9lfr16yd2o7GNY5zS4pkIGgGf+z0vducFLaOqJcA+IMdd1lxE3hWRf4jINX7l/Uf5CFYnACKSJyLrRGRdSUlJdHtiTAxlZ2czcuRInnvuOf773/96HY5JQ8nSWLwLaKqqlwH3AE+JyJmRVKCqRaraQVU7ZGba7RMmseTn51NSUsKcOXO8DsWkoXgmgp1AE7/njd15QcuISCZQF9itqkdVdTeAqq4HPgUudMs3rqBOYxLehRdeSPfu3SkqKuLEiRNeh2PSTDwTwVqglYg0F5EsYAiwIqDMCmCE+3gQsEZVVUTOdhubEZEWOI3C21R1F/CtiFzptiXcATwfj50xJtZ8Ph87duxg5cqVFRc2Jobido5EVUtE5C5gNZABzFXVLSIyBVinqiuAOcBCEdkK7MFJFgBdgCkichwoBfJVdY+7bBwwH8gGXnQnkw6SpF+hcPXt25eGDRtSUFBA3759vQ7HpJG4nixX1VXAqoB5E/0eHwEGB1nvWeDZEHWuA9rENlKTFJKkX6FwVa9enTFjxvDwww+zbds2WrRo4XVIJk0kS2OxMWlhzJgxVKtWjZkzZ3odikkjdvlMmrFBaBJb48aN6du3L3PnzmXKlCnUqFHD65BMGrBEkGZsEJrE5/P5WL58OcuWLWPYsGFeh2PSgCUCYxJM9+7dadmyJQUFBYmdCMq6nQicN36zN/EkORH5HXAzcAznEvk7VTUu3dJaG4ExCaZatWrk5+fzxhtvsGnTJq/DCc26nYi1l4A2qnoJ8DHwQLw2bInAmAQ0cuRIatSoQWFhYcWFTUpQ1b+5XesAvEn5m2WrlCUCYxJQTk4OQ4YMYeHChezfv9/rcEz4Msv6NHOnvErWk0sc74myRGBMgvL5fBw4cIDFixd7HYoJX0lZn2buVOS/UEReFpH3gkz9/Mo8CJQAcfvHW2OxMQmqY8eOXHbZZRQUFDB27FhszKXkp6rXn265iIwEbgK6axxHKrIjAmMSlIjg8/nYtGkT//rXv7wOx1QxEekF3Af0VdVD8dy2JQJjEthtt93GmWeemdiD1phYeRw4A3gpcEjeqmaJwJgEVrt2be644w6eeeYZvvrqK6/DMVVIVVuqapMQQ/JWKUsExiQ4n8/HsWPHmDdvntehmBRlicCYBNe6dWu6dOnCzJkzKS0t9Tock4LsqiFj4qxRvWyaTVh5yrw3JnQLuc64ceMYMmQIq1ev5sYbb6zqEE2asURgkkMKDUIT7As/MDEEGjBgAOeeey4FBQWWCEzMWSIwySHFBqGJVFZWFqNGjWLq1Kns2LGDpk2TMwmaxGRtBMYkibw8p7eCoqKiCkp6qKxHUv9peluvozIVsCMCY5LEBRdcQO/evZk9ezaTJk2ievXqXod0qmBdUAd2VW0Sjh0RGJNEfD4fX3zxBcuXL/c6FJNCLBEYk0R69uxJs2bN7E5jE1OWCIxJIhkZGYwdO5ZXX32VDz74wOtwTIqwNoIUZgPVp6bc3FwmTZpEYWEhjz32mNfhmBRgiSCF2UD1ySOSm8zOOeccfvCDH7BgwQIeffRRateuHa8wTYqyRGBMAoj0JjOfz8fTTz/NkiVLGDVqVFWGZtKAtREYk4S+//3v06ZNG2bMmEEcxy8xKSquiUBEeonIRyKyVUQmBFleQ0SWusvfEpFm7vweIrJeRDa7f7v5rfOqW+cGdzonfntkjDfKBq155513WLt2rdfhmCQXt0QgIhnAE8CNQGtgqIi0Dig2CvhGVVsC04HfuPO/Bm5W1bbACGBhwHrD/Prw/rLKdsKYBDJ8+HBq165tl5KaqMXziKAjsFVVt6nqMWAJ0C+gTD9ggft4GdBdRERV31XV/7jztwDZIlIjLlEbk6DOPPNMhg8fzpIlS9izZ4/X4ZgkFs9E0Aj43O95sTsvaBlVLQH2ATkBZX4AvKOqR/3mzXNPCz0kNsK3SSM+n48jR46wYMGCigsbE0JSNRaLyMU4p4vG+s0e5p4yusadbg+xbp6IrBORdSUlJVUfrDFxcOmll3LVVVdRWFhojcam0uKZCHYCTfyeN3bnBS0jIplAXWC3+7wxsBy4Q1U/LVtBVXe6f/cDT+GcgjqFqhapagdV7ZCZaVfNmtTh8/n4+OOPWbNmjdehmCQVz0SwFmglIs1FJAsYAqwIKLMCpzEYYBCwRlVVROoBK4EJqvpGWWERyRSRBu7j6sBNwHtVvB/GJJTBgweTk5Njjcam0uL201hVS0TkLmA1kAHMVdUtIjIFWKeqK4A5wEIR2QrswUkWAHcBLYGJIjLRnXcDcBBY7SaBDOBlYFa89imRWHcS6atmzZrk5uYybdo0/vOf/3D++ed7HVJ5ZWMUBJsfrNtqE3eSjucVa9eurQcPHvQ6jJhqNmFlancnMblu2o1QFsn/dOvWrbRq1YrJkyczadKkKo4sRlLwfyoih1Q16fr8SKrGYmNMcC1btuSGG25g1qxZ2MUQJlLWamoSTwoNVB9PPp+PAQMG8MILLzBgwACvwzFJxBKBSTxpPlB9mUh6JAW46aabaNy4MQUFBZYITEQsERiToCLtkTQzM5O8vDwmTpzIJ598QqtWraoyPJNCrI3AmBQyevRoMjMzmTlzptehmCRiicCYFNKwYUP69+/PvHnzOHz4cMUrGIMlAmNSjs/nY8+ePTzzzDNeh2IiICIPi8gmt9+0v4lI3G4IsURgTIq57rrr+O53v2t3Gief36nqJaraDvgrMLGiFWLFEoExKaZs0Jq33nqLd9991+twTJhU9Vu/p7WBuN3ta4nAmBQ0YsQIsrOz7aggyYjIIyLyOTAMOyIwxkSjXr16DB06lMWLF7Nvn92TEUeZZd3du1Oe/0IReVlE3gsy9QNQ1QdVtQmwGKePtfgEHa8NGWOiF+wms1DlHvP5mDt3LgsXLuSuu+L2nZLuSlS1Q6iFqnp9mPUsBlYBcek4yhKBMUkk1F3FgZpNWEmHDt3o0KEDBQUF/PCHPyThBu8L1itpGvdIKiKtVPUT92k/4MN4bdsSgfGW9StUpXw+H6NGjeK1116jS5cuXodTXrAv/GDdVaePqSLyXaAU+DeQH68NWyIw3rJ+harUkCFD+OlPf8qMGTMSLxEEk8ZHCar6A6+2bYnAmBRWq1YtRowYwYwZM/jiiy8499xzvQ7p9OwowROWCJKQjUZmIpGfn89jjz3GnDlz+PnPf+51OCYBWSJIQjv3Hk7t0chMTH3ve9+jW7duzJs3jwceeCDxGo2N5ywRGJMG/vSnP1G/fn1LAiYoSwQmfuwKIc+0bt3a6xBMArNEkOBSqj3ArhDyVKj3Urj3JpjUZYkggYT6oCZ8e0CoX/ppcMlfMgnWthTOXcom9VkiSCBJ2wgc7Je+XfLnqVDjHRsTjCUCj6TUKZ9gQt0YZOIipU73pPFNZvFiicAjSfvrP1z2ITWxYjeZVTlLBCZ8wdoCwH7pG5Pk4poIRKQX8BiQAcxW1akBy2sATwKXA7uBW1V1u7vsAWAUcAL4saquDqdOE0N21Y8xKSluiUBEMoAngB5AMbBWRFao6vt+xUYB36hqSxEZAvwGuFVEWgNDgIuB84GXReRCd52K6vRcUrYH2DX/JtnY1WuVFs8jgo7AVlXdBiAiS3D63Pb/0u4HTHYfLwMeF+dWyH7AElU9CnwmIlvd+gijzrhK2ktAA9mv/7QQyUA3CdUAHaoBOZyr1yxhnCKeiaAR8Lnf82KgU6gyqloiIvuAHHf+mwHrNnIfV1RnTAT7gg8m4b/0Q53nD2S//tNCuF/unaeuCXo5auD6cbtpLdwv7XATxvS2aX1lUto0Frtjh5aNH6oiUvG3enmZQElFhf4NyAMR1hyjbcfWe3DPyX5pPNh+OV5uP533/bTbD/e9HsVnoor2vdx7+3TlMrlHIt1+gp/zDS6eiWAn0MTveWN3XrAyxSKSCdTFaTQ+3boV1QmAqhYBRZUNXkTWnW4s0qrk5bbTffvpvO9ebz+d9z3eqsVxW2uBViLSXESycBp/VwSUWQGMcB8PAtaoqrrzh4hIDRFpDrQC3g6zTmOMMacRtyMC95z/XcBqnEs956rqFhGZAqxT1RXAHGCh2xi8B+eLHbfcMziNwCXAD1X1BECwOuO1T8YYkwri2kagqquAVQHzJvo9PgIMDrHuI8Aj4dRZRSp9WinJt53u20/nffd6++m873ElzpkXY4wx6SqebQTGGGMSkCUCY4xJc5YIXCIyWES2iEipiHQIWPaAiGwVkY9EpGeI9ZuLyFtuuaXuVUyVjWWpiGxwp+0isiFEue0istktt66y2wtS72QR2ekXQ+8Q5Xq5r8lWEZkQw+3/TkQ+FJFNIrJcROqFKBez/a9oX9wr1pa6y98SkWbRbC+g7iYi8oqIvO++B38SpExXEdnn9z+ZGKyuKGI47Wspjv9x93+TiLSP0Xa/67dPG0TkWxG5O6BMTPddROaKyJci8p7fvLNE5CUR+cT9Wz/EuiPcMp+IyIhgZZKSqtrktJNcBHwXeBXo4De/NbARqAE0Bz4FMoKs/wwwxH1cCPhiFNcfgIkhlm0HGlTBazEZuLeCMhnua9ECyHJfo9Yx2v4NQKb7+DfAb6py/8PZF2AcUOg+HgIsjeHr3RBo7z4+A/g4yPa7An+N9f863NcS6A28CAhwJfBWFcSQAfwXuKAq9x3oArQH3vOb91tggvt4QrD3HHAWsM39W999XL+q/ifxnOyIwKWqH6jqR0EWneznSFU/A/z7OQKcX0tAN5z+kQAWAP2jjcmt9xbg6WjrqgIn+45S1WNAWT9PUVPVv6lq2R2db+LcKFiVwtmXfjj/V3D+z93d/0/UVHWXqr7jPt4PfMD/daGSKPoBT6rjTaCeiDSM8Ta6A5+q6r9jXG85qvpPnMvT/fn/f0N9fnsCL6nqHlX9BngJ6FVlgcaRJYKKBesjKfBDmgPs9fvyClamMq4BvlDVT0IsV+BvIrLe7UIjlu5yTwHMDXGYHM7rEgu5OL9Eg4nV/oezL+X6wQLK+sGKKfeU02XAW0EWXyUiG0XkRRG5OMabrui1jMf/ewihf/RU5b4DnKuqu9zH/wXODVImXu/5uEubvoYARORl4Lwgix5U1ecTMJahnP5o4PuqulNEzgFeEpEP3V87UW0fKAAexvlyeBjn9FRuOPWGK5z9F5EHcW4gXByimkrvfyISkTrAs8DdqvptwOJ3cE6ZHHDbbP6Cc4d9rHj6Wrptan2BYL0SVfW+l6OqKiJpdV19WiUCVb2+EquF00fSbpxD5Uz312LIPo/CjUWcvpYG4gzSE6qOne7fL0VkOc4pjrA+vOG+FiIyC/hrkEXhvC6V3r6IjARuArqre4I2SB2V3v8A0fSDFRMiUh0nCSxW1ecCl/snBlVdJSIzRKSBqn4di+2H8VpG9f8Ow43AO6r6RZDYqnTfXV+ISENV3eWe8voySJmdOO0VZRrjtCkmPTs1VLFQ/Ryd5H5RvYLTPxI4/SVFe4RxPfChqhYHWygitUXkjLLHOA2s7wUrG6mAc78DQtRbZf08iTPq3H1AX1U9FKJMLPc/mn6woua2NcwBPlDVaSHKnFfWJiEiHXE+uzFJRGG+liuAO9yrh64E9vmdSomFkEe/Vbnvfvz/v6E+v6uBG0Skvnu69AZ3XvLzurU6USacL7xi4CjwBbDab9mDOFeVfATc6Dd/FXC++7gFToLYCvwZqBFlPPOB/IB55wOr/La30Z224JxSidVrsRDYDGzC+YA0DNy++7w3zhUun8Z4+1txzsVucKfCwO3Hev+D7QswBScZAdR0/69b3f9zixju7/dxTsNt8tvn3kB+2XsAuMvdz404DehXx3D7QV/LgO0LzmiAn7rvjQ4x3H5tnC/2un7zqmzfcRLOLuC4+5kfhdPe83fgE+Bl4Cy3bAecIXDL1s113wNbgTtj9Rp4PVkXE8YYk+bs1JAxxqQ5SwTGGJPmLBEYY0yas0RgjDFpzhKBMcakOUsExhiT5iwRGGNMmrNEYEwQ4owP0MN9/CsR+ZPXMRlTVdKqryFjIjAJmOJ2wnYZTodoxqQku7PYmBBE5B9AHaCrOuMEGJOS7NSQMUGISFuckcOOWRIwqc4SgTEB3N5XF+OMWnXA7Q3VmJRlicAYPyJSC3gO+KmqfoAzMM8kb6MypmpZG4ExxqQ5OyIwxpg0Z4nAGGPSnCUCY4xJc5YIjDEmzVkiMMaYNGeJwBhj0pwlAmOMSXP/H/j4U0VSRAQrAAAAAElFTkSuQmCC\n",
=======
      "image/png": "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\n",
>>>>>>> 22b35102f47e23cebd0dd4f617e6da3071fe26b7
      "text/plain": [
       "<Figure size 360x360 with 2 Axes>"
      ]
     },
     "metadata": {
      "needs_background": "light"
     },
     "output_type": "display_data"
    }
   ],
   "source": [
    "x0, _, _ = simulate(-2, npoints=10000)\n",
    "x1, _, _ = simulate(2, npoints=10000)\n",
    "\n",
    "xr=np.linspace(-4.,4.,100)\n",
    "rx = np.log(calculate_likelihood_ratio(xr,-2,2))\n",
    "\n",
    "fig, ax1 = plt.subplots()\n",
    "fig.set_size_inches(5,5)\n",
    "ax1.set_xlabel('$x$')\n",
    "ax1.hist(x0, bins=50, range=(-10,10.), histtype='step', label=r'$p(x | \\theta_0)$',normed=True)\n",
    "ax1.hist(x1, bins=50, range=(-10,10.), histtype='step', label=r'$p(x | \\theta_1)$',normed=True)\n",
    "ax1.set_ylabel(r'$p(x|\\theta)$')\n",
    "ax1.legend(loc=2)\n",
    "\n",
    "ax2 = ax1.twinx()\n",
    "ax2.plot(xr, rx,color='black', label=r'$\\log\\,r(x|\\theta_0,\\theta_1)$')\n",
    "ax2.set_ylabel(r'$\\log\\,r(x|\\theta_0,\\theta_1)$')\n",
    "ax2.legend(loc=1)\n",
    "\n",
    "plt.show()"
   ]
  },
  {
   "cell_type": "markdown",
   "metadata": {},
   "source": [
    "## 2. Run the simulation and generate training data"
   ]
  },
  {
   "cell_type": "markdown",
   "metadata": {},
   "source": [
    "First, we define the parameter points we want to use for training: `theta0` is uniformly distributed while the reference model `theta1` is fixed at zero. "
   ]
  },
  {
   "cell_type": "code",
   "execution_count": 10,
   "metadata": {},
   "outputs": [],
   "source": [
    "n_param_points = 50000 # number of parameter points to train\n",
    "\n",
    "theta0 = np.random.uniform(low=-4.0, high=4.0, size=n_param_points) # numerator, uniform prior\n",
    "theta1 = np.zeros(shape=n_param_points)                             # denominator: fixed at 0"
   ]
  },
  {
   "cell_type": "markdown",
   "metadata": {},
   "source": [
    "We then run the simulator (one sample per parameter point). Remember that `simulate(theta, theta0, theta1, theta_score)` generates data `x` following a theory with `theta` and then evaulates the joint likelihood ratio `r(x,z|theta0,theta1)` and the join score `t(x,z|theta_score)` for each data point. "
   ]
  },
  {
   "cell_type": "code",
   "execution_count": 11,
   "metadata": {},
   "outputs": [],
   "source": [
    "# Sample from theta0\n",
    "x_from_theta0, r_xz_from_theta0, t_xz_from_theta0 = simulate(theta0, theta0, theta1, theta0)\n",
    "\n",
    "# Sample from theta1\n",
    "x_from_theta1, r_xz_from_theta1, t_xz_from_theta1 = simulate(theta1, theta0, theta1, theta0)"
   ]
  },
  {
   "cell_type": "markdown",
   "metadata": {},
   "source": [
    "Now we combine reshape the results (nothing interestimg happening here) and save everything to files, so that we can load it later."
   ]
  },
  {
   "cell_type": "code",
   "execution_count": 12,
   "metadata": {},
   "outputs": [],
   "source": [
    "# Combine results and reshape\n",
    "x_train    = np.hstack((x_from_theta0, x_from_theta1)).reshape(-1,1)\n",
    "r_xz_train = np.hstack((r_xz_from_theta0, r_xz_from_theta1)).reshape(-1,1)\n",
    "t_xz_train = np.hstack((t_xz_from_theta0, t_xz_from_theta1)).reshape(-1,1)\n",
    "y_train    = np.hstack((np.zeros_like(x_from_theta0), np.ones_like(np.ones_like(x_from_theta1)))).reshape(-1,1)\n",
    "theta0_train = np.hstack((theta0, theta0)).reshape(-1,1)\n",
    "\n",
    "#Save to file\n",
    "np.save('data/theta0_train.npy', theta0_train)\n",
    "np.save('data/x_train.npy', x_train)\n",
    "np.save('data/y_train.npy', y_train)\n",
    "np.save('data/r_xz_train.npy', r_xz_train)\n",
    "np.save('data/t_xz_train.npy', t_xz_train)"
   ]
  },
  {
   "cell_type": "markdown",
   "metadata": {},
   "source": [
    "## 3. Model training"
   ]
  },
  {
   "cell_type": "markdown",
   "metadata": {},
   "source": [
    "Let's train two neural networks to estimate the likelihood ratio. For one we use the CARL method introduced in [\"Approximating Likelihood Ratios with Calibrated Discriminative Classifiers\"](https://arxiv.org/abs/1506.02169), for the other the new ALICES method introduced in [\"Likelihood-free inference with an improved cross-entropy estimator\"](https://arxiv.org/abs/1808.00973)."
   ]
  },
  {
   "cell_type": "code",
   "execution_count": 13,
   "metadata": {},
   "outputs": [
    {
     "name": "stderr",
     "output_type": "stream",
     "text": [
<<<<<<< HEAD
      "18:12 madminer.ml          INFO    Starting training\n",
      "18:12 madminer.ml          INFO      Method:                 carl\n",
      "18:12 madminer.ml          INFO      Training data:          x at data/x_train.npy\n",
      "18:12 madminer.ml          INFO                              theta0 at data/theta0_train.npy\n",
      "18:12 madminer.ml          INFO                              y at data/y_train.npy\n",
      "18:12 madminer.ml          INFO      Features:               all\n",
      "18:12 madminer.ml          INFO      Method:                 carl\n",
      "18:12 madminer.ml          INFO      Hidden layers:          (20, 20)\n",
      "18:12 madminer.ml          INFO      Activation function:    tanh\n",
      "18:12 madminer.ml          INFO      Batch size:             128\n",
      "18:12 madminer.ml          INFO      Trainer:                amsgrad\n",
      "18:12 madminer.ml          INFO      Epochs:                 10\n",
      "18:12 madminer.ml          INFO      Learning rate:          0.001 initially, decaying to 0.0001\n",
      "18:12 madminer.ml          INFO      Validation split:       0.3\n",
      "18:12 madminer.ml          INFO      Early stopping:         True\n",
      "18:12 madminer.ml          INFO      Scale inputs:           True\n",
      "18:12 madminer.ml          INFO      Shuffle labels          False\n",
      "18:12 madminer.ml          INFO      Regularization:         None\n",
      "18:12 madminer.ml          INFO      Samples:                all\n",
      "18:12 madminer.ml          INFO    Loading training data\n",
      "18:12 madminer.ml          INFO    Found 100000 samples with 1 parameters and 1 observables\n",
      "18:12 madminer.ml          INFO    Rescaling inputs\n",
      "18:12 madminer.ml          INFO    Creating model for method carl\n",
      "18:12 madminer.ml          INFO    Training model\n",
      "18:12 madminer.utils.ml.ra INFO      Epoch 01: train loss 0.6236 (xe: 0.6236)\n",
      "18:12 madminer.utils.ml.ra INFO                val. loss  0.5914 (xe: 0.5914) (*)\n",
      "18:12 madminer.utils.ml.ra INFO      Epoch 02: train loss 0.5882 (xe: 0.5882)\n",
      "18:12 madminer.utils.ml.ra INFO                val. loss  0.5914 (xe: 0.5889) (*)\n",
      "18:12 madminer.utils.ml.ra INFO      Epoch 03: train loss 0.5865 (xe: 0.5865)\n",
      "18:12 madminer.utils.ml.ra INFO                val. loss  0.5897 (xe: 0.5872) (*)\n",
      "18:12 madminer.utils.ml.ra INFO      Epoch 04: train loss 0.5856 (xe: 0.5856)\n",
      "18:12 madminer.utils.ml.ra INFO                val. loss  0.5895 (xe: 0.5870) (*)\n",
      "18:12 madminer.utils.ml.ra INFO      Epoch 05: train loss 0.5851 (xe: 0.5851)\n",
      "18:12 madminer.utils.ml.ra INFO                val. loss  0.5891 (xe: 0.5866) (*)\n",
      "18:12 madminer.utils.ml.ra INFO      Epoch 06: train loss 0.5847 (xe: 0.5847)\n",
      "18:12 madminer.utils.ml.ra INFO                val. loss  0.5885 (xe: 0.5860) (*)\n",
      "18:13 madminer.utils.ml.ra INFO      Epoch 07: train loss 0.5845 (xe: 0.5845)\n",
      "18:13 madminer.utils.ml.ra INFO                val. loss  0.5884 (xe: 0.5859) (*)\n",
      "18:13 madminer.utils.ml.ra INFO      Epoch 08: train loss 0.5842 (xe: 0.5842)\n",
      "18:13 madminer.utils.ml.ra INFO                val. loss  0.5887 (xe: 0.5862)\n",
      "18:13 madminer.utils.ml.ra INFO      Epoch 09: train loss 0.5842 (xe: 0.5842)\n",
      "18:13 madminer.utils.ml.ra INFO                val. loss  0.5881 (xe: 0.5856) (*)\n",
      "18:13 madminer.utils.ml.ra INFO      Epoch 10: train loss 0.5841 (xe: 0.5841)\n",
      "18:13 madminer.utils.ml.ra INFO                val. loss  0.5879 (xe: 0.5854) (*)\n",
      "18:13 madminer.utils.ml.ra INFO    Early stopping did not improve performance\n",
      "18:13 madminer.utils.ml.ra INFO    Finished training\n"
=======
      "09:46 madminer.ml          INFO    Starting training\n",
      "09:46 madminer.ml          INFO      Method:                 carl\n",
      "09:46 madminer.ml          INFO      Training data:          x at data/x_train.npy\n",
      "09:46 madminer.ml          INFO                              theta0 at data/theta0_train.npy\n",
      "09:46 madminer.ml          INFO                              y at data/y_train.npy\n",
      "09:46 madminer.ml          INFO      Features:               all\n",
      "09:46 madminer.ml          INFO      Method:                 carl\n",
      "09:46 madminer.ml          INFO      Hidden layers:          (20, 20)\n",
      "09:46 madminer.ml          INFO      Activation function:    tanh\n",
      "09:46 madminer.ml          INFO      Batch size:             128\n",
      "09:46 madminer.ml          INFO      Trainer:                amsgrad\n",
      "09:46 madminer.ml          INFO      Epochs:                 10\n",
      "09:46 madminer.ml          INFO      Learning rate:          0.001 initially, decaying to 0.0001\n",
      "09:46 madminer.ml          INFO      Validation split:       0.3\n",
      "09:46 madminer.ml          INFO      Early stopping:         True\n",
      "09:46 madminer.ml          INFO      Scale inputs:           True\n",
      "09:46 madminer.ml          INFO      Shuffle labels          False\n",
      "09:46 madminer.ml          INFO      Regularization:         None\n",
      "09:46 madminer.ml          INFO      Samples:                all\n",
      "09:46 madminer.ml          INFO    Loading training data\n",
      "09:46 madminer.ml          INFO    Found 100000 samples with 1 parameters and 1 observables\n",
      "09:46 madminer.ml          INFO    Rescaling inputs\n",
      "09:46 madminer.ml          INFO    Creating model for method carl\n",
      "09:46 madminer.ml          INFO    Training model\n",
      "09:46 madminer.utils.ml.ra INFO      Epoch 01: train loss 0.6339 (xe: 0.6339)\n",
      "09:46 madminer.utils.ml.ra INFO                val. loss  0.5945 (xe: 0.5945) (*)\n",
      "09:46 madminer.utils.ml.ra INFO      Epoch 02: train loss 0.5871 (xe: 0.5871)\n",
      "09:46 madminer.utils.ml.ra INFO                val. loss  0.5915 (xe: 0.5890) (*)\n",
      "09:46 madminer.utils.ml.ra INFO      Epoch 03: train loss 0.5846 (xe: 0.5846)\n",
      "09:46 madminer.utils.ml.ra INFO                val. loss  0.5898 (xe: 0.5873) (*)\n",
      "09:46 madminer.utils.ml.ra INFO      Epoch 04: train loss 0.5836 (xe: 0.5836)\n",
      "09:46 madminer.utils.ml.ra INFO                val. loss  0.5896 (xe: 0.5871) (*)\n",
      "09:46 madminer.utils.ml.ra INFO      Epoch 05: train loss 0.5828 (xe: 0.5828)\n",
      "09:46 madminer.utils.ml.ra INFO                val. loss  0.5887 (xe: 0.5862) (*)\n",
      "09:47 madminer.utils.ml.ra INFO      Epoch 06: train loss 0.5823 (xe: 0.5823)\n",
      "09:47 madminer.utils.ml.ra INFO                val. loss  0.5889 (xe: 0.5864)\n",
      "09:47 madminer.utils.ml.ra INFO      Epoch 07: train loss 0.5820 (xe: 0.5820)\n",
      "09:47 madminer.utils.ml.ra INFO                val. loss  0.5885 (xe: 0.5860) (*)\n",
      "09:47 madminer.utils.ml.ra INFO      Epoch 08: train loss 0.5818 (xe: 0.5818)\n",
      "09:47 madminer.utils.ml.ra INFO                val. loss  0.5884 (xe: 0.5859) (*)\n",
      "09:47 madminer.utils.ml.ra INFO      Epoch 09: train loss 0.5817 (xe: 0.5817)\n",
      "09:47 madminer.utils.ml.ra INFO                val. loss  0.5877 (xe: 0.5852) (*)\n",
      "09:47 madminer.utils.ml.ra INFO      Epoch 10: train loss 0.5815 (xe: 0.5815)\n",
      "09:47 madminer.utils.ml.ra INFO                val. loss  0.5878 (xe: 0.5853)\n",
      "09:47 madminer.utils.ml.ra INFO    Early stopping after epoch 9, with loss 0.59 compared to final loss 0.59\n",
      "09:47 madminer.utils.ml.ra INFO    Finished training\n"
>>>>>>> 22b35102f47e23cebd0dd4f617e6da3071fe26b7
     ]
    }
   ],
   "source": [
    "forge = MLForge()\n",
    "\n",
    "forge.train(\n",
    "    method='carl',\n",
    "    x_filename='data/x_train.npy',\n",
    "    y_filename='data/y_train.npy',\n",
    "    theta0_filename='data/theta0_train.npy',\n",
    "    alpha=0.1,\n",
    "    n_epochs=10,\n",
    "    n_hidden=(20,20),\n",
    "    validation_split=0.3,\n",
    "    batch_size=128,\n",
    ")\n",
    "\n",
    "forge.save('models/carl')"
   ]
  },
  {
   "cell_type": "code",
   "execution_count": 14,
   "metadata": {},
   "outputs": [
    {
     "name": "stderr",
     "output_type": "stream",
     "text": [
<<<<<<< HEAD
      "18:13 madminer.ml          INFO    Starting training\n",
      "18:13 madminer.ml          INFO      Method:                 alices\n",
      "18:13 madminer.ml          INFO      Training data:          x at data/x_train.npy\n",
      "18:13 madminer.ml          INFO                              theta0 at data/theta0_train.npy\n",
      "18:13 madminer.ml          INFO                              y at data/y_train.npy\n",
      "18:13 madminer.ml          INFO                              r_xz at data/r_xz_train.npy\n",
      "18:13 madminer.ml          INFO                              t_xz (theta0) at data/t_xz_train.npy\n",
      "18:13 madminer.ml          INFO      Features:               all\n",
      "18:13 madminer.ml          INFO      Method:                 alices\n",
      "18:13 madminer.ml          INFO      Hidden layers:          (20, 20)\n",
      "18:13 madminer.ml          INFO      Activation function:    tanh\n",
      "18:13 madminer.ml          INFO      alpha:                  0.1\n",
      "18:13 madminer.ml          INFO      Batch size:             128\n",
      "18:13 madminer.ml          INFO      Trainer:                amsgrad\n",
      "18:13 madminer.ml          INFO      Epochs:                 10\n",
      "18:13 madminer.ml          INFO      Learning rate:          0.001 initially, decaying to 0.0001\n",
      "18:13 madminer.ml          INFO      Validation split:       0.3\n",
      "18:13 madminer.ml          INFO      Early stopping:         True\n",
      "18:13 madminer.ml          INFO      Scale inputs:           True\n",
      "18:13 madminer.ml          INFO      Shuffle labels          False\n",
      "18:13 madminer.ml          INFO      Regularization:         None\n",
      "18:13 madminer.ml          INFO      Samples:                all\n",
      "18:13 madminer.ml          INFO    Loading training data\n",
      "18:13 madminer.ml          INFO    Found 100000 samples with 1 parameters and 1 observables\n",
      "18:13 madminer.ml          INFO    Rescaling inputs\n",
      "18:13 madminer.ml          INFO    Creating model for method alices\n",
      "18:13 madminer.ml          INFO    Training model\n",
      "18:13 madminer.utils.ml.ra INFO      Epoch 01: train loss 0.6208 (improved_xe: 0.6128, mse_score: 0.0799)\n",
      "18:13 madminer.utils.ml.ra INFO                val. loss  0.5886 (improved_xe: 0.5862, mse_score: 0.0245) (*)\n",
      "18:13 madminer.utils.ml.ra INFO      Epoch 02: train loss 0.5875 (improved_xe: 0.5857, mse_score: 0.0184)\n",
      "18:13 madminer.utils.ml.ra INFO                val. loss  0.5881 (improved_xe: 0.5841, mse_score: 0.0147) (*)\n",
      "18:13 madminer.utils.ml.ra INFO      Epoch 03: train loss 0.5858 (improved_xe: 0.5846, mse_score: 0.0125)\n",
      "18:13 madminer.utils.ml.ra INFO                val. loss  0.5873 (improved_xe: 0.5837, mse_score: 0.0114) (*)\n",
      "18:13 madminer.utils.ml.ra INFO      Epoch 04: train loss 0.5853 (improved_xe: 0.5842, mse_score: 0.0102)\n",
      "18:13 madminer.utils.ml.ra INFO                val. loss  0.5868 (improved_xe: 0.5834, mse_score: 0.0094) (*)\n",
      "18:13 madminer.utils.ml.ra INFO      Epoch 05: train loss 0.5849 (improved_xe: 0.5840, mse_score: 0.0089)\n",
      "18:13 madminer.utils.ml.ra INFO                val. loss  0.5865 (improved_xe: 0.5831, mse_score: 0.0088) (*)\n",
      "18:14 madminer.utils.ml.ra INFO      Epoch 06: train loss 0.5848 (improved_xe: 0.5839, mse_score: 0.0082)\n",
      "18:14 madminer.utils.ml.ra INFO                val. loss  0.5863 (improved_xe: 0.5830, mse_score: 0.0081) (*)\n",
      "18:14 madminer.utils.ml.ra INFO      Epoch 07: train loss 0.5846 (improved_xe: 0.5839, mse_score: 0.0078)\n",
      "18:14 madminer.utils.ml.ra INFO                val. loss  0.5865 (improved_xe: 0.5832, mse_score: 0.0077)\n",
      "18:14 madminer.utils.ml.ra INFO      Epoch 08: train loss 0.5846 (improved_xe: 0.5838, mse_score: 0.0074)\n",
      "18:14 madminer.utils.ml.ra INFO                val. loss  0.5863 (improved_xe: 0.5831, mse_score: 0.0076)\n",
      "18:14 madminer.utils.ml.ra INFO      Epoch 09: train loss 0.5845 (improved_xe: 0.5838, mse_score: 0.0072)\n",
      "18:14 madminer.utils.ml.ra INFO                val. loss  0.5863 (improved_xe: 0.5830, mse_score: 0.0073) (*)\n",
      "18:14 madminer.utils.ml.ra INFO      Epoch 10: train loss 0.5845 (improved_xe: 0.5838, mse_score: 0.0071)\n",
      "18:14 madminer.utils.ml.ra INFO                val. loss  0.5861 (improved_xe: 0.5829, mse_score: 0.0072) (*)\n",
      "18:14 madminer.utils.ml.ra INFO    Early stopping did not improve performance\n",
      "18:14 madminer.utils.ml.ra INFO    Finished training\n"
=======
      "09:47 madminer.ml          INFO    Starting training\n",
      "09:47 madminer.ml          INFO      Method:                 alices\n",
      "09:47 madminer.ml          INFO      Training data:          x at data/x_train.npy\n",
      "09:47 madminer.ml          INFO                              theta0 at data/theta0_train.npy\n",
      "09:47 madminer.ml          INFO                              y at data/y_train.npy\n",
      "09:47 madminer.ml          INFO                              r_xz at data/r_xz_train.npy\n",
      "09:47 madminer.ml          INFO                              t_xz (theta0) at data/t_xz_train.npy\n",
      "09:47 madminer.ml          INFO      Features:               all\n",
      "09:47 madminer.ml          INFO      Method:                 alices\n",
      "09:47 madminer.ml          INFO      Hidden layers:          (20, 20)\n",
      "09:47 madminer.ml          INFO      Activation function:    tanh\n",
      "09:47 madminer.ml          INFO      alpha:                  0.1\n",
      "09:47 madminer.ml          INFO      Batch size:             128\n",
      "09:47 madminer.ml          INFO      Trainer:                amsgrad\n",
      "09:47 madminer.ml          INFO      Epochs:                 10\n",
      "09:47 madminer.ml          INFO      Learning rate:          0.001 initially, decaying to 0.0001\n",
      "09:47 madminer.ml          INFO      Validation split:       0.3\n",
      "09:47 madminer.ml          INFO      Early stopping:         True\n",
      "09:47 madminer.ml          INFO      Scale inputs:           True\n",
      "09:47 madminer.ml          INFO      Shuffle labels          False\n",
      "09:47 madminer.ml          INFO      Regularization:         None\n",
      "09:47 madminer.ml          INFO      Samples:                all\n",
      "09:47 madminer.ml          INFO    Loading training data\n",
      "09:47 madminer.ml          INFO    Found 100000 samples with 1 parameters and 1 observables\n",
      "09:47 madminer.ml          INFO    Rescaling inputs\n",
      "09:47 madminer.ml          INFO    Creating model for method alices\n",
      "09:47 madminer.ml          INFO    Training model\n",
      "09:47 madminer.utils.ml.ra INFO      Epoch 01: train loss 0.6230 (improved_xe: 0.6157, mse_score: 0.0735)\n",
      "09:47 madminer.utils.ml.ra INFO                val. loss  0.5888 (improved_xe: 0.5865, mse_score: 0.0238) (*)\n",
      "09:48 madminer.utils.ml.ra INFO      Epoch 02: train loss 0.5866 (improved_xe: 0.5849, mse_score: 0.0175)\n",
      "09:48 madminer.utils.ml.ra INFO                val. loss  0.5881 (improved_xe: 0.5844, mse_score: 0.0126) (*)\n",
      "09:48 madminer.utils.ml.ra INFO      Epoch 03: train loss 0.5849 (improved_xe: 0.5837, mse_score: 0.0114)\n",
      "09:48 madminer.utils.ml.ra INFO                val. loss  0.5872 (improved_xe: 0.5838, mse_score: 0.0095) (*)\n",
      "09:49 madminer.utils.ml.ra INFO      Epoch 04: train loss 0.5843 (improved_xe: 0.5833, mse_score: 0.0091)\n",
      "09:49 madminer.utils.ml.ra INFO                val. loss  0.5871 (improved_xe: 0.5838, mse_score: 0.0081) (*)\n",
      "09:49 madminer.utils.ml.ra INFO      Epoch 05: train loss 0.5839 (improved_xe: 0.5831, mse_score: 0.0080)\n",
      "09:49 madminer.utils.ml.ra INFO                val. loss  0.5868 (improved_xe: 0.5836, mse_score: 0.0077) (*)\n",
      "09:49 madminer.utils.ml.ra INFO      Epoch 06: train loss 0.5838 (improved_xe: 0.5830, mse_score: 0.0074)\n",
      "09:49 madminer.utils.ml.ra INFO                val. loss  0.5866 (improved_xe: 0.5834, mse_score: 0.0068) (*)\n",
      "09:50 madminer.utils.ml.ra INFO      Epoch 07: train loss 0.5837 (improved_xe: 0.5830, mse_score: 0.0070)\n",
      "09:50 madminer.utils.ml.ra INFO                val. loss  0.5864 (improved_xe: 0.5833, mse_score: 0.0066) (*)\n",
      "09:50 madminer.utils.ml.ra INFO      Epoch 08: train loss 0.5836 (improved_xe: 0.5829, mse_score: 0.0067)\n",
      "09:50 madminer.utils.ml.ra INFO                val. loss  0.5865 (improved_xe: 0.5834, mse_score: 0.0062)\n",
      "09:51 madminer.utils.ml.ra INFO      Epoch 09: train loss 0.5836 (improved_xe: 0.5829, mse_score: 0.0065)\n",
      "09:51 madminer.utils.ml.ra INFO                val. loss  0.5863 (improved_xe: 0.5832, mse_score: 0.0061) (*)\n",
      "09:51 madminer.utils.ml.ra INFO      Epoch 10: train loss 0.5835 (improved_xe: 0.5829, mse_score: 0.0064)\n",
      "09:51 madminer.utils.ml.ra INFO                val. loss  0.5863 (improved_xe: 0.5832, mse_score: 0.0060) (*)\n",
      "09:51 madminer.utils.ml.ra INFO    Early stopping did not improve performance\n",
      "09:51 madminer.utils.ml.ra INFO    Finished training\n"
>>>>>>> 22b35102f47e23cebd0dd4f617e6da3071fe26b7
     ]
    }
   ],
   "source": [
    "forge = MLForge()\n",
    "\n",
    "forge.train(\n",
    "    method='alices',\n",
    "    x_filename='data/x_train.npy',\n",
    "    y_filename='data/y_train.npy',\n",
    "    theta0_filename='data/theta0_train.npy',\n",
    "    r_xz_filename='data/r_xz_train.npy',\n",
    "    t_xz0_filename='data/t_xz_train.npy',\n",
    "    alpha=0.1,\n",
    "    n_epochs=10,\n",
    "    n_hidden=(20,20),\n",
    "    validation_split=0.3,\n",
    "    batch_size=128,\n",
    ")\n",
    "\n",
    "forge.save('models/alices')"
   ]
  },
  {
   "cell_type": "markdown",
   "metadata": {},
   "source": [
    "## 4. Generate evaluation data"
   ]
  },
  {
   "cell_type": "markdown",
   "metadata": {},
   "source": [
    "Let us now generate some test data, which is sampled corresponding to `theta=1`"
   ]
  },
  {
   "cell_type": "code",
<<<<<<< HEAD
   "execution_count": 15,
=======
   "execution_count": 13,
>>>>>>> 22b35102f47e23cebd0dd4f617e6da3071fe26b7
   "metadata": {},
   "outputs": [],
   "source": [
    "n_param_points_test = 1000 # number of parameter points to test\n",
    "theta_test = 1. * np.ones(shape=n_param_points_test).reshape(-1,1)"
   ]
  },
  {
   "cell_type": "markdown",
   "metadata": {},
   "source": [
    "Run the simulator to get observations:"
   ]
  },
  {
   "cell_type": "code",
<<<<<<< HEAD
   "execution_count": 16,
=======
   "execution_count": 14,
>>>>>>> 22b35102f47e23cebd0dd4f617e6da3071fe26b7
   "metadata": {},
   "outputs": [],
   "source": [
    "x_test, _, _ = simulate(theta_test)\n",
    "np.save('data/x_test.npy', x_test)"
   ]
  },
  {
   "cell_type": "markdown",
   "metadata": {},
   "source": [
    "We want to evaluate the expected likelihood ratio on a range of parameter points:"
   ]
  },
  {
   "cell_type": "code",
<<<<<<< HEAD
   "execution_count": 17,
=======
   "execution_count": 15,
>>>>>>> 22b35102f47e23cebd0dd4f617e6da3071fe26b7
   "metadata": {},
   "outputs": [],
   "source": [
    "theta_grid = np.linspace(-5.,5.,100).reshape(-1, 1)\n",
    "np.save('data/theta_grid.npy', theta_grid)"
   ]
  },
  {
   "cell_type": "markdown",
   "metadata": {},
   "source": [
    "In this toy example, we can calculate the true likelihood ratio. We will save the expected log likelihood ratio (multiplied with a conventional factor of -2):"
   ]
  },
  {
   "cell_type": "code",
<<<<<<< HEAD
   "execution_count": 18,
=======
   "execution_count": 16,
>>>>>>> 22b35102f47e23cebd0dd4f617e6da3071fe26b7
   "metadata": {},
   "outputs": [],
   "source": [
    "nllr_test_true = []\n",
    "\n",
    "for theta in theta_grid:\n",
    "    r = calculate_likelihood_ratio(x_test, theta)\n",
    "    nllr_test_true.append(-2. * np.mean(np.log(r)))"
   ]
  },
  {
   "cell_type": "markdown",
   "metadata": {},
   "source": [
    "## 5. Evaluation"
   ]
  },
  {
   "cell_type": "markdown",
   "metadata": {},
   "source": [
    "It's time to evaluate our likelihood ratio estimators!"
   ]
  },
  {
   "cell_type": "code",
<<<<<<< HEAD
   "execution_count": 19,
=======
   "execution_count": 17,
>>>>>>> 22b35102f47e23cebd0dd4f617e6da3071fe26b7
   "metadata": {},
   "outputs": [],
   "source": [
    "forge = MLForge()\n",
    "forge.load('models/carl')\n",
    "\n",
    "log_r, _, _ = forge.evaluate(\n",
    "    theta0_filename='data/theta_grid.npy',\n",
    "    x='data/x_test.npy',\n",
    "    evaluate_score=False\n",
    ")\n",
    "\n",
    "nllr_test_carl = -2. * np.mean(log_r, axis=1)"
   ]
  },
  {
   "cell_type": "code",
<<<<<<< HEAD
   "execution_count": 20,
=======
   "execution_count": 18,
>>>>>>> 22b35102f47e23cebd0dd4f617e6da3071fe26b7
   "metadata": {},
   "outputs": [],
   "source": [
    "forge = MLForge()\n",
    "forge.load('models/alices')\n",
    "\n",
    "log_r, _, _ = forge.evaluate(\n",
    "    theta0_filename='data/theta_grid.npy',\n",
    "    x='data/x_test.npy',\n",
    "    evaluate_score=False\n",
    ")\n",
    "\n",
    "nllr_test_alices = -2. * np.mean(log_r, axis=1)"
   ]
  },
  {
   "cell_type": "markdown",
   "metadata": {},
   "source": [
    "This is the expected log likelihood ratio over parameter space:"
   ]
  },
  {
   "cell_type": "code",
<<<<<<< HEAD
   "execution_count": 21,
=======
   "execution_count": 19,
>>>>>>> 22b35102f47e23cebd0dd4f617e6da3071fe26b7
   "metadata": {},
   "outputs": [
    {
     "data": {
<<<<<<< HEAD
      "image/png": "iVBORw0KGgoAAAANSUhEUgAAAWAAAAFgCAYAAACFYaNMAAAABHNCSVQICAgIfAhkiAAAAAlwSFlzAAALEgAACxIB0t1+/AAAADl0RVh0U29mdHdhcmUAbWF0cGxvdGxpYiB2ZXJzaW9uIDIuMi4zLCBodHRwOi8vbWF0cGxvdGxpYi5vcmcvIxREBQAAIABJREFUeJzs3Xd8zlf7wPHPyZ5WJEISIbZExKhRs3apFlVUl6q2RkunUR3K05YO1aJaLeqnZs1W0dYqajUhRswiiBkhRGTn/P64SY2MO5H7/mZc79fr+3qS7zpX+3iu5zjfc86ltNYIIYSwPhujAxBCiOJKErAQQhhEErAQQhhEErAQQhhEErAQQhhEErAQQhhEErAQQhhEErAQQhhEErAQQhjEzugAslO2bFldqVIlo8MQQohcCQsLu6S19szpvgKdgCtVqkRoaKjRYQghRK4opU6ac58MQQghhEEkAQshhEEkAQshhEEK9BiwEJaSkpJCVFQUiYmJRociCjEnJyd8fX2xt7fP0/OSgEWxFBUVhbu7O5UqVUIpZXQ4ohDSWhMTE0NUVBSVK1fO0ztkCEIUS4mJiXh4eEjyFXmmlMLDw+O+/hYlCVgUW5J8xf263z9DkoCFEMIgkoCFEMIgVkvASqkaSqnw245rSqnXrNW+EEIUNFZLwFrrw1rrEK11CNAAuAEsy8820tM1h85fy89XCmFRFy5coG/fvgQEBNCgQQOaNm3KsmX5+j+LHI0ZM4bPP//8nvOxsbF88803uX7f3c9FRkYSFBSU43MJCQm0atWKtLQ0ANLS0hg2bBiBgYHUqVOH48eP5zqWW/r374+Xl1e2caxZs4YaNWpQtWpVxo8fn3E+OTmZli1bkpqamuf2s2LUEERb4JjW2qz10ub6v22RdJq0magrN/LztUJYhNaabt260bJlS44fP05YWBgLFiwgKirqnvvS09OtHl92CTi7mPKauGfOnEmPHj2wtbUF4JNPPiEgIICIiAiGDh2ap3fe0q9fP9asWZPl9bS0NIYMGcLq1as5cOAA8+fP58CBAwA4ODjQtm1bFi5cmOf2s2LUPOA+wPzMLiilXgJeAqhYsWKuXtqyumnzoXUHL/Lcg5XuK0BRfHz4awQHzubv35xqVyjBB10Ds71n/fr1ODg4MHDgwIxz/v7+vPrqq0RGRtKxY0caN25MWFgYq1atYsmSJcycOROAAQMG8NprrxEZGckjjzzC/v37Afj888+5fv06Y8aMITIykocffpjmzZuzdetWfHx8WLFiBc7Oznz00UfMnj0bLy8v/Pz8aNCgwT3xjRw5kmPHjhESEkL79u0ZMmTIHTF98803DBky5J62Dx06dM9zaWlpvPjii/fEcbu5c+cyb948AOLj41m2bBlhYWEAVK5cmd9++y2P/21Ay5YtiYyMzPL6zp07qVq1KgEBAQD06dOHFStWULt2bQC6devGqFGjeOqpp/IcQ2as3gNWSjkAjwI/Z3Zdaz1da91Qa93Q0zPH3dzuEODpRoCnK2sPXsiHSIWwrIiICOrXr5/l9aNHjzJ48GAiIiK4dOkSs2bNYseOHWzfvp3vv/+e3bt359jG0aNHGTJkCBEREZQqVYolS5Zk9LTDw8NZtWoV//zzT6bPjh8/nipVqhAeHs5nn312T0z+/v65eu7uOG6XnJzM8ePHubX97Nq1azl9+jQhISGEhITQv39/ypQpc8czLVq0yLh++7F27doc/73c7cyZM/j5+WX87uvry5kzZzJ+DwoKyvLf0/0wogf8MLBLa22RLNm+Vjlm/n2Ca4kplHDK2/JAUbzk1FO1liFDhrBlyxYcHBz4+eef8ff3p0mTJgBs2bKF7t274+rqCkCPHj3YvHkzjz76aLbvrFy5MiEhIQA0aNCAyMhILl26RPfu3XFxcQHI8R23uz2m3MgsjttdunSJUqVKZfweHh7O2LFjM/52MGDAAIKDg+94ZvPmzbmOI69sbW1xcHAgLi4Od3f3fHuvEWPAT5LF8EN+aFe7HClpmr8OR1uqCSHyRWBgILt27cr4ferUqaxbt47oaNOf3VvJNjt2dnZ3jMXevSrL0dEx42dbW9v7/pB0e0w5tZ2bOJydne94/sqVKxn/B5Gamsoff/xB165d73gmP3vAPj4+nD59OuP3qKgofHx87rgnKSkJJyenXL87O1ZNwEopV6A9sNRSbdSvWJoyrg4yDCEKvDZt2pCYmMi0adMyzt24kfkH5BYtWrB8+XJu3LiRMT7aokULypUrx8WLF4mJiSEpKYmVK1fm2G7Lli1Zvnw5CQkJxMXF8euvv2Z6n7u7O3FxcVm+J6u2c3ouM6VLlyYtLS0jCVevXp3t27cD8OWXX9KlS5d79lvYvHkz4eHh9xzt2rXLVdsADzzwAEePHuXEiRMkJyezYMGCO/5mEBMTQ9myZfO86U5WrJqAtdbxWmsPrfVVS7Vha6NoU9OLDYcukpJm/S/HQphLKcXy5cv566+/qFy5Mo0aNeK5555jwoQJ99xbv359+vXrR6NGjWjcuDEDBgygXr162Nvb8/7779OoUSPat29PzZo1c2y3fv369O7dm7p16/Lwww/zwAMPZHqfh4cHzZo1IygoiLfffvue61m1ndNzWenQoQNbtmwB4Mknn2TXrl1UrVqVvXv3MnHiRLPfk5knn3ySpk2bcvjwYXx9fZkxYwYAnTt35uzZs9jZ2TFlyhQ6duxIrVq16NWrF4GB/w1NbdiwgS5dutxXDJnSWhfYo0GDBjovVu87p/1HrNR//xudp+dF0XfgwAGjQxB3CQsL008//bTRYWSqe/fu+vDhw5ley+zPEhCqzchxRXIpcotqZXGws2HtgYtGhyKEMFP9+vV56KGHMhZiFBTJycl069aN6tWr5/u7i2QCdnW0o1kVD/48eB7T/xkJIQqD/v37ZyzEKCgcHBx49tlnLfLuIpmAAdrX9ub05QQOX8jdxwAhhLCWIpuA29X2Qin4M0JmQwghCqYim4C93J0I8SvFHwckAQshCqYim4ABOtT2Zt+Zq5yNTTA6FCGEuEeRTsDta5cDkEUZQogCqUgn4Kpeps15/pRhCCFEAVSkEzCYesHbjsVwNSHF6FCEKND27duHt7c3+/btMzqUYqPIJ+AOtb1JTddsPCyLMoTIzscff8zWrVv5+OOPjQ6l2CjyCbieXynKujnKbAghcjB//nwCAgKYP99imxWKuxT5BGxjo2hfuxwbD10kMaVgLXEUQhRvRT4BA3QMLEd8chpbj10yOhQh7nD+/Hn69OlDlSpVaNCgAZ07d+bIkSMALF++HKUUhw4duuMZW1tbQkJCCAoKomvXrsTGxmZcc3Nzy7FNSxW/zKqo5d2++uorgoKCCAwMZNKkSRnnY2Nj6dmzJzVr1qRWrVps27YNsGxRTKMViwTctIoHbo52/L5fhiFEwaG1pnv37rRu3Zpjx44RFhbGJ598woULpj+n8+fPp3nz5vcMCTg7OxMeHs7+/fspU6YMU6dOzVW7lih+mV1Ry9vt37+f77//np07d7Jnzx5WrlzJv//+C8CwYcPo1KkThw4dYs+ePdSqVQuwbFFMoxWLBOxoZ8tDNb1Ye/ACaemyOY8oGDZs2IC9vf0dRTnr1q1LixYtuH79Olu2bGHGjBksWLAgy3c0bdr0jtpl5pg7dy6PPfYY8F/xy2HDhgGm0kG3EmJu3F7U0sHBIaOo5d0OHjxI48aNcXFxwc7OjlatWrF06VKuXr3Kpk2beOGFFwBT0r29RFG3bt2YO3duruMq6Iyqimx1HQPL8eues4RGXqZxgIfR4YiCZPVIOJ/PU6+868DDWf81HEy9wcyqEQOsWLGCTp06Ub16dTw8PAgLC7vn3rS0NNatW5eRtMyRXfFLgMuXL99TUaJFixaZVrj4/PPPM+7NrKjljh077nkmKCiI0aNHExMTg7OzM6tWraJhw4acOHECT09Pnn/+efbs2UODBg346quvMkogWaooptGKRQ8YoHUNLxzsbPhdNucRhcD8+fPp06cPYCqRfvswREJCAiEhIXh7e3PhwgXat29v9nuzKn55q5xPhw4dMpLxLflZ+qdWrVqMGDGCDh060KlTJ0JCQjJqxO3atYtBgwaxe/duXF1d7xhHvr0oZlFSbHrAbo52NK9alt8jzvPeI7VQShkdkigocuipWkpgYCCLFy++5/zly5dZv349+/btQylFWloaSik+++wzlFIZY8A3btygY8eOTJ06laFDh5rVZmbFL2/VWrtV/HL06NF3PGNOD9icopa3vPDCCxm99nfeeQdfX9+Mo3HjxgD07Nnzng95liiKabRi0wMG0zDEmdgEIs5eMzoUIWjTpg1JSUlMnz4949zevXuZPHkyzzzzDCdPniQyMpLTp09TuXLle8qwu7i48PXXX/PFF1+YPUPAUsUvcypqebuLF02Lok6dOsXSpUvp27cv3t7e+Pn5cfjwYQDWrVtH7dq1M56xVFFMoxWrBNyuVjlsFPwecd7oUIRAKcWyZctYu3YtVapUITAwkFGjRrFx40a6d+9+x72PP/54pgsk6tWrR3BwcMa1Gzdu3NGjzKyYpSWKX+ZU1PJW8ctb/yy1a9ema9euTJ06NWNIZPLkyTz11FMEBwcTHh7OO++8k/G8xYpiGkwV5JI9DRs21KGhofn6zt7fbePKjWT+eL1Vvr5XFC4HDx7MmOZU3OzatYsvv/ySOXPmGB2K2Xr06MH48eMtUpftfmX2Z0kpFaa1bpjTs8WqBwzwcJA3Ry5c51j0daNDEcIQBbX4ZVYsWRTTaMUuAXcI9AZgzX4ZhhDFV0EsfpkVSxbFNFqxS8AVSjlT16+UjAMLIQxX7BIwmIYh9kZd5YyUKhJCGKhYJuCOMgwhhCgAimUCrlzWlZre7vwuCVgIYaBimYABOgV588/Jy0THJRkdihCimLJqAlZKlVJKLVZKHVJKHVRKNbVm+7frFOSN1vDHAekFCyGMYe0e8FfAGq11TaAucNDK7WeoUc6dgLKurN4nCVgIYQyrJWClVEmgJTADQGudrLWOzf4pi8bDw3W82XY8hsvxyUaFIUShIVWT8581e8CVgWhgllJqt1LqB6WU6903KaVeUkqFKqVCo6OjLRrQw0HlSUvX/CnDEELkSKom5z9rJmA7oD4wTWtdD4gHRt59k9Z6uta6oda6oaenp0UDCqxQAr8yzqySYQghciRVk/OfNRNwFBCltb61Tf5iTAnZMEopOgeVZ+uxS1y9kWJkKEKIYshqCVhrfR44rZSqcfNUW+Deqn1W9nCd8qSkadYelEoZwhiZVT/Oqrrx7eezq6h8q3LyrePW5uYfffQRgYGBBAcHExISkmnZIChclZMLddVkrbXVDiAECAX2AsuB0tnd36BBA21p6enpuunHa/ULP+60eFui4Dhw4IDRIWTo1auXbt68uX7//fczzrm6umZ6763z6enpukmTJnratGkZ18LDw/WmTZuyfH7r1q26SZMmOjExUWutdXR0tD5z5kym7UyZMkVPmjQp4/dx48Zl/D59+nT95ptv5uYfUWutdWpqqg4ICNDHjh3TSUlJOjg4WEdERNxz3759+3RgYKCOj4/XKSkpum3btvro0aNaa62fffZZ/f3332uttU5KStJXrlzRWms9ZswY/dNPP+U6pvyQ2Z8lIFSbkROtOg1Nax2uTeO7wVrrblrrK9ZsPzNKKToFlWfTkUtcS5RhCGFd5lY/vlt2FZWzcu7cOcqWLYujoyMAZcuWpUKFCpneW9gqJxfWqsnFpiZcdroEezPz7xOsO3iB7vV8jQ5HWNmEnRM4dPlQzjfmQs0yNRnRaESO95lT/Tgz2VVUhv8Kd94yatQounTpwtixY6levTrt2rWjd+/etGp1b2GCwlg5ubBWTZYEDNTzK413CSd+23teErCwqvnz52f0LG9VPzYnAefkVuHOu4WFhbF582Y2bNhA7969GT9+PP369bvjnqwqJ9/qbQ8YMIDg4OA7nrm7Xt39uL1ysqur6z2VkydPnkzjxo0ZNmwY48ePZ9y4cXdUTXZ3d8+3WCxNEjBgY6PoXKc8P20/SVxiCu5ORavwn8ieOT1VS8iu+nFOsqqonBNbW1tat25N69atqVOnDrNnz74nARfWysmFsWpysd2M525dgr1JTkuX2RDCahYvXmxW9ePMZFVRObtnDx8+zNGjRzN+Dw8Px9/f/577CmPl5MJaNVkS8E23D0MIYQ3z58/PsvpxTtWNs6qo7O1t2uv61hjwrWPkyJFcv36d5557jtq1axMcHMyBAwcYM2ZMprFZu3Ly7VWTb/17yE3l5EJbNdmcqRJGHdaYhna7D3+J0NXeWaWvJSRbtV1hfQVpGlpBFBYWpp9++mmjwzBb9+7d9eHDhw1pu9BMQyvoZBhCCJPCVDm5MFdNlgR8m3p+pSlf0onf9p4zOhQhDFdYKicX5qrJkoBvc2s2xKYjl7iaIIsyhBCWJQn4Ll2Cy5Ocls6fB2QYQghhWZKA71LPrxQ+pZxZufdszjeLQs30rUSIvLvfP0NFKgGfjz/PxLCJpKXn/cOBUopHgsuz5eglrkiljCLLycmJmJgYScIiz7TWxMTE3NfijyK1Em7b2W3M2j8LZ1tnBoUMyvN7HgmuwHebjvN7xHn6NKqYjxGKgsLX15eoqCgsXXVFFG1OTk74+uZ9+4IilYC7Ve3GP+f/YdqeadT1qsuDFR7M03uCfErg7+HCyr3nJAEXUfb29ves5hLC2orUEIRSinebvEuVUlUYtXkUF+Lz9iHt1jDE1mOXuHQ9KZ+jFEIIkyKVgAFc7F34otUXJKQmMHzTcFLT87ZL/iPBFUjXsHq/LE0WQlhGkUvAAAGlAnivyXvsuriL6Xun5/xAJmp6u1PVy41f98hsCCGEZRTJBAzQtUpXugZ05bu93xF2ISzXzyul6BpcgX8iL3PuaoIFIhRCFHdFNgEDjG4yGh83H0ZuHsnVpKu5fv7RkApojSxNFkJYRJFOwK72rnza8lMu3bjE2G1jcz3ns3JZV+r4lOQXGYYQQlhAkU7AAEFlgxhSbwh/nPyD3078luvnu9Ytz96oq5y4FG+B6IQQxVmRT8AAzwc+T4hnCB9v/5jz8bmb1fBIsKlqrHyME0Lkt2KRgG1tbPm4+cek6lTe+/s90nW62c9WKOVMo0pl+GXPWVm2KoTIV8UiAQP4lfDj7QfeZvu57Sw4tCBXz3YNqcC/F69z6Py9RQeFECKvik0CBuhZrSfNfJoxadckouKizH6uc5A3tjaKFeEyDCGEyD/FKgErpRjTdAw2yoYxW8eYPaTg4eZIi2pl+XXPWdLTZRhCCJE/ilUCBvB29ebNhm+y4/wOfj7ys9nPPRZSgTOxCYSdumLB6IQQxUmxS8BgGopoXL4xE8Mmcu66eYssOtT2xsnehuW7z1g4OiFEcVEsE/CtoYh0nc5HOz4yayjC1dGO9rW9+W3fOZJTzZ9FIYQQWbFqAlZKRSql9imlwpVSodZs+26+7r4MCRnCX1F/8cfJP8x65rG6FYi9kcLmo7KJtxDi/hnRA35Iax2itW5oQNt3eKrWU9T2qM0nOz4xa6+IltU9KeViL7MhhBD5olgOQdxiZ2PHmKZjiE2K5cuwL3O838HOhs51yvPngQvEJ+Vtn2EhhLjF2glYA38opcKUUi9ldoNS6iWlVKhSKtQa9bpqedTimdrPsOToEnZd2JXj/d1CfEhISeOPA7JRuxDi/lg7ATfXWtcHHgaGKKVa3n2D1nq61rqh1rqhp6enVYIaVHcQ3q7ejNs+jpT0lGzvbehfGp9SzizbLcMQQoj7Y9UErLU+c/M/LwLLgEbWbD8rLvYujGw0kn9j/2XewXnZ3mtjo+hWrwJbjkZzMS7RShEKIYoiqyVgpZSrUsr91s9AB2C/tdrPSRu/NrT0bck34d/kuGNa93o+pGv4dY9s1C6EyDtr9oDLAVuUUnuAncBvWus1Vmw/W0opRjUaRZpO49N/Ps323qpe7tTxKcmy3ebvJyGEEHezWgLWWh/XWte9eQRqrT+yVtvm8nX35cU6L/LnyT/Zfm57tvd2q+fD/jPXOHpBdkgTQuRNsZ6Glpl+Qf3wdfPlkx2fZPtBrmvd8tgoWB4uS5OFEHkjCfgujraODH9gOMevHmf+wflZ3ufl7kSLap4s3y07pAkh8kYScCZa+7WmuU9zpu2ZxqWES1ne172eD2diE9gZedmK0QkhigpJwJlQSjHigREkpiUyKWxSlvd1DPTG1cGWpbvkY5wQIvckAWehUslKPFPrGVYcW0FETESm9zg72NK5TnlW7TtPQnKalSMUQhR2koCz8VLwS5RxKsOEnROy3LKyR31frielytJkIUSuSQLOhpuDG6/We5XdF3fz+8nfM72nceUy+JRyZukumQ0hhMgdScA56F61OzVK1+DL0C9JTL136bGNjaJ7PR82H43m4jVZmiyEMJ8k4BzY2tgyotEIzsafZc6BOZne072+aWmyzAkWQuRGjglYKVXGjKOUNYI1ygPeD9DGrw0/7Psh02lpVTzdqFexFEvCzphdaVkIIczpAZ8FQoGwbI69lgqwoHi9weskpyXzTfg3mV5/vL4vhy/EEXH2mpUjE0IUVuYk4INa6wCtdeWsDiDG0oEarVLJSvSq0YslR5dwLPbYPde7BlfAwc6GxWEyJ1gIYR5zEnDTfLqn0BtYdyCudq58EfrFPddKutjToXY5loefISlV5gQLIXKWYwLWWt/xaf/mvr622d1TVJV2Ks2LwS+y+czmTHdL69nAl9gbKaw/eNGA6IQQhY05H+FslFJ9lVK/KaUuAoeAc0qpA0qpz5RSVS0fZsHRt1ZfyruWZ2LoRNJ1+h3XWlTzpFwJRxmGEEKYxZwhiA1AFWAU4K219tNaewHNge3ABKXU0xaMsUBxtHXk1XqvcvDyQdacuHM/eVsbRfd6vmw8IuWKhBA5MycBt9Naj9Na79X6vy6f1vqy1nqJ1vpxYKHlQix4ugR0oUbpGny9+2uS05LvuNazgQ9p6Zrlu2VOsBAie+aMAWdfJtjMe4oSG2XDGw3e4Mz1Myw6vOiOa1W93KlXsRQ/h0bJnGAhRLbueyWcUmpEfgRS2Dzo8yBNyjfhu73fEZd8Z1miXg39OHrxOuGnYw2KTghRGOQ6ASulFt12/AwMsEBchcJrDV4jNimWHyN+vOP8I8Hlcba3ZVGofIwTQmQtLz3ga1rrXjePJ4C1+R1UYRHoEUjHSh2Zc2DOHUuU3Z3s6VynPL/uOSv7BAshspSXBHx3NePR+RFIYfVqvVdJTkvmuz3f3XG+V0PTPsGr958zKDIhREFnzjzgSjfn+y5VSv0AdFFK+d+6rrUu1gXR/Ev406NaDxYfWczpuNMZ5xtVLkMlDxcWhZ7O5mkhRHFmTg94BabFF1OB9kBdYJNSaqpSytGSwRUWA+sOxM7Gjim7p2ScU0rxREM/th+/zMmYeAOjE0IUVOYkYFut9Qyt9Trgstb6RUwLMyKB6ZYMrrDwcvGib62+rD6xmsOXD2ecf7y+LzYK6QULITJlTgJeq5R65ebPGkBrnaq1/oxisgmPOfoH9cfN3o0p4f/1gr1LOtG6hhc/h0aRmpaezdNCiOLInAT8BlBSKRUKVFBKvaSUelopNZVisA2luUo6lqRfUD82nt7Inug9Gef7PODHxbgkNh6ONjA6IURBZM5KuHSt9UdAS+AlwBtoAOwHHrZseIXL07WepoxTGSbvmpxx7qGaXni6O7Lgn1MGRiaEKIjMnoamtb6htf5Faz1Wa/261nqa1lqWet3Gxd6FF+u8yI7zO9h2dhsA9rY29Gzgy/pDFzl/VTboEUL8x+pFOZVStkqp3UqpldZu2xqeqPEE3q7eTNk9JWMviN4N/UjXsGSXrIwTQvwnzwlYKVU+j9PQhgEH89puQedo68jA4IHsvbSXTVGbAKhU1pWmAR4s/Oc06emyQY8QwuR+esBzgENKqc/NfUAp5Qt0AX64j3YLvEerPoqfux9TwqdkbNrep5Efpy7fYOsx+W4phDDJcwLWWrcDAoBZuXhsEjAcyHJO1s1ZFqFKqdDo6MI5c8Dexp5BdQdx6PIh1p40bZXRMdCb0i72zN8pH+OEECa5XoqslHrl1lJkbRJhTkNKqUeAi1rrsOzu01pP11o31Fo39PT0NOsfoiDqXLkzASUDmBo+lbT0NJzsbXm8vi+/R5wnOi7J6PCEEAWANZciNwMeVUpFAguANkqpn3IZb6Fha2PLkJAhHL96nFUnVgHQp1FFUtO11IwTQgBWXIqstR6ltfbVWlcC+gDrtdb5W0vuwgFY3B8umNUpt7h2/u2oUboG0/ZMIyU9hapebjSqXIb5O0/JxzghRBFbinzxABz5HaY9CPOfhDPZjnZYnI2yYUjIEE7HnWblMdOsu6caV5SPcUIIIPdLkX3yYymy1nqj1vqRvDybrTo94bV90HoUnNwK37eBBU/BxUP53pS5Wvu1JtAjkG/3fEtKWkrGx7h5O08aFpMQomDI7VLkFynoS5FdykDrkfD6fnhoNBz/C6Y1hRVDIO6C1cNRSjEkZAhn48+y7N9lGR/j/oi4wMVrsjJOiOLMnFkQFZVSFYGyQDjwI/Al8BtQ4tZ1pVQJi0aaW47u0Go4DNsDTQbDnoUwuQFsmQSp1p2F0NynOXU96/Ld3u9ISkuib2PTx7iF/8g2lUIUZ+YMQczGlHRn3/bz7b/fOtfNAvHdP1cP6PgRDNkBlZrD2g/g2+YQ+bfVQlBK8Uq9V7h44yJLjiwhwNONZlU9mL/zFGnyMU6IYkvd2q+gIGrYsKEODQ3N35ce/RN+ewNiT0G9Z6DD/8C5VP62kQmtNc///jynrp1iVY9VbDh4hUFzd/HDsw1pV7ucxdsXQliPUipMa90wp/vMXgmnlPrq/kIqIKq1h8HbodkwCJ8H3zSFfy1f2PnWWHB0QjSLjyymXe1yeLk78tMO+RgnRHGVm6XIcUqpX5VSrgBKqY5KKev9PT4/ObhC+7EwYK1prPinx+HXYZBs2dptD3g/QCPvRvyw7wdSdRJ9GlXkryPRnL58w6LtCiEKptzsB/wuMB/XeZbZAAAgAElEQVTYeDPxvgGMtFRgVuFTH17eBA8OhbDZ8F0rOLfXok0ODhlMTGIMiw4v4slGftgoxdwdsj+EEMVRboYg2mKahhaPaUbEUK31ZksFZjX2TtBhHDy7ApKvww9tYfu3YKGx8QblGtC0fFNm7p9JSRdN25peLAo9TWJKmkXaE0IUXLkZghgNvKe1bg30BBYqpdpYJCojBLSCgX9DlbawZgQsfh6S4izS1OCQwVxOvMzCwwt5tmklLscns2rfOYu0JYQouHIzBNFGa73l5s/7MC3C+J+lAjOEqwf0mQftxsCBFfB9W4g+nNNTuRbiFUKzCs2YtX8W9fydCfB0ZfY2+RgnRHFjzkIMldl5rfU5oG129xRKNjbQ/HXTkMSNGPihHRz5I9+bGRwymCtJV1hweAHPNPFnz+lY9kZJiT0hihNzesAblFKv3lwNl0Ep5QA0VUrNBp6zSHRGqtwSXtoIpf1hXi/4++t8HRcO9gymuU9zZkXMolNwaVwcbPk/6QULUayYk4A7AWnAfKXUWaXUAaXUceAo8CQwSWv9owVjNE4pP+j/O9R+DP58D355BdJS8u31g+sO5mrSVVae+Jnu9Xz4Zc9ZrsQn59v7hRAFmzmb8SQC3wKrAH9Mww71tdb+WusXtda7LRyjsRxc4YkfoeVw2P2TqTeceC1fXl3Hsw4tfVsy+8Bsej7gSXJqOgtDZX8IIYoLsz7Caa3TgS5a6xSt9TmtdfEarFQK2oyGR6fAiU0w62G4lj+zFgbVHcTVpKv8c/kXmgSUYc62k6SmZVkyTwhRhORmGtpepdQHSqn7qaRcuNV/BvougiuRMLMDxBy771cGlQ2ilW8rZkfMpndjL87EJrD24MX7j1UIUeDlJpmWwVRK6KxSaoVSapxS6gkLxVVwVW0Lz/1qWrY8syOc23PfrxwUMohrydc4l/4HPqWc+XHriXwIVAhR0OVmHnAvrXUtTOPAHwL/Ao0sFViB5lPf9HHOzglmdYFT2+/rdYEegbT2a81Ph+bQq3FZth+/zMFz+TPOLIQouHI9nKC1TtJa79Jaz9Zav22JoAqFstVMSdi9HMzpbqq8cR8G1x1MXHIc6e6bcLK3YfbWyPyJUwhRYBXf8dz8UNIH+q2CUjfnCh/9M8+vquVRi4f8HuLnI/N4JKQUy3afkSlpQhRxudmM541MjheUUiGWDLDAcy8H/X4z9YgX9IWjed9beHDIYOJS4ihRbjtJqenM/0d2SROiKMtND7ghMBDwuXm8jGmRxvdKqeEWiK3wcPWAZ38BzxqmJJzHDd5rlqlJ24ptWX1qEY2rOvF/W0+SIlPShCiycpOAfTEtwHhTa/0mpsrIXpiqJfezQGyFi0uZm0m4OszvC8fW5+k1g+oO4nrKdfwqhXL+WqLskiZEEZabBOwF3F5OOAUop7VOuOt88XUrCZetZkrCJ7fl+hU1ytSgvX97tlxcRiVPmLnlBAW5bp8QIu9yk4DnAjtuLsb4APgbmHezRNEBi0RXGLmUgWeWQUlf04e5M7ty/YpBdQdxI+UG1aqHsSfqKrtOXbFAoEIIo+VmHvA44CUg9uYxUGs9Vmsdr7V+ylIBFkpuXqbtLJ1LwU894OLBXD1erXQ1OlTqwN5rv+HuksTMLZGWiVMIYahcTUPTWodqrb+6eeRzvfgipqSPaTjC1hHm9IDY3M1oGFR3EAmpCdSutYvV+89J4U4hiqBcJWClVF2l1Cs3j7qWCqrIKFMZnlkKKfGmxRrxl8x+tEqpKnSq3InjSX9gYxfPrL8jLRenEMIQuZkHPAzTOLDXzeMnpdSrlgqsyCgXaNrA5+oZ+OnxXNWZG1h3IMnpSdSsEcbCf05xNSH/9iIWQhgvNz3gF4DGWuv3tdbvA00wVUk2i1LKSSm1Uym1RykVoZT6MLfBFloVm0Cv2XB+Hyx6zuxN3QNKBtC5cmfO6XXcSItlwU5ZmCFEUZKbBKwwVca4Je3mOXMlAW201nWBEKCTUqpJLp4v3Kp3hK6T4Ng6+PU1s8sbDaw7kDSdin+VHcz6O5LkVFmYIURRkZsEPAvTNLQxN3uvO4CZ5j6sTa7f/NX+5lG8JrjWfxZajYTwn2DjJ2Y94l/Cn65VunLNbhMXblzkt31nLRykEAIg7ORlRi3dy2UL7smSm2loE4HngRjgEvCc1vrL3DSmlLJVSoUDF4E/tdY7MrnnJaVUqFIqNDo6OjevLxxaj4R6T8NfEyB8nlmPvBT8Epp0vHy3MH2TLMwQwhqmbTzOmv3ncba3tVgb5pSlj1NKXVNKXQM2Ah/fPDbfPGc2rXWa1joE07LmRkqpoEzuma61bqi1bujp6Zmb1xcOSsEjk6ByK/hlKJzYnOMjfu5+PFb1MZJctnIo+hSbj5o/m0IIkXv/Xoxj7cELPNu0Es4OBiZgrbW71rrEbYf7bUeJvDR6s6bcBkyb+RQ/tvbQ6/+gTAAsfBouHc3xkZeDX0YpKFXhL77bdP+lkIQQWZu+6ThO9jY829Tfou1YbT9gpZSnUqrUzZ+dgfbAIWu1X+A4l4KnFoGNnWnJ8o3L2d5e3q08j1d7nHTXf9h68ij7oq5aKVAhipcL1xJZtvsMvRr64eHmaNG2rLkhe3lgg1JqL/APpjHglVZsv+ApXQmenA9Xo+DnnKenvVjnRexsbHArt4FvpRcshEXM/PsEaemaAc0DLN6WWQlYKVVTKdVWKeV213mzhxC01nu11vW01sFa6yCt9djcBlsk+TWCRyebyt2vHp7t9LRyruXoXbM3yj2UNYf2cjIm3oqBClH0XUtMYd72U3SuU56KHi4Wb8+cj3BDgRXAq8B+pdRjt13+2FKBFSt1+0Cz1yB0JvzzQ7a3vhD0Ao62jjh6ruP7zcetFKAQxcNP208Sl5TKyy2rWKU9c3rALwINtNbdgNbAezeXJUPuFmKI7LT9AKo/DKtHZDszwsPZg761+mJbYg8/7w3lYlyiFYMUouhKTElj5pYTtKhWljq+Ja3SpjkJ2ObWAgqtdSSmJPywUmoikoDzj40N9JgOHlVN48FXTmZ56/OBz+Ns54xNmd9lq0oh8snPoae5dD2Zwa2rWq1NcxLwhdsLb95Mxo8AZYE6lgqsWHIqYfool54KC56C5MzHeEs5laJf4HPYuUfw066/ZZMeIe5Talo63206Tr2KpWgSUMZq7ZqTgJ8Fzt9+QmudqrV+FlM9OJGfPKrA4zPhwn745dUsP8o9W/tZ3OxLkFZqFXO2RVo1RCGKml/3niXqSgKDW1dFKev9xd6chRhRWuvzWVz7O/9DElRrB23fg/1LYNvUTG9xc3DjxeAXsHM7wg+h60lITsv0PiFE9tLTNdM2HqN6OTfa1vSyatu5ngeslOpqiUDEXZq/AbW6wp/vm6aoZeLJmk9S0qEMSW6/MW9H1mPGQois/XnwAkcuXGdQ6yrY2Fj3s1ZeFmJ8lO9RiHspBd2m3fwo18+0WOMuznbODA55GTvXE0zbuYqkVOkFC5EbWmsmrz+Kv4cLXYMrWL39vCRgmflgLY7u0GcupCabNnJPTbrnlp7Ve1LGsRw3XFey6J/TBgQpROG18Ug0+89cY3DrKtjZWnNhsEleWpS9EK2pbDXoNhXOhMLv79xz2cHWgdcbvIKt8xkm71hKSpps2C6EObTWTF53FJ9SznSv52tIDNZP+SL3aj8GTV8xrZLbs/Cey12rdKWcU0Wuu6xkyS4pWySEObYdj2HXqVgGtgrAwc6YVCgJuLBo9yH4N4Nfh8GFA3dcsrWxZUTj17B1jGbS9vmkSi9YiBxNXvcvXu6OPNHQz7AY8pKAL+R7FCJntnbQc6ZpXHjRs/dUV27n3w4/lxrEOa9iaXikMTEKUUjsOB7DtuMxvNyqCk4WrHiRk1wnYK11e0sEIszg7m1KwpePmXrCty3SUErx3oNvYmMfy8TtP0ovWIhsfLXuKJ7ujjzVuGKW95y6doqvdn1FiplVzPNChiAKm8ot4KHRpkUad+2c1tSnKdXc6xPn9Ds/7865yoYQxdGO4zFsPRbDwGx6vylpKQzfNJxFhxcRkxhjsVjM2Y5yV37cI/JR8zegWgfTrIiz4XdcGttiODZ2N5i083vpBQuRia/WHaWsW/a93ynhU4iIieDDBz/E29XbYrGY0wOupZTam82xD9PGPMJabGyg27fg6mlapJH4X3miIM9A6pZuRbzzeuaF7TcuRiEKoP96vwFZ9n63n9vOrP2z6Fm9J+3821k0HnMScE2g611Hj9t+fgR40FIBiiy4epjGg2NPmaor3zYePK7lWyiVxuRd30ovWIjbTFp7q/ebebHNK4lXeGfzO1QqWYm3G75t8XjM2Yzn5N0HMBKIvvmzv9b63nWywvIqNoF2H8CB5XeMB1cuVYmmXp1JcPqbH7bvNDBAIQqOrf9eYtvxGAa3rpJpqXmtNe///T6xSbF82vJTXOwLQEmiLHwAzFBKzQEeyMd4RG41ffXmePBoOLc34/RHrd/ABnum75tKcqr0gkXxprXmiz+P4F3Cib5ZjP0uOryIjVEbeb3B69QsU9MqceU1AY8DDmNalrwo/8IRuXZrPNiljGk8+Ob8YE8XTzr69iLFOZyvtqw1NkYhDLbxSDRhJ6/wSpuqmY79/nvlXz4L/YxmPs14qtZTVovL3KrIfe86NVxrPQYYhKk3LIzk6gGPz4ArJ2Dl6xnjwR+0HIytduenI9+QkJxqcJBCGENrzZd/HsG3tDO9Mln1lpSWxPDNw3G1d+V/zf6HjbLe7FxzW2p96wel1ENa60s3f60BvJzfQYk8qNQMWo+CfT/D7p8A06btvar2J93xGB9tWGpwgEIY448DF9gbdZWhbatluufDl2FfcvTKUcY1G0dZZ+tO6DI3Ad++BeWTt/08UGstm9AWFC3ehEotYPVwiD4MwNsPPoeD9uKXU9O5miAVlEXxkpau+fz3wwSUdaVHPZ97rm+K2sTcg3N5qtZTtPS1foU1cxOwnVKq3s2fb0/GsjdwQWJjCz2+B3tnWNwfUhKxt7FnYJ2haIcLjPpjhtERCmFVy3ef4ejF67zZocY9+/1eSrjEe3+/R7XS1Xi9weuGxGduAk4HXJVSTwJKKfWsUqo8sjdwwVOivOmj3IX98MdoAAbUfxR3qrH50lyiYq8YHKAQ1pGUmsbEP48Q5FOCh4PuXM2WrtN59+93iU+J59MWn+Jo62hIjOYm4PeAAKA0sA04DtQHqlkoLnE/qnf4b//ggytRSjG6yXCwi+PNPyYZHZ0QVjF/xynOxCYwvGPNe2q9zTs4j7/P/M1bDd+iaumqBkVoZgLWWp/VWv+f1vobrfUM4ArgCkRYNDqRd20/gPIhsGIIXI2iS40meNs2ISL+V/acizQ6OiEsKj4plSkb/qVJQBlaVLvzw9rhy4eZGDaR1r6t6V2jt0ERmuRpvoXWOkJrvUhr/Up+ByTyiZ2DaalyeioseRHS0/ik9QggnRHrJxgdnRAW9f3m41y6nszwTjVR6r/eb0JqAiM2jaCkY0k+bPbhHdeMYLUJb0opP6XUBqXUAaVUhFJqmLXaLrY8qkCXL+DUVtj0GQ19q1LLpQtnUrfw22FZoiyKpui4JKZvOs7DQd7Ur1j6jmtfhH7BsavH+Kj5R5RxKmNQhP+x5n7AqcCbWuvaQBNgiFKqthXbL57q9oHgPvDXBDi5jS87vglpbvxv23i0lm+oouj5et1RklLTebtjjTvOrz+1noWHF/Jc7ed4sELB2D/MaglYa31Oa73r5s9xwEHg3ol5Iv91+RxK+cOSAfg6Klp7PcN1dZQpO5cYHZkQ+ep49HXm7TzFk438CPB0yzh/If4C7299n1plajGsfsH5y7chFTGUUpWAesCOTK69pJQKVUqFRkdHWzu0osnRHXrOgOvn4ZehjG/3AjYpFZh5YAoJKbI4QxQdn/1+GEc7G4a1rZ5xLl2nM3rLaJLTkpnQcgL2tvYGRngnqydgpZQbsAR4TWt97e7rWuvpWuuGWuuGnp6e1g6v6PJpAG3eg4O/4Boxn6ervUKqTQyj1081OjIh8kVo5GVW7z/PSy0D8HT/b17vjxE/suP8DkY2GknlkpUNjPBeVk3ASil7TMl3rtZaNiewtgeHQkBrWD2SN2pWwzm5Ln+encepq2eNjkyI+5Kerhn320HKlXDkpZYBGef3X9rP5F2Tae/fnu5VuxsYYeasOQtCATOAg1rridZqV9zGxga6fwcOLtguHcC7jV9Dk8brf35idGRC3Jdf955lz+lY3u5YExcHOwDiU+IZsWkEZV3K8kHTDwyfcpYZa/aAmwHPAG2UUuE3j85WbF+AqbT9Y9/AhX08emYxPjadOBK/kb9OhhodmRB5kpiSxqdrDhNYocQdG+58vONjoq5HMb7FeEo6ljQwwqxZcxbEFq210loHa61Dbh6rrNW+uE2NTtDoZdgxjWk166NTSjB60zjStVTOEIXPjC0nOBObwOgutTKWHK86vopfjv3Ci3VepEG5Bnl/eVpKPkWZOUNmQYgCoP1YKBdEwF+jaOnejavpx5kWOt/oqITIlYvXEvlmw7+0r12OB6uYlhyfjjvN2O1jCfEMYWDdgXl7cXoa/P01fNM0o8qMJUgCLq7snUxVNJLjmZSwGZVYme8jphCbGGt0ZEKYbcKaw6SkaUZ3rgVASnoKIzeNxAYbJrScgJ2NXe5fGn0YZnSAP9+DstUhNTmfo/6PJODizKsmdPoYh8i/GONWlVTiGb7+M6OjEsIs4adjWbIriv7NK1OprCsA34R/w95Le/ngwQ+o4FYhdy9MT4Otk+HbFnD5uKmD0meuqeSXhUgCLu4aPA81H6H7sf/DJ7Eu2y7+yp6LssmdKNjS0zVjfonA092RV9qYtpPcfm47M/bN4PFqj9OxUsfcvfBKJMzuCn+8C9Xaw5AdUKcnWHjmhCTg4k4peHQyys2LOTf2oNOceWPdB/JBThRoy3afIfx0LCM61cTN0Y6YhBhGbR5F5ZKVGdFohPkv0hr2LIBpzeHcXug2DXr/BG5elgv+NpKAhamkfY/peF07Rb+EklxMPsysvYuMjkqITF1LTOGT1YcI8StFj3o+GdUtriVd47NWn+Fs52zeixKvwpIBsOxl8K4Dg7dCSF+L93pvJwlYmFRqDi3f5o1LOyiVUIYp4V/JBzlRIE368ygx8UmMeywIGxvFnANz2HJmC28/8DbVS1fP+QUAUWHwbXOIWAYPvQv9VkKpipYNPBOSgMV/Wo3Axq8x38YeJ1XH8/b6j42OSIg7HDp/jdnbIunbqCJ1fEsScSmCSbsm0cavjXnVLbSGrVNgZgdTRcv+a6DV26aCtgaQBCz+Y2sHPb6ntoau12zYHr2aHWfDjI5KCAC01ry/PIISTna83bEGcclxvPXXW3g6ezK22diclxonXIH5T5qK1VbvBAM3gV8j6wSfBUnA4k6l/VGPfs27VyJxS7Hn7Q3vk5Ju2dVAQphj2e4z7Iy8zIhONSnpbM/YbWM5F3+OT1t+mvNS47O74buW8O9a6DTB9KHNuXT2z1iBJGBxr8DuuNR7hv9dPsuV1FN89c8PRkckirnYG8l89NtB6lUsRa+Gfiw5uoQ1kWt4pd4rhHiFZP9w2GzTwor0dHh+NTQZaNUPbdmRBCwy12k8rZx8aRGfwpyD0zl17ZTREYlibMKaQ8QmpPBx9zocjT3C+J3jaVq+Kf2D+mf9UGoS/DIUfh0K/s3g5U3g94D1gjaDJGCROQdX7Hr9yLtXrmCvUxn652ipIScMEXbyMvN3nuaF5pXxL2vHW3+9hbuDOx+3+BgblUUKu3YWZnWGXbOh+Rvw9BKLrmjLK0nAImveQXi3+x9vXb7MsevhLDq03OiIRDGTkpbO6GX7qVDSiaFtqjJu+zhOxZ1iQosJlHUum/lDp3fC9NYQfQh6zYF2Hxg2yyEnkoBFtmwaDaCjRzOCE5P4fOcnxCTEGB2SKEambzrOofNxfPhYEH+eXsnK4ysZGDyQRuWzmL2waw782AXsXWDAWqj9qHUDziVJwCJ7SlG617cMv6pI1TcYvvY9oyMSxcSx6Ot8te4oXeqUp6J3LB/t+IjG5RvzUvBL996clgprRsEvr5jGe19cD161rB90LkkCFjlzKUONx2fy8pVr7Ly8md+P/2l0RKKIS0/XjFq6Dyc7G956uCJv/vUmJRxKML7FeGzvHk5IvArze8P2b6DxQHhqsWl5fSEgCViYxalKM9r5v0D1pGTGbh7NteR7CloLkW8W/HOanScuM7pzLb7ZN4HTcaf5tOWn9477Xj4BP7SH4xvhkUnw8ATTgqJCQhKwMFvVbu8xIL4c8foG7/7+ttHhiCLqbGwCn6w6yINVPEhz38KayDW8Wu9VGno3vPPGUzvgh7Zw/QI8swwaPm9MwPdBErAwn40NDz49jyevJrPh8lbW/rva6IhEEaO1aeghNV3T7yEbPgv9jFa+re6d77tvsWn/XqeSMGAdVG5pTMD3SRKwyJWSnr60DP6EaknJjN38DlcTrxodkihCfg6N4q8j0QztUJ7PwkdTzqUcHzX/6L/5vlrD5i9gyQvg0wBeWAtlqxob9H2QBCxyrelDj9M5tRlxKoX3f33B6HBEEXHuagLjVh6gUeVShCd+Q0xCDF+0/uK/fR7SUkyr2taNhaCe8OzyArm4IjckAYs8eeLZb+h81Yn1Nw6zZvcMo8MRhZzWmhFLTEMPwXV2sPXsVkY1HkWgR6DphqQ4mNcbdv0ftHgLenwPdo7GBp0PJAGLPCnp5kT75j9QPSmNceGTuBQbaXRIohD7accpNh2J5omW11h4dBbdq3anZ7Wepotx503Lio9vhK5fQdv3wKZopK6i8U8hDNG6QQgPOA4giXRGreiLTpc6ciL3TlyK5+PfDtKoWhproydR26M2o5uMNu3vG33ENM0s5hj0XQgN+hkdbr6SBCzuyyt9htL4WlW2E8f8318zOhxRyKSmpfP6wnDs7VNIKDMTGxsbJraeiKOto2ma2cwOkJoIz/9mqlZcxEgCFvfFzdGO57p+T40bdnx5fh3Hj/xqdEiiEJm64Rjhp68QGLyaU3En+LTlp/i4+cCh3+D/HgXnMvDCH1ChntGhWoQkYHHfGgV40aDCJzhoxfBNo0iOO290SKIQCDt5ma/XH6Vu0C72X93Ma/Vf48EKD0LoLFj4NJQLNCXfMpWNDtVirJaAlVIzlVIXlVL7rdWmsJ63HulAwI3HOGyvmLikJ6SnGR2SKMCuJaYwbEE4nl4nOJG2mE6VOtGv9nOwcQKsfA2qtIXnfgXXLLacLCKs2QP+EehkxfaEFdnb2vC/J98h4Kofc9VVtqwZZnRIogB7b/l+zt84TXrZn6hWuhofNvkAteot2Pgx1O0LT84HB1ejw7Q4qyVgrfUm4LK12hPW5+/hSt+mX+OZZM/o8+uJ3rfI6JBEAbQ4LIoVe4/jXX0+Tnb2fN3yc1xWDIbQGdDsNej2DdjaGx2mVcgYsMhXvR+oSg3Xd7mubBmx9X3SLh0xOiRRgBy9EMd7y/dSvupi4tMu8MWD4/BZ/iocWAEdP4b2HxaYgpnWUOASsFLqJaVUqFIqNDo62uhwRB583vNRPK8/wj9O9kxb2geSrhsdkigAbiSnMnjuLhy9VnPddj+jQl7hgdXvwalt0H06NB1idIhWV+ASsNZ6uta6oda6oaenp9HhiDxwdbRjUs9ReFyrzHSHZLYteca0iYoo1j5YEUFk8gbSSmzkycqP0GvjFNNCiz7zoW5vo8MzRIFLwKJoqFm+BAMafY57sgsjEw9zfuM4o0MSBlr4zymWHvwL5/LLedAjmOE7l8KNGHh2BVTvYHR4hrHmNLT5wDaghlIqSikl22gVcU81qkZwiTFcV3a8eeQnUg79ZnRIwgD7oq7y/qqNuFecRyUXTz6L2IydUvD8GqjY2OjwDGXNWRBPaq3La63ttda+WmvZQquIU0rx5eMd8Uh4lr1Ojny67jXTXzlFsXElPpmX5v2Fo+8s3O1h6r8RlHAuC/1/h3K1jQ7PcDIEISzKyd6WGX0G43b1ARa4ObHi5yfghsxGLA7S0jWvLvyHayWmY2d3hcmnI/ErU82UfEv7Gx1egSAJWFicXxkXPurwES7x3ox1SWPvz0+aNtcWRdr41QcIjf8GG+eTfHLhPCHlHzCtbnOTj+u3SAIWVtGmZnn61voUm1QXXk89RfSq140OSVjQ0l1R/N/hKdiX2Msbl6/Q0b+9qVy8UwmjQytQJAELqxnaOoS6rqO5bGPP62f/IGnbVKNDEhYQfjqWd9dPxsFjC32vxtGvSg944sciUcEiv0kCFlajlGJKz0com9SfPU6OjNn1BfrwGqPDEvnoTGwCLy2ahq3nKtrH32B4YH9U16/Axtbo0AokScDCqpzsbZnbdyAu19qz0s2V734fDOf2Gh2WyAdxiSn0n/MdyR7zqJ+YyCchr2Pb9v1itbQ4tyQBC6vzKuHErMc/wCEuiKklXVm1uDdcjTI6LHEfUtPSeeWnmcS4zaBqSgqTH3gfxwdfMTqsAk8SsDBE7QolGd/2MxxulOc9d1tC53WDhFijwxJ5oLVmzMIfOWozGc+0NL5t9gkl6j9jdFiFgiRgYZj2tXwZVHciJJdkqGMC/y7sBalJRoclcmnqkhlsSfgCBzTTW02kbO3uRodUaEgCFoYa8GAQj/lNIEk7MyjtNBeWPC/VNAqRJSumsiJ2IilK8cNDU/CrJjUXckMSsDDce52a0bjEB1yycWDgtTCu/va67J5WCGxc8SkzoqcQZ2vLt22nUbXyQ0aHVOhIAhaGU0ox+fFHqGH7FsftHBl8dg031svuaQWW1oT9/DZfXJxJtK0dXz00lTr+LYyOqlCSBCwKBFsbxey+ffHXg9nn6MjQo3NI3ioLNQqctBQO/vQ8Y2J/5aydAxMfmk7jSi2NjqrQkskH58gAAAwtSURBVAQsCgxHO1sWPv0iFZKfY4ezE2+GTyQldJbRYYlbEq9xbOajjEjczhk7Rz5vPZ0WlZoaHVWhJglYFCjODrb8/OwwvBJ7s9HVhbd2/o+UvQuNDktcPcOx6W15VUVy2s6JCS2/5aHKTYyOqtCTBCwKHHcne5Y9N4JyiY+z3tWF4VtGk7J/qdFhFV9nwzn2w0MMdInnnK0LE1v/QPsq0vPND5KARYFUwsmepc+NplziY6x1debNTcNJ3r/E6LCKn4MrOTinC/1LOXDJ1pWv28zgocoNjY6qyJAELAosUxL+AN+k7mxwdWbo5pEk7l9sdFjFg9awZRJhy/vTz7MM11RJvms/mxb+IUZHVqRIAhYFWgkne5b2+4CA1D5sdXZi0JZ3uL77J6PDKtpSEmHZQDb+PZ4B3uVIwZO5j8yjka+UEMpvkoBFgefsYMui50ZSW/Vjl5Mjz/8zjujtMkXNIuLOw49dmH9iJUPLeWKn/VnWYwG1vaSEkCVIAhaFgqOdLXOfeYOmLq9z3N6B5/ZP5sSG/xkdVtFyeidp37Xi04QTfFy2DKVUCH88uQD/Ul5GR1ZkSQIWhYatjWLaE8/zqPdHXLJxoN+JeexYPgjS040OrfALncX1H7swxM2OOSVdCXDowNqnZlHa2c3oyIo0ScCiUFFK8cHDj/JSrW9JT3di8JXNLJ3XXYp85lVKAiwfwpk1b/KEtw9/O9nSsswAlvX+DAc7O6OjK/IkAYtCaUDTB/lfq8V4JJfkg7TjfD6rFelS7j53Yo7BD+3ZfuhnulfwJ8rWgUE1xzO16zBsbCQ1WIP8WxaFVqtqAUzvuYpqCf7Mto9j4JxWxJ7bZ3RYhcP+paRNb8205PO86O1Nki7LV61mMrhJZ6MjK1YkAYtCrZJHSeb2X05L/r+9Ow+Osr7jOP7+JpuLHHIlJBBAA6IodEApoFJRiRQUYaj1QilaFMVqwVodrNracbC2VtRWWsQWxepIbZGpIAh4dFQ8uApiUBG5L7kCGEFCst/+sWvHzogg2eSXZD+vmZ3J87DH5xcyn3n2+e3z234szHCGvXgZSxfrY2qHVbkfXvgp5c+P5LrmLfhT0yya05OXLvkn53XoEjpd0lEBS4OXlR5h4oiHubbwVioshVEr7mfiP0bimpz7f1uXw+PnsnDlNC4oPoGF6XBm02t5dfhkivKOC50uKamApdG4acA1/L7vNEoqM5m0fyGj/tqH7eUbQ8cKL1oNb0zg4OP9eMD3MrKwFfujzbinx2M8NmQMqamqgVD0m5dGpWfHLjx59QIuPNSJxWn7uPT5gTz7+qTQscLZsQqmDGDlG/cxuHU7nspNo1XK2cy9dAY/7NordLqkV6cFbGYDzOwjM1ttZuPq8rUleTTJyOD+a6fzq+KbyYk6962dyHVPXMS2fbtCR6s71VXwxgT2P9aHBw+s4/LWrdliWfyo5F7mD3+Uwry80AkFMK+j794ys1RgFXA+sAlYBFzh7isP95gePXr44sWL6ySfNE67dmxgwvTLmZW5j9zqFH7Q9nrGlo5u3B+z2rgQZt3Cm/tWc1fLInZFqimgD5MH/ZoOLXRVW10wsyXufsRl4+ryr7AnsNrd17h7JTANGFKHry9JqEV+O8Zfv4AH8y+jqLqSJ7ZOYvCUUuZ+uDR0tMT7fCfMHMP6qQO5wcoZXVhAOS24ufODvDLizyrfeqguC7gN8NUZkU3xfSK1y4zSC+/m6YtnM/pAHrtTPuX2d0ZwydRrKPt0S+h0NVdVCW/9kZ2PnsZv177A4OI2LMjI4vTcK3l92CxG9ewfOqEcRr271tDMRgGjANq1axc4jTQmGS1KuPH6Nxn67hQmL/kdM7IXMXz2AE5ML+We0tvo3KoodMRvJ1oN70+n/NV7+Zvt5amC4zhoRnHkbCb0H0fnguLQCeUI6vIc8BnAPe7+/fj2HQDu/pvDPUbngKXWHNhD2exxPLltPnOzs4hEI7SN9ONnZ46mb8eOodN9s2g1fDCTja+O5+++nedy8ziQAgUpvbj7rLGcU6ILKkI72nPAdVnAEWKTcP2AzcQm4Ya5e9nhHqMCllq36xPen30bU/ctY152EyCFZlWnMfSkK7mu57k0yahHbxIPfcGhZc/y7lsPMTNSwdzsJkRJoSjSm9t6j6a0Y/fQCSWu3hUwgJldADwMpAJT3H38N91fBSx1ZvMS1r02nmm7lzIjN5v9KSmkVbbgxNyBXNXlIgZ2PplIoAsWorvW8t4rE3hnyxzmZEdYk55GJJpGp5zzuet7N9C18IQgueTw6mUBf1sqYKlz21ZQseAR5qyfx/ScTMoyMsAh9WB7OuT0YUDJOQw5tRsFeZm1GmNv+XYW/HsiZVvm8F5kD8syMwDIjxZSWnIlN/e+hNyM7FrNIMdOBSxSExU7YOlUPln+NPOqd/FSdjZr0tMAsMo80qMn0yGvC72KunNGu850LmxG0ybpx/ZSB6so27yD5avmsWHTXD6t/JA1GV+wPZIKQFF1Dt0KBjCy9whOanl8okYotUgFLJII7rB5Kax4jo0fz+btQ7tZkJXJ0sws9qRa/D6GVTaH6tZkp7agWXoBTTOakpOeQ256DpGUVBynOhqlorKCioPlHPpiC1WV66j07eyP7GNXWhVRiz1fi2oosQK6FZdyca8RtMlrHfAXIMdCBSySaO6w82NY/TK+4W02bFnEiqq9fJKexuq0NNanpbMtksqBFDuqp8utjtK6qopWnkbbjNac2Ko73+06lLZtemF2dM8h9dPRFnA9muIVqefMIL8T5HfCzriR9u60/2wb7FwVu5Wvg8938lnFVvZU7uPz6CEqooeIpkaw1ExS0rPIaZJPbm4xeU2PJ6eoG+SfBBm5oUcmgaiARY6VGeQVxW4lff+3Ozd+EzmSRrwiiYhI/aYCFhEJRAUsIhKIClhEJBAVsIhIICpgEZFAVMAiIoGogEVEAlEBi4gEogIWEQlEBSwiEogKWEQkkHq9HKWZ7QDWh85xBC2BnaFD1BKNreFqzONrCGNr7+75R7pTvS7ghsDMFh/Nup8NkcbWcDXm8TWmsekUhIhIICpgEZFAVMA1Nzl0gFqksTVcjXl8jWZsOgcsIhKIjoBFRAJRAYuIBKICTiAzu9XM3Mxahs6SKGb2gJl9aGbvmdkMM2saOlNNmdkAM/vIzFab2bjQeRLFzNqa2WtmttLMysxsTOhMiWZmqWb2HzObFTpLIqiAE8TM2gL9gQ2hsyTYfKCLu38HWAXcEThPjZhZKjARGAicAlxhZqeETZUwVcCt7n4K0Bv4SSMa25fGAB+EDpEoKuDEeQi4HWhUs5ruPs/dq+Kb7wDFIfMkQE9gtbuvcfdKYBowJHCmhHD3re6+NP7zZ8SKqk3YVIljZsXAhcBfQmdJFBVwApjZEGCzuy8PnaWW/RiYEzpEDbUBNn5lexONqKS+ZGbHA92Bd8MmSaiHiR3kREMHSZRI6AANhZm9DBR+zT/dCfyC2OmHBumbxubu/4rf505ib3Gfqcts8u2ZWQ4wHRjr7vtC50kEMxsEbHf3JWZ2Tug8iaICPkruXvp1+82sK3ACsNzMIPYWfamZ9XT3bXUY8ZgdbmxfMrOrgUFAP2/4HxzfDLT9ynZxfF+jYGZpxMr3GXd/PnSeBDoLGGxmFwCZQJ6ZPe3uVwXOVSO6ECPBzGwd0MPd6/tqTUfFzAYAE4C+7r4jdJ6aMrMIscnEfsSKdxEwzN3LggZLAIsdAUwFdrv72NB5akv8CPjn7j4odJaa0jlgOZJHgVxgvpktM7NJoQPVRHxC8SZgLrFJqucaQ/nGnQUMB86L/18tix8xSj2lI2ARkUB0BCwiEogKWEQkEBWwiEggKmARkUBUwCIigaiARUQCUQGLiASiApakEl9P9pH4erkrzKwkdCZJXipgSTZ3AGvc/VTgD8CNgfNIEtNiPJI0zCwbGOrup8d3rSW2vqxIECpgSSalQFszWxbfbg68HDCPJDmdgpBk0g34pbt3c/duwDxg2REeI1JrVMCSTJoB++F/y1L2B2YGTSRJTQUsyWQVsS+rBLgFeNHd1wbMI0lOy1FK0jCzZsS+064l8DYwyt0PhE0lyUwFLCISiE5BiIgEogIWEQlEBSwiEogKWEQkEBWwiEggKmARkUBUwCIigfwXx3SRr0c2Tv4AAAAASUVORK5CYII=\n",
=======
      "image/png": "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\n",
>>>>>>> 22b35102f47e23cebd0dd4f617e6da3071fe26b7
      "text/plain": [
       "<Figure size 360x360 with 1 Axes>"
      ]
     },
     "metadata": {
      "needs_background": "light"
     },
     "output_type": "display_data"
    }
   ],
   "source": [
    "best_fit_alices = float(theta_grid[np.argmin(nllr_test_alices)])\n",
    "best_fit_carl = float(theta_grid[np.argmin(nllr_test_carl)])\n",
    "\n",
    "fig = plt.figure(figsize=(5,5))\n",
    "\n",
    "plt.plot(theta_grid, nllr_test_true, label=r'Ground truth ($\\theta = 1.0$)')\n",
    "plt.plot(theta_grid, nllr_test_carl, label=r'CARL ($\\hat{\\theta} = ' + '{:.2f}$)'.format(best_fit_carl))\n",
    "plt.plot(theta_grid, nllr_test_alices, label=r'ALICES ($\\hat{\\theta} = ' + '{:.2f}$)'.format(best_fit_alices))\n",
    "\n",
    "plt.xlabel(r'$\\theta$')\n",
    "plt.ylabel(r'$\\mathbb{E}_x [ -2\\, \\log \\,r(x | \\theta, \\theta_{1}) ]$')\n",
    "\n",
    "plt.legend()\n",
    "plt.tight_layout()\n",
    "plt.show()"
   ]
  },
  {
   "cell_type": "markdown",
   "metadata": {},
   "source": [
    "You should see that the new ALICES approach is a much better approximation of the true likelihood ratio than the CARL estimate. Note that we only trained in the parameter range (-4, 4), so the deviations at the left and right of the plot are to be expected."
   ]
  },
  {
   "cell_type": "code",
   "execution_count": null,
   "metadata": {},
   "outputs": [],
   "source": []
  }
 ],
 "metadata": {
  "kernelspec": {
   "display_name": "Python (higgs_inference)",
   "language": "python",
   "name": "higgs_inference"
  },
  "language_info": {
   "codemirror_mode": {
    "name": "ipython",
    "version": 3
   },
   "file_extension": ".py",
   "mimetype": "text/x-python",
   "name": "python",
   "nbconvert_exporter": "python",
   "pygments_lexer": "ipython3",
   "version": "3.6.7"
  }
 },
 "nbformat": 4,
 "nbformat_minor": 2
}
