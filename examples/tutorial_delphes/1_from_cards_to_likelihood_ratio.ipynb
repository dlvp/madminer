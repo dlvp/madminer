{
 "cells": [
  {
   "cell_type": "markdown",
   "metadata": {},
   "source": [
    "# MadMiner tutorial 1: From cards to likelihood ratios\n",
    "\n",
    "Johann Brehmer, Felix Kling, Kyle Cranmer 2018"
   ]
  },
  {
   "cell_type": "markdown",
   "metadata": {},
   "source": [
    "In this tutorial we'll introduce the basic MadMiner workflow. We'll show you how to use MadMiner to generate events, extract training data, and train neural networks to estimate likelihood ratios.\n",
    "\n",
    "This tutorial does not try to explain the inference methods. To understand what MadMiner is doing, please have a look at some papers first. In\n",
    "[\"Constraining Effective Field Theories With Machine Learning\"](https://arxiv.org/abs/1805.00013)\n",
    "we explain the basic idea of most of the methods presented here, while [\"A Guide to Constraining Effective Field Theories With Machine Learning\"](https://arxiv.org/abs/1805.00020) is an extensive 65-page handbook going through the details."
   ]
  },
  {
   "cell_type": "markdown",
   "metadata": {},
   "source": [
    "## Preparations"
   ]
  },
  {
   "cell_type": "markdown",
   "metadata": {},
   "source": [
    "Before you execute this notebook, make sure you have running installations of MadGraph, Pythia, and Delphes."
   ]
  },
  {
   "cell_type": "code",
   "execution_count": 1,
   "metadata": {},
   "outputs": [],
   "source": [
    "from __future__ import absolute_import, division, print_function, unicode_literals\n",
    "\n",
    "import logging\n",
    "import numpy as np\n",
    "import matplotlib\n",
    "from matplotlib import pyplot as plt\n",
    "%matplotlib inline\n",
    "\n",
    "from madminer.core import MadMiner\n",
    "from madminer.delphes import DelphesProcessor\n",
    "from madminer.sampling import combine_and_shuffle\n",
    "from madminer.sampling import SampleAugmenter\n",
    "from madminer.sampling import constant_benchmark_theta, multiple_benchmark_thetas, random_morphing_thetas\n",
    "from madminer.ml import MLForge\n",
    "from madminer.plotting import plot_2d_morphing_basis, plot_distributions\n"
   ]
  },
  {
   "cell_type": "markdown",
   "metadata": {},
   "source": [
    "Please enter here the path to your MG5 root directory. This notebook assumes that you installed Delphes and Pythia through MG5."
   ]
  },
  {
   "cell_type": "code",
   "execution_count": 2,
   "metadata": {},
   "outputs": [],
   "source": [
<<<<<<< HEAD
    "mg_dir = '../../../MG5_2.6.4'"
=======
    "mg_dir = '/Users/johannbrehmer/work/projects/madminer/MG5_aMC_v2_6_5'"
>>>>>>> 22b35102f47e23cebd0dd4f617e6da3071fe26b7
   ]
  },
  {
   "cell_type": "markdown",
   "metadata": {},
   "source": [
    "MadMiner uses the Python `logging` module to provide additional information and debugging output. You can choose how much of this output you want to see by switching the level in the following lines to `logging.DEBUG` or `logging.WARNING`."
   ]
  },
  {
   "cell_type": "code",
   "execution_count": 3,
   "metadata": {},
   "outputs": [],
   "source": [
    "# MadMiner output\n",
    "logging.basicConfig(\n",
    "    format='%(asctime)-5.5s %(name)-20.20s %(levelname)-7.7s %(message)s',\n",
    "    datefmt='%H:%M',\n",
    "    level=logging.INFO\n",
    ")\n",
    "\n",
    "# Output of all other modules (e.g. matplotlib)\n",
    "for key in logging.Logger.manager.loggerDict:\n",
    "    if \"madminer\" not in key:\n",
    "        logging.getLogger(key).setLevel(logging.DEBUG)"
   ]
  },
  {
   "cell_type": "markdown",
   "metadata": {},
   "source": [
    "## Input data"
   ]
  },
  {
   "cell_type": "markdown",
   "metadata": {},
   "source": [
    "As an example process, we'll simulate VBF Higgs production with a decay into two photons. We'll try to measure two EFT coefficients that affect this process.\n",
    "\n",
    "Have a look at the `cards` folder. You'll find text files (\"cards\") that specify the process simulation in typical MadGraph convention."
   ]
  },
  {
   "cell_type": "markdown",
   "metadata": {},
   "source": [
    "## 1. Define parameter space"
   ]
  },
  {
   "cell_type": "markdown",
   "metadata": {},
   "source": [
    "After creating a `MadMiner` instance, the first important step is the definition of the parameter space. Each model parameter is characterized by a name as well as the LHA block and ID.\n",
    "\n",
    "If morphing is used, one also has to specify the maximal power with which the parameter contributes to the squared matrix element. For instance, a parameter that contributes only to one vertex, will typically have `morphing_max_power=2`, while a parameter that contributes to two vertices usually has `morphing_max_power=4`. Exceptions arise for instance when the interference effects between the SM and dimension-six operators are modelled, but the square of the dimension-six amplitude (subleading in 1/Lambda) is not taken into account, in which case `morphing_max_power=1`. The `parameter_range` argument defines the range of parameter values that are used for the automatic optimization of the morphing basis.\n",
    "\n",
    "Finally, the parameter values theta used internally by MadMiner and the parameter values written to the param_card (or reweight_card) given to MadGraph do not have to be exactly the same. With the option `parm_card_transform`, the user can supply a one-parameter function that maps a parameter value theta to the value given to MadGraph. This string is a python expression, in which `theta` is parsed as the parameter value. For instance, if the internal parameters are in the range (0, 1), but should be linearly scaled to (0, 100) in the param_card, one would have to use `param_card_transform=\"100*theta\"`."
   ]
  },
  {
   "cell_type": "code",
   "execution_count": 4,
   "metadata": {},
   "outputs": [
    {
     "name": "stderr",
     "output_type": "stream",
     "text": [
<<<<<<< HEAD
      "19:50 madminer.core        INFO    Added parameter CWL2 (LHA: dim6 2, maximal power in squared ME: (2,), range: (-10.0, 10.0))\n",
      "19:50 madminer.core        INFO    Added parameter CPWL2 (LHA: dim6 5, maximal power in squared ME: (2,), range: (-10.0, 10.0))\n"
=======
      "15:15 madminer.core        INFO    Added parameter CWL2 (LHA: dim6 2, maximal power in squared ME: (2,), range: (-10.0, 10.0))\n",
      "15:15 madminer.core        INFO    Added parameter CPWL2 (LHA: dim6 5, maximal power in squared ME: (2,), range: (-10.0, 10.0))\n"
>>>>>>> 22b35102f47e23cebd0dd4f617e6da3071fe26b7
     ]
    }
   ],
   "source": [
    "miner = MadMiner()\n",
    "\n",
    "miner.add_parameter(\n",
    "    lha_block='dim6',\n",
    "    lha_id=2,\n",
    "    parameter_name='CWL2',\n",
    "    morphing_max_power=2,\n",
    "    param_card_transform=\"16.52*theta\",\n",
    "    parameter_range=(-10.,10.)\n",
    ")\n",
    "miner.add_parameter(\n",
    "    lha_block='dim6',\n",
    "    lha_id=5,\n",
    "    parameter_name='CPWL2',\n",
    "    morphing_max_power=2,\n",
    "    param_card_transform=\"16.52*theta\",\n",
    "    parameter_range=(-10.,10.)\n",
    ")"
   ]
  },
  {
   "cell_type": "markdown",
   "metadata": {},
   "source": [
    "## 2. Define benchmark points (evaluation points for |M|^2)"
   ]
  },
  {
   "cell_type": "markdown",
   "metadata": {},
   "source": [
    "The next step is the definition of all the points at which the weights (squared matrix elements) should be evaluated by MadGraph. We call these points \"benchmarks\"."
   ]
  },
  {
   "cell_type": "markdown",
   "metadata": {},
   "source": [
    "### Set benchmarks by hand"
   ]
  },
  {
   "cell_type": "markdown",
   "metadata": {},
   "source": [
    "One can define benchmarks by hand:"
   ]
  },
  {
   "cell_type": "code",
   "execution_count": 5,
   "metadata": {},
   "outputs": [
    {
     "name": "stderr",
     "output_type": "stream",
     "text": [
<<<<<<< HEAD
      "19:50 madminer.core        INFO    Added benchmark sm: CWL2 = 0.00e+00, CPWL2 = 0.00e+00)\n",
      "19:50 madminer.core        INFO    Added benchmark w: CWL2 = 10.00, CPWL2 = 0.00e+00)\n"
=======
      "15:15 madminer.core        INFO    Added benchmark sm: CWL2 = 0.00e+00, CPWL2 = 0.00e+00)\n",
      "15:15 madminer.core        INFO    Added benchmark w: CWL2 = 10.00, CPWL2 = 0.00e+00)\n"
>>>>>>> 22b35102f47e23cebd0dd4f617e6da3071fe26b7
     ]
    }
   ],
   "source": [
    "miner.add_benchmark(\n",
    "    {'CWL2':0., 'CPWL2':0.},\n",
    "    'sm'\n",
    ")\n",
    "miner.add_benchmark(\n",
    "    {'CWL2':10., 'CPWL2':0.},\n",
    "    'w'\n",
    ")"
   ]
  },
  {
   "cell_type": "markdown",
   "metadata": {},
   "source": [
    "### Morphing setup"
   ]
  },
  {
   "cell_type": "markdown",
   "metadata": {},
   "source": [
    "If morphing is used, the function `set_morphing` has to be called. With the option `include_existing_benchmarks=True`, MadMiner will keep all the benchmark points defined beforehand and run a simple optimization algorithm to fix the remaining ones for the basis (which may be none). Otherwise, MadMiner will optimize the full basis and forget about all previously defined benchmark points.\n",
    "\n",
    "The other important keyword is `max_overall_power`. This sets the maximal combined power with which all parameters together contribute to the squared matrix element (cross section). This constraint is in addition to the `morphing_max_power` keyword of `add_parameter()` (see above). For instance, if there are two parameters of interest `a` and `b`, and it is known that there are contributions proportional to `1` (constant), `a`, `a^2`, `b`, `b^2`, and `ab`, then `max_overall_power=2`. If there are also contributions proportional to `a^2 b`, `a b^2`, and `a^2 b^2`, then `max_overall_power=4`."
   ]
  },
  {
   "cell_type": "code",
   "execution_count": 6,
   "metadata": {
    "scrolled": true
   },
   "outputs": [
    {
     "name": "stderr",
     "output_type": "stream",
     "text": [
<<<<<<< HEAD
      "19:50 madminer.core        INFO    Optimizing basis for morphing\n",
      "19:50 madminer.core        INFO    Added benchmark sm: CWL2 = 0.00e+00, CPWL2 = 0.00e+00)\n",
      "19:50 madminer.core        INFO    Added benchmark w: CWL2 = 10.00, CPWL2 = 0.00e+00)\n",
      "19:50 madminer.core        INFO    Added benchmark morphing_basis_vector_2: CWL2 = -4.73e+00, CPWL2 = -8.14e+00)\n",
      "19:50 madminer.core        INFO    Added benchmark morphing_basis_vector_3: CWL2 = -5.58e+00, CPWL2 = 9.20)\n",
      "19:50 madminer.core        INFO    Added benchmark morphing_basis_vector_4: CWL2 = 7.20, CPWL2 = -9.96e+00)\n",
      "19:50 madminer.core        INFO    Added benchmark morphing_basis_vector_5: CWL2 = 2.04, CPWL2 = 9.37)\n"
=======
      "15:15 madminer.core        INFO    Optimizing basis for morphing\n",
      "15:15 madminer.core        INFO    Added benchmark sm: CWL2 = 0.00e+00, CPWL2 = 0.00e+00)\n",
      "15:15 madminer.core        INFO    Added benchmark w: CWL2 = 10.00, CPWL2 = 0.00e+00)\n",
      "15:15 madminer.core        INFO    Added benchmark morphing_basis_vector_2: CWL2 = -6.60e+00, CPWL2 = -9.63e+00)\n",
      "15:15 madminer.core        INFO    Added benchmark morphing_basis_vector_3: CWL2 = 1.07, CPWL2 = -6.54e+00)\n",
      "15:15 madminer.core        INFO    Added benchmark morphing_basis_vector_4: CWL2 = -4.67e+00, CPWL2 = 8.95)\n",
      "15:15 madminer.core        INFO    Added benchmark morphing_basis_vector_5: CWL2 = -9.59e+00, CPWL2 = -6.15e-01)\n"
>>>>>>> 22b35102f47e23cebd0dd4f617e6da3071fe26b7
     ]
    }
   ],
   "source": [
    "miner.set_morphing(\n",
    "    include_existing_benchmarks=True,\n",
    "    max_overall_power=2\n",
    ")"
   ]
  },
  {
   "cell_type": "markdown",
   "metadata": {},
   "source": [
    "Let's have a look at the resulting morphing basis and the \"morphing error\", i.e. the sum of squared morphing weights as a function of the parameter space. The black dots mark the benchmarks at which the squared matrix element will be evaluated when MadGraph is run. In between them, the morphing will interpolate. Since the morphing knows about the functional form of the amplitudes, there is only a small numerical uncertainty in this interpolation, we expect that the color in this plot is indicative of this uncertainty."
   ]
  },
  {
   "cell_type": "code",
   "execution_count": 7,
   "metadata": {},
   "outputs": [
    {
<<<<<<< HEAD
     "name": "stderr",
     "output_type": "stream",
     "text": [
      "19:50 matplotlib.font_mana DEBUG   findfont: Matching :family=sans-serif:style=normal:variant=normal:weight=normal:stretch=normal:size=10.0 to DejaVu Sans (u'/Users/dpappadopulo/dpenv/lib/python3.7/site-packages/matplotlib/mpl-data/fonts/ttf/DejaVuSans.ttf') with score of 0.050000\n",
      "19:50 matplotlib.font_mana DEBUG   findfont: Matching :family=STIXGeneral:style=normal:variant=normal:weight=normal:stretch=normal:size=10.0 to STIXGeneral (u'/Users/dpappadopulo/dpenv/lib/python3.7/site-packages/matplotlib/mpl-data/fonts/ttf/STIXGeneral.ttf') with score of 0.050000\n",
      "19:50 matplotlib.font_mana DEBUG   findfont: Matching :family=STIXSizeOneSym:style=normal:variant=normal:weight=normal:stretch=normal:size=10.0 to STIXSizeOneSym (u'/Users/dpappadopulo/dpenv/lib/python3.7/site-packages/matplotlib/mpl-data/fonts/ttf/STIXSizOneSymReg.ttf') with score of 0.050000\n",
      "19:50 matplotlib.font_mana DEBUG   findfont: Matching :family=STIXGeneral:style=normal:variant=normal:weight=bold:stretch=normal:size=10.0 to STIXGeneral (u'/Users/dpappadopulo/dpenv/lib/python3.7/site-packages/matplotlib/mpl-data/fonts/ttf/STIXGeneralBol.ttf') with score of 0.000000\n",
      "19:50 matplotlib.font_mana DEBUG   findfont: Matching :family=STIXSizeThreeSym:style=normal:variant=normal:weight=normal:stretch=normal:size=10.0 to STIXSizeThreeSym (u'/Users/dpappadopulo/dpenv/lib/python3.7/site-packages/matplotlib/mpl-data/fonts/ttf/STIXSizThreeSymReg.ttf') with score of 0.050000\n",
      "19:50 matplotlib.font_mana DEBUG   findfont: Matching :family=STIXSizeFourSym:style=normal:variant=normal:weight=normal:stretch=normal:size=10.0 to STIXSizeFourSym (u'/Users/dpappadopulo/dpenv/lib/python3.7/site-packages/matplotlib/mpl-data/fonts/ttf/STIXSizFourSymReg.ttf') with score of 0.050000\n",
      "19:50 matplotlib.font_mana DEBUG   findfont: Matching :family=STIXSizeFiveSym:style=normal:variant=normal:weight=normal:stretch=normal:size=10.0 to STIXSizeFiveSym (u'/Users/dpappadopulo/dpenv/lib/python3.7/site-packages/matplotlib/mpl-data/fonts/ttf/STIXSizFiveSymReg.ttf') with score of 0.050000\n",
      "19:50 matplotlib.font_mana DEBUG   findfont: Matching :family=STIXSizeTwoSym:style=normal:variant=normal:weight=normal:stretch=normal:size=10.0 to STIXSizeTwoSym (u'/Users/dpappadopulo/dpenv/lib/python3.7/site-packages/matplotlib/mpl-data/fonts/ttf/STIXSizTwoSymReg.ttf') with score of 0.050000\n",
      "19:50 matplotlib.font_mana DEBUG   findfont: Matching :family=STIXGeneral:style=italic:variant=normal:weight=normal:stretch=normal:size=10.0 to STIXGeneral (u'/Users/dpappadopulo/dpenv/lib/python3.7/site-packages/matplotlib/mpl-data/fonts/ttf/STIXGeneralItalic.ttf') with score of 0.050000\n",
      "19:50 matplotlib.font_mana DEBUG   findfont: Matching :family=STIXNonUnicode:style=italic:variant=normal:weight=normal:stretch=normal:size=10.0 to STIXNonUnicode (u'/Users/dpappadopulo/dpenv/lib/python3.7/site-packages/matplotlib/mpl-data/fonts/ttf/STIXNonUniIta.ttf') with score of 0.050000\n",
      "19:50 matplotlib.font_mana DEBUG   findfont: Matching :family=STIXNonUnicode:style=normal:variant=normal:weight=normal:stretch=normal:size=10.0 to STIXNonUnicode (u'/Users/dpappadopulo/dpenv/lib/python3.7/site-packages/matplotlib/mpl-data/fonts/ttf/STIXNonUni.ttf') with score of 0.050000\n",
      "19:50 matplotlib.font_mana DEBUG   findfont: Matching :family=STIXNonUnicode:style=normal:variant=normal:weight=bold:stretch=normal:size=10.0 to STIXNonUnicode (u'/Users/dpappadopulo/dpenv/lib/python3.7/site-packages/matplotlib/mpl-data/fonts/ttf/STIXNonUniBol.ttf') with score of 0.000000\n",
      "19:50 matplotlib.font_mana DEBUG   findfont: Matching :family=cmb10:style=normal:variant=normal:weight=normal:stretch=normal:size=10.0 to cmb10 (u'/Users/dpappadopulo/dpenv/lib/python3.7/site-packages/matplotlib/mpl-data/fonts/ttf/cmb10.ttf') with score of 0.050000\n",
      "19:50 matplotlib.font_mana DEBUG   findfont: Matching :family=cmtt10:style=normal:variant=normal:weight=normal:stretch=normal:size=10.0 to cmtt10 (u'/Users/dpappadopulo/dpenv/lib/python3.7/site-packages/matplotlib/mpl-data/fonts/ttf/cmtt10.ttf') with score of 0.050000\n",
      "19:50 matplotlib.font_mana DEBUG   findfont: Matching :family=cmmi10:style=normal:variant=normal:weight=normal:stretch=normal:size=10.0 to cmmi10 (u'/Users/dpappadopulo/dpenv/lib/python3.7/site-packages/matplotlib/mpl-data/fonts/ttf/cmmi10.ttf') with score of 0.050000\n",
      "19:50 matplotlib.font_mana DEBUG   findfont: Matching :family=cmex10:style=normal:variant=normal:weight=normal:stretch=normal:size=10.0 to cmex10 (u'/Users/dpappadopulo/dpenv/lib/python3.7/site-packages/matplotlib/mpl-data/fonts/ttf/cmex10.ttf') with score of 0.050000\n",
      "19:50 matplotlib.font_mana DEBUG   findfont: Matching :family=cmsy10:style=normal:variant=normal:weight=normal:stretch=normal:size=10.0 to cmsy10 (u'/Users/dpappadopulo/dpenv/lib/python3.7/site-packages/matplotlib/mpl-data/fonts/ttf/cmsy10.ttf') with score of 0.050000\n",
      "19:50 matplotlib.font_mana DEBUG   findfont: Matching :family=cmr10:style=normal:variant=normal:weight=normal:stretch=normal:size=10.0 to cmr10 (u'/Users/dpappadopulo/dpenv/lib/python3.7/site-packages/matplotlib/mpl-data/fonts/ttf/cmr10.ttf') with score of 0.050000\n",
      "19:50 matplotlib.font_mana DEBUG   findfont: Matching :family=cmss10:style=normal:variant=normal:weight=normal:stretch=normal:size=10.0 to cmss10 (u'/Users/dpappadopulo/dpenv/lib/python3.7/site-packages/matplotlib/mpl-data/fonts/ttf/cmss10.ttf') with score of 0.050000\n",
      "19:50 matplotlib.font_mana DEBUG   findfont: Matching :family=DejaVu Sans:style=normal:variant=normal:weight=normal:stretch=normal:size=10.0 to DejaVu Sans (u'/Users/dpappadopulo/dpenv/lib/python3.7/site-packages/matplotlib/mpl-data/fonts/ttf/DejaVuSans.ttf') with score of 0.050000\n",
      "19:50 matplotlib.font_mana DEBUG   findfont: Matching :family=DejaVu Sans:style=normal:variant=normal:weight=bold:stretch=normal:size=10.0 to DejaVu Sans (u'/Users/dpappadopulo/dpenv/lib/python3.7/site-packages/matplotlib/mpl-data/fonts/ttf/DejaVuSans-Bold.ttf') with score of 0.000000\n",
      "19:50 matplotlib.font_mana DEBUG   findfont: Matching :family=DejaVu Sans Mono:style=normal:variant=normal:weight=normal:stretch=normal:size=10.0 to DejaVu Sans Mono (u'/Users/dpappadopulo/dpenv/lib/python3.7/site-packages/matplotlib/mpl-data/fonts/ttf/DejaVuSansMono.ttf') with score of 0.050000\n",
      "19:50 matplotlib.font_mana DEBUG   findfont: Matching :family=DejaVu Sans:style=italic:variant=normal:weight=normal:stretch=normal:size=10.0 to DejaVu Sans (u'/Users/dpappadopulo/dpenv/lib/python3.7/site-packages/matplotlib/mpl-data/fonts/ttf/DejaVuSans-Oblique.ttf') with score of 0.150000\n",
      "19:50 matplotlib.font_mana DEBUG   findfont: Matching :family=DejaVu Sans Display:style=normal:variant=normal:weight=normal:stretch=normal:size=10.0 to DejaVu Sans Display (u'/Users/dpappadopulo/dpenv/lib/python3.7/site-packages/matplotlib/mpl-data/fonts/ttf/DejaVuSansDisplay.ttf') with score of 0.050000\n"
     ]
    },
    {
     "data": {
      "image/png": "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\n",
=======
     "data": {
      "image/png": "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\n",
>>>>>>> 22b35102f47e23cebd0dd4f617e6da3071fe26b7
      "text/plain": [
       "<Figure size 468x360 with 2 Axes>"
      ]
     },
     "metadata": {
      "needs_background": "light"
     },
     "output_type": "display_data"
    }
   ],
   "source": [
    "fig = plot_2d_morphing_basis(\n",
    "    miner.morpher,\n",
    "    xlabel=r'$c_{W} v^2 / \\Lambda^2$',\n",
    "    ylabel=r'$c_{\\tilde{W}} v^2 / \\Lambda^2$',\n",
    "    xrange=(-10.,10.),\n",
    "    yrange=(-10.,10.)\n",
    ")"
   ]
  },
  {
   "cell_type": "markdown",
   "metadata": {},
   "source": [
    "The parameter space, benchmark points, and morphing setup are saved in a HDF5 file:"
   ]
  },
  {
   "cell_type": "code",
   "execution_count": 8,
   "metadata": {},
   "outputs": [
    {
     "name": "stderr",
     "output_type": "stream",
     "text": [
<<<<<<< HEAD
      "19:50 madminer.core        INFO    Saving setup (including morphing) to data/madminer_example.h5\n"
=======
      "15:15 madminer.core        INFO    Saving setup (including morphing) to data/madminer_example.h5\n"
>>>>>>> 22b35102f47e23cebd0dd4f617e6da3071fe26b7
     ]
    }
   ],
   "source": [
    "miner.save('data/madminer_example.h5')"
   ]
  },
  {
   "cell_type": "markdown",
   "metadata": {},
   "source": [
    "They can now be loaded again with `miner.load(filename)`."
   ]
  },
  {
   "cell_type": "markdown",
   "metadata": {},
   "source": [
    "## 3. Save settings and run MadGraph"
   ]
  },
  {
   "cell_type": "markdown",
   "metadata": {},
   "source": [
    "In a next step, MadMiner starts MadGraph and Pythia to generate events and calculate the weights. You have to provide paths to the process card, run card, param card (the entries corresponding to the parameters of interest will be automatically adapted), and an empty reweight card. Log files in the `log_directory` folder collect the MadGraph output and are important for debugging.\n",
    "\n",
    "The `sample_benchmark` option can be used to specify which benchmark should be used for sampling. If it is not used, MadMiner will automatically use the benchmark that was added first.\n",
    "\n",
    "Finally, if your default Python interpreter is 3.x, you will want to use `python2_override=True` to force MadGraph to be started with Python 2.x."
   ]
  },
  {
   "cell_type": "code",
<<<<<<< HEAD
   "execution_count": null,
=======
   "execution_count": 9,
>>>>>>> 22b35102f47e23cebd0dd4f617e6da3071fe26b7
   "metadata": {},
   "outputs": [
    {
     "name": "stderr",
     "output_type": "stream",
     "text": [
<<<<<<< HEAD
      "19:04 madminer.utils.inter INFO    Generating MadGraph process folder from cards/proc_card_signal.dat at ./mg_processes/signal\n",
      "19:04 madminer.core        INFO    Run 0\n",
      "19:04 madminer.core        INFO      Sampling from benchmark: sm\n",
      "19:04 madminer.core        INFO      Original run card:       cards/run_card_signal.dat\n",
      "19:04 madminer.core        INFO      Original Pythia8 card:   cards/pythia8_card.dat\n",
      "19:04 madminer.core        INFO      Copied run card:         /madminer/cards/run_card_0.dat\n",
      "19:04 madminer.core        INFO      Copied Pythia8 card:     /madminer/cards/pythia8_card_0.dat\n",
      "19:04 madminer.core        INFO      Param card:              /madminer/cards/param_card_0.dat\n",
      "19:04 madminer.core        INFO      Reweight card:           /madminer/cards/reweight_card_0.dat\n",
      "19:04 madminer.core        INFO      Log file:                run_0.log\n",
      "19:04 madminer.core        INFO    Creating param and reweight cards in ./mg_processes/signal//madminer/cards/param_card_0.dat, ./mg_processes/signal//madminer/cards/reweight_card_0.dat\n",
      "19:04 madminer.utils.inter INFO    Starting MadGraph and Pythia in ./mg_processes/signal\n"
=======
      "15:15 madminer.utils.inter INFO    Generating MadGraph process folder from cards/proc_card_signal.dat at ./mg_processes/signal\n",
      "15:15 madminer.core        INFO    Run 0\n",
      "15:15 madminer.core        INFO      Sampling from benchmark: sm\n",
      "15:15 madminer.core        INFO      Original run card:       cards/run_card_signal.dat\n",
      "15:15 madminer.core        INFO      Original Pythia8 card:   cards/pythia8_card.dat\n",
      "15:15 madminer.core        INFO      Copied run card:         /madminer/cards/run_card_0.dat\n",
      "15:15 madminer.core        INFO      Copied Pythia8 card:     /madminer/cards/pythia8_card_0.dat\n",
      "15:15 madminer.core        INFO      Param card:              /madminer/cards/param_card_0.dat\n",
      "15:15 madminer.core        INFO      Reweight card:           /madminer/cards/reweight_card_0.dat\n",
      "15:15 madminer.core        INFO      Log file:                run_0.log\n",
      "15:15 madminer.core        INFO    Creating param and reweight cards in ./mg_processes/signal//madminer/cards/param_card_0.dat, ./mg_processes/signal//madminer/cards/reweight_card_0.dat\n",
      "15:15 madminer.utils.inter INFO    Starting MadGraph and Pythia in ./mg_processes/signal\n",
      "16:20 madminer.core        INFO    Finished running MadGraph! Please check that events were succesfully generated in the following folders:\n",
      "\n",
      "./mg_processes/signal/Events/run_01\n",
      "\n",
      "\n"
>>>>>>> 22b35102f47e23cebd0dd4f617e6da3071fe26b7
     ]
    }
   ],
   "source": [
    "miner.run(\n",
    "    sample_benchmark='sm',\n",
    "    mg_directory=mg_dir,\n",
    "    mg_process_directory='./mg_processes/signal',\n",
    "    proc_card_file='cards/proc_card_signal.dat',\n",
    "    param_card_template_file='cards/param_card_template.dat',\n",
    "    run_card_file='cards/run_card_signal.dat',\n",
    "    pythia8_card_file='cards/pythia8_card.dat',\n",
    "    log_directory='logs/signal',\n",
    "    python2_override=True,\n",
    ")"
   ]
  },
  {
   "cell_type": "markdown",
   "metadata": {},
   "source": [
    "This will take a moment -- time for a coffee break!\n",
    "\n",
    "After running any event generation through MadMiner, you should check whether the run succeeded: are the usual output files there (LHE and HepMC), do the log files show any error messages? MadMiner does not perform any explicit checks, and if something went wrong in the event generation, it will only notice later when trying to load the event files."
   ]
  },
  {
   "cell_type": "markdown",
   "metadata": {},
   "source": [
    "It is possible to start multiple processes based on the same `MadMiner` instance. This can be used to combine samples sampled according to different benchmarks, and to add reducible backgrounds. \n",
    "\n",
    "For the latter, a useful option is the `is_background` switch, which should be used for processes that do *not* depend on the parameters theta. `is_background=True` will disable the reweighting and re-use the same weights for all cross sections.\n",
    "\n",
    "To reduce the runtime of the notebook, the background part is commented out here. Feel free to activate it and let it run during a lunch break."
   ]
  },
  {
   "cell_type": "code",
   "execution_count": 10,
   "metadata": {},
   "outputs": [
    {
     "data": {
      "text/plain": [
       "u\"\\nminer.run(\\n    is_background=True,\\n    sample_benchmark='sm',\\n    mg_directory=mg_dir,\\n    mg_process_directory='./mg_processes/background',\\n    proc_card_file='cards/proc_card_background.dat',\\n    param_card_template_file='cards/param_card_template.dat',\\n    run_card_file='cards/run_card_background.dat',\\n    pythia8_card_file='cards/pythia8_card.dat',\\n    log_directory='logs/background',\\n    # initial_command='source activate python2',\\n)\\n\""
      ]
     },
     "execution_count": 10,
     "metadata": {},
     "output_type": "execute_result"
    }
   ],
   "source": [
    "\"\"\"\n",
    "miner.run(\n",
    "    is_background=True,\n",
    "    sample_benchmark='sm',\n",
    "    mg_directory=mg_dir,\n",
    "    mg_process_directory='./mg_processes/background',\n",
    "    proc_card_file='cards/proc_card_background.dat',\n",
    "    param_card_template_file='cards/param_card_template.dat',\n",
    "    run_card_file='cards/run_card_background.dat',\n",
    "    pythia8_card_file='cards/pythia8_card.dat',\n",
    "    log_directory='logs/background',\n",
    "    # initial_command='source activate python2',\n",
    ")\n",
    "\"\"\""
   ]
  },
  {
   "cell_type": "markdown",
   "metadata": {},
   "source": [
    "Finally, two options might be very useful for larger projects:\n",
    "- `MadMiner.run_multiple()` allows you to start multiple runs with different run cards or different choices of `sample_benchmark`.\n",
    "- Both `MadMiner.run()` and `MadMiner.run_multiple()` have a `only_create_script` keyword. If that is set to True, MadMiner will not start the event generation directly, but prepare folders with all the right settings and ready-to-run bash scripts. This might make it much easier to generate Events on a high-performance computing system. "
   ]
  },
  {
   "cell_type": "markdown",
   "metadata": {},
   "source": [
    "## 4. Run detector simulation and extract observables"
   ]
  },
  {
   "cell_type": "markdown",
   "metadata": {},
   "source": [
    "The `madminer.delphes` wraps around Delphes, a popular fast detector simulation. In addition to simulating the detector, it allows for the fast extraction of observables, which are saved in the MadMiner HDF5 file. The central object is an instance of the `DelphesProcessor` class, which has to be initialized with a MadMiner file:"
   ]
  },
  {
   "cell_type": "code",
   "execution_count": 11,
   "metadata": {},
   "outputs": [],
   "source": [
    "dp = DelphesProcessor('data/madminer_example.h5')"
   ]
  },
  {
   "cell_type": "markdown",
   "metadata": {},
   "source": [
    "After creating the DelphesProcessor object, one can add a number of event samples (the output of running MadGraph and Pythia in step 3) with the `add_sample()` function.\n",
    "\n",
    "In addition, you have to provide the information which sample was generated from which benchmark with the `sampled_from_benchmark` keyword, and set `is_background=True` for all background samples."
   ]
  },
  {
   "cell_type": "code",
   "execution_count": 12,
   "metadata": {
    "scrolled": false
   },
   "outputs": [
    {
     "name": "stderr",
     "output_type": "stream",
     "text": [
      "16:20 madminer.delphes     INFO    Running Delphes on HepMC sample at mg_processes/signal/Events/run_01/tag_1_pythia8_events.hepmc.gz\n"
     ]
    }
   ],
   "source": [
    "dp.add_sample(\n",
    "    lhe_filename='mg_processes/signal/Events/run_01/unweighted_events.lhe.gz',\n",
    "    hepmc_filename='mg_processes/signal/Events/run_01/tag_1_pythia8_events.hepmc.gz',\n",
    "    sampled_from_benchmark='sm',\n",
    "    is_background=False,\n",
    ")\n",
    "\"\"\"\n",
    "dp.add_sample(\n",
    "    lhe_filename='mg_processes/background/Events/run_01/unweighted_events.lhe.gz',\n",
    "    hepmc_filename='mg_processes/background/Events/run_01/tag_1_pythia8_events.hepmc.gz',\n",
    "    sampled_from_benchmark='sm',\n",
    "    is_background=True,\n",
    ")\n",
    "\"\"\"\n",
    "\n",
    "dp.run_delphes(\n",
    "    delphes_directory=mg_dir + '/Delphes',\n",
    "    delphes_card='cards/delphes_card.dat',\n",
    "    log_file='logs/delphes.log',\n",
    "    # initial_command='source activate python2',\n",
    ")"
   ]
  },
  {
   "cell_type": "markdown",
   "metadata": {},
   "source": [
    "The next step is the definition of observables, either through a Python function or an expression that can be evaluated. Here we demonstrate the latter, which is implemented in `add_observable()`. In the expression string, you can use the terms `j[i]`, `e[i]`, `mu[i]`, `a[i]`, `met`, where the indices `i` refer to a ordering by the transverse momentum. All of these represent objects inheriting from scikit-hep [LorentzVectors](http://scikit-hep.org/api/math.html#vector-classes), see the link for a documentation of their properties. In addition, they have `charge` and `pdg_id` properties.\n",
    "\n",
    "`add_observable()` has an optional keyword `required`. If `required=True`, we will only keep events where the observable can be parsed, i.e. all involved particles have been detected. If `required=False`, un-parseable observables will be filled with the value of another keyword `default`.\n",
    "\n",
    "In a realistic project, you would want to add a large number of observables that capture all information in your events. Here we will just define two observables, the transverse momentum of the leading (= higher-pT) jet, and the azimuthal angle between the two leading jets."
   ]
  },
  {
   "cell_type": "code",
   "execution_count": 13,
   "metadata": {},
   "outputs": [],
   "source": [
    "dp.add_observable(\n",
    "    'pt_j1',\n",
    "    'j[0].pt',\n",
    "    required=False,\n",
    "    default=0.,\n",
    ")\n",
    "dp.add_observable(\n",
    "    'delta_phi_jj',\n",
    "    'j[0].deltaphi(j[1]) * (-1. + 2.*float(j[0].eta > j[1].eta))',\n",
    "    required=True,\n",
    ")"
   ]
  },
  {
   "cell_type": "markdown",
   "metadata": {},
   "source": [
    "We can also add cuts, again in parse-able strings. In addition to the objects discussed above, they can contain the observables:"
   ]
  },
  {
   "cell_type": "code",
   "execution_count": 14,
   "metadata": {},
   "outputs": [],
   "source": [
    "dp.add_cut('pt_j1 > 30.')"
   ]
  },
  {
   "cell_type": "markdown",
   "metadata": {},
   "source": [
    "The function `analyse_delphes_samples` then calculates all observables from the Delphes ROOT file(s) generated before and applies the cuts:"
   ]
  },
  {
   "cell_type": "code",
   "execution_count": 15,
   "metadata": {},
   "outputs": [
    {
     "name": "stderr",
     "output_type": "stream",
     "text": [
      "16:31 madminer.delphes     INFO    Analysing Delphes sample mg_processes/signal/Events/run_01/tag_1_pythia8_events_delphes.root\n",
      "16:33 madminer.utils.inter INFO      46046 / 50000 events pass everything\n",
      "16:34 madminer.utils.inter INFO      50000 events pass everything\n",
      "16:34 madminer.utils.inter INFO      Out of these, 0 events contain negative weights\n"
     ]
    }
   ],
   "source": [
    "dp.analyse_delphes_samples()"
   ]
  },
  {
   "cell_type": "markdown",
   "metadata": {},
   "source": [
    "The values of the observables and the weights are then saved in the HDF5 file. It is possible to overwrite the same file, or to leave the original file intact and save all the data into a new file as follows:"
   ]
  },
  {
   "cell_type": "code",
   "execution_count": 16,
   "metadata": {},
   "outputs": [],
   "source": [
    "dp.save('data/madminer_example_with_data.h5')"
   ]
  },
  {
   "cell_type": "markdown",
   "metadata": {},
   "source": [
    "One side remark: For the detector simulation and calculation of observables, different users might have very different requirements. While a phenomenologist might be content with the fast detector simulation from Delphes, an experimental analysis might require the full simulation through Geant4. We therefore intend this part to be interchangeable: any user should feel free to run the detector simulation of their choice and save the calculated observables in the MadMiner HDF5 file."
   ]
  },
  {
   "cell_type": "markdown",
   "metadata": {},
   "source": [
    "### A look at distributions"
   ]
  },
  {
   "cell_type": "markdown",
   "metadata": {},
   "source": [
    "Let's see what our MC run produced:"
   ]
  },
  {
   "cell_type": "code",
   "execution_count": 17,
   "metadata": {},
   "outputs": [
    {
     "name": "stderr",
     "output_type": "stream",
     "text": [
      "16:34 madminer.sampling    INFO    Loading data from data/madminer_example_with_data.h5\n",
      "16:34 madminer.sampling    INFO    Found 2 parameters\n",
      "16:34 madminer.sampling    INFO    Did not find nuisance parameters\n",
      "16:34 madminer.sampling    INFO    Found 6 benchmarks, of which 6 physical\n",
      "16:34 madminer.sampling    INFO    Found 2 observables\n",
      "16:34 madminer.sampling    INFO    Found 46046 events\n",
      "16:34 madminer.sampling    INFO    Found morphing setup with 6 components\n"
     ]
    },
    {
     "data": {
      "image/png": "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\n",
      "text/plain": [
       "<Figure size 576x288 with 2 Axes>"
      ]
     },
     "metadata": {
      "needs_background": "light"
     },
     "output_type": "display_data"
    }
   ],
   "source": [
    "_ = plot_distributions(\n",
    "    filename='data/madminer_example_with_data.h5',\n",
    "    parameter_points=['sm', np.array([5.,0.])],\n",
    "    line_labels=['SM', 'BSM'],\n",
    "    uncertainties='none',\n",
    "    n_bins=20,\n",
    "    n_cols=2,\n",
    ")"
   ]
  },
  {
   "cell_type": "markdown",
   "metadata": {},
   "source": [
    "## 5. Combine and shuffle different event samples"
   ]
  },
  {
   "cell_type": "markdown",
   "metadata": {},
   "source": [
    "To reduce disk usage, you can generate several small event samples with the steps given above, and combine them now. Note that (for now) it is essential that all of them are generated with the same setup, including the same benchmark points / morphing basis!\n",
    "\n",
    "In our case we only have one sample, so this is not strictly necessary, but we still include it for completeness."
   ]
  },
  {
   "cell_type": "code",
   "execution_count": 18,
   "metadata": {},
   "outputs": [
    {
     "name": "stderr",
     "output_type": "stream",
     "text": [
      "16:34 madminer.sampling    INFO    Copying setup from data/madminer_example_with_data.h5 to data/madminer_example_shuffled.h5\n",
      "16:34 madminer.sampling    INFO    Loading samples from file 1 / 1 at data/madminer_example_with_data.h5, multiplying weights with k factor 1.0\n"
     ]
    }
   ],
   "source": [
    "combine_and_shuffle(\n",
    "    ['data/madminer_example_with_data.h5'],\n",
    "    'data/madminer_example_shuffled.h5'\n",
    ")"
   ]
  },
  {
   "cell_type": "markdown",
   "metadata": {},
   "source": [
    "## 6. Make (unweighted) training and test samples with augmented data"
   ]
  },
  {
   "cell_type": "markdown",
   "metadata": {},
   "source": [
    "At this point, we have all the information we need from MadGraph, Pythia, and Delphes. But the data is not quite ready to be used for machine learning. The `madminer.sampling` class `SampleAugmenter` will take care of the remaining book-keeping steps before we can train our estimators:\n",
    "\n",
    "First, it unweights the samples, i.e. for a given parameter vector `theta` (or a distribution `p(theta)`) it picks events `x` such that their distribution follows `p(x|theta)`. The selected samples will all come from the event file we have so far, but their frequency is changed -- some events will appear multiple times, some will disappear.\n",
    "\n",
    "Second, `SampleAugmenter` calculates all the augmented data (\"gold\") that is the key to our new inference methods. Depending on the specific technique, these are the joint likelihood ratio and / or the joint score. It saves all these pieces of information for the selected events in a set of numpy files that can easily be used in any machine learning framework."
   ]
  },
  {
   "cell_type": "code",
   "execution_count": 19,
   "metadata": {},
   "outputs": [
    {
     "name": "stderr",
     "output_type": "stream",
     "text": [
      "16:34 madminer.sampling    INFO    Loading data from data/madminer_example_shuffled.h5\n",
      "16:34 madminer.sampling    INFO    Found 2 parameters\n",
      "16:34 madminer.sampling    INFO    Did not find nuisance parameters\n",
      "16:34 madminer.sampling    INFO    Found 6 benchmarks, of which 6 physical\n",
      "16:34 madminer.sampling    INFO    Found 2 observables\n",
      "16:34 madminer.sampling    INFO    Found 46046 events\n",
      "16:34 madminer.sampling    INFO    Found morphing setup with 6 components\n"
     ]
    }
   ],
   "source": [
    "sa = SampleAugmenter('data/madminer_example_shuffled.h5')"
   ]
  },
  {
   "cell_type": "markdown",
   "metadata": {},
   "source": [
    "The `SampleAugmenter` class defines five different high-level functions to generate train or test samples:\n",
    "- `extract_samples_train_plain()`, which only saves observations x, for instance for histograms or ABC;\n",
    "- `extract_samples_train_local()` for methods like SALLY and SALLINO, which will be demonstrated in the second part of the tutorial;\n",
    "- `extract_samples_train_ratio()` for techniques like CARL, ROLR, CASCAL, and RASCAL, when only theta0 is parameterized;\n",
    "- `extract_samples_train_more_ratios()` for the same techniques, but with both theta0 and theta1 parameterized;\n",
    "- `extract_samples_test()` for the evaluation of any method.\n",
    "\n",
    "For the arguments `theta`, `theta0`, or `theta1`, you can (and should!) use the helper functions `constant_benchmark_theta()`, `multiple_benchmark_thetas()`, `constant_morphing_theta()`, `multiple_morphing_thetas()`, and `random_morphing_thetas()`, all defined in the `madminer.sampling` module.\n",
    "\n",
    "Here we'll train a likelihood ratio estimator with the ALICES method, so we focus on the `extract_samples_train_ratio()` function."
   ]
  },
  {
   "cell_type": "code",
   "execution_count": 20,
   "metadata": {},
   "outputs": [
    {
     "name": "stderr",
     "output_type": "stream",
     "text": [
      "16:34 madminer.sampling    INFO    Extracting training sample for ratio-based methods. Numerator hypothesis: (u'random', (100, [(u'gaussian', 0.0, 10.0), (u'gaussian', 0.0, 10.0)])), denominator hypothesis: (u'benchmark', u'sm')\n",
      "16:34 madminer.sampling    WARNING Large statistical uncertainty on the total cross section for theta = [-7.92202596  3.87210373]: (0.010395 +/- 0.001749) pb. Skipping these warnings in the future...\n",
      "16:34 madminer.sampling    WARNING For this value of theta, 1 / 23023 events have negative weight and will be ignored\n",
      "16:34 madminer.sampling    INFO    Effective number of samples: mean 15.124643599114712, with individual thetas ranging from 5.939722567101945 to 60.460140446976716\n",
      "16:34 madminer.sampling    INFO    Effective number of samples: mean 23023.000000006065, with individual thetas ranging from 23023.000000006068 to 23023.000000006068\n"
     ]
    }
   ],
   "source": [
    "x, theta0, theta1, y, r_xz, t_xz = sa.extract_samples_train_ratio(\n",
    "    theta0=random_morphing_thetas(100, [('gaussian', 0., 10.), ('gaussian', 0., 10.)]),\n",
    "    theta1=constant_benchmark_theta('sm'),\n",
    "    n_samples=25000,\n",
    "    folder='./data/samples',\n",
    "    filename='train'\n",
    ")"
   ]
  },
  {
   "cell_type": "markdown",
   "metadata": {},
   "source": [
    "For the evaluation we'll need a test sample, and we'll make two just for fun:"
   ]
  },
  {
   "cell_type": "code",
   "execution_count": 21,
   "metadata": {
    "scrolled": true
   },
   "outputs": [
    {
     "name": "stderr",
     "output_type": "stream",
     "text": [
      "16:34 madminer.sampling    INFO    Extracting evaluation sample. Sampling according to (u'benchmark', u'sm')\n",
      "16:34 madminer.sampling    INFO    Effective number of samples: 23022.000000006065\n"
     ]
    }
   ],
   "source": [
    "_ = sa.extract_samples_test(\n",
    "    theta=constant_benchmark_theta('sm'),\n",
    "    n_samples=25000,\n",
    "    folder='./data/samples',\n",
    "    filename='test'\n",
    ")"
   ]
  },
  {
   "cell_type": "markdown",
   "metadata": {},
   "source": [
    "### Plot cross section over parameter space"
   ]
  },
  {
   "cell_type": "markdown",
   "metadata": {},
   "source": [
    "We can also calculate total cross sections:"
   ]
  },
  {
   "cell_type": "code",
   "execution_count": 22,
   "metadata": {},
   "outputs": [
    {
     "name": "stderr",
     "output_type": "stream",
     "text": [
      "16:34 madminer.sampling    INFO    Starting cross-section calculation\n",
      "16:34 madminer.sampling    INFO    Starting cross-section calculation\n"
     ]
    }
   ],
   "source": [
    "thetas_benchmarks, xsecs_benchmarks, xsec_errors_benchmarks = sa.extract_cross_sections(\n",
    "    theta=multiple_benchmark_thetas(['sm', 'w', 'morphing_basis_vector_2', 'morphing_basis_vector_3', 'morphing_basis_vector_4', 'morphing_basis_vector_5'])\n",
    ")\n",
    "\n",
    "thetas_morphing, xsecs_morphing, xsec_errors_morphing = sa.extract_cross_sections(\n",
    "    theta=random_morphing_thetas(1000, [('gaussian', 0., 4.), ('gaussian', 0., 4.)])\n",
    ")"
   ]
  },
  {
   "cell_type": "code",
   "execution_count": 23,
   "metadata": {},
   "outputs": [
    {
     "data": {
      "image/png": "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\n",
      "text/plain": [
       "<Figure size 360x288 with 2 Axes>"
      ]
     },
     "metadata": {
      "needs_background": "light"
     },
     "output_type": "display_data"
    }
   ],
   "source": [
    "cmin, cmax = np.mean(xsecs_morphing) - 2 * np.std(xsecs_morphing), np.mean(xsecs_morphing) + 2 * np.std(xsecs_morphing)\n",
    "\n",
    "fig = plt.figure(figsize=(5,4))\n",
    "\n",
    "sc = plt.scatter(thetas_morphing[:,0], thetas_morphing[:,1], c=xsecs_morphing,\n",
    "            s=40., cmap='viridis', vmin=cmin, vmax=cmax,\n",
    "            marker='o')\n",
    "\n",
    "plt.scatter(thetas_benchmarks[:,0], thetas_benchmarks[:,1], c=xsecs_benchmarks,\n",
    "            s=200., cmap='viridis', vmin=cmin, vmax=cmax, lw=2., edgecolor='black',\n",
    "            marker='s')\n",
    "\n",
    "cb = plt.colorbar(sc)\n",
    "cb.set_label('xsec [pb]')\n",
    "\n",
    "plt.xlim(-10.,10.)\n",
    "plt.ylim(-10.,10.)\n",
    "plt.tight_layout()\n",
    "plt.show()"
   ]
  },
  {
   "cell_type": "markdown",
   "metadata": {},
   "source": [
    "What  you see here is a morphing algorithm in action. We only asked MadGraph to calculate event weights (differential cross sections, or basically squared matrix elements) at six fixed parameter points (shown here as squares with black edges). But with our knowledge about the structure of the process we can interpolate any observable to any parameter point without loss (except that statistical uncertainties might increase)!"
   ]
  },
  {
   "cell_type": "markdown",
   "metadata": {},
   "source": [
    "## 7. Train neural networks to estimate likelihood ratios"
   ]
  },
  {
   "cell_type": "markdown",
   "metadata": {},
   "source": [
    "It's now time to build the neural network that estimates the likelihood ratio. The central object for this is the `madminer.ml.MLForge` class. It defines functions that train, save, load, and evaluate the estimators."
   ]
  },
  {
   "cell_type": "code",
   "execution_count": 24,
   "metadata": {},
   "outputs": [],
   "source": [
    "forge = MLForge()"
   ]
  },
  {
   "cell_type": "markdown",
   "metadata": {},
   "source": [
    "### Training"
   ]
  },
  {
   "cell_type": "markdown",
   "metadata": {},
   "source": [
    "We will use the ALICES technique described in [\"Likelihood-free inference with an improved cross-entropy estimator\"](https://arxiv.org/abs/1808.00973). Most other methods, including RASCAL, are described in [\"Constraining Effective Field Theories With Machine Learning\"](https://arxiv.org/abs/1805.00013) and [\"A Guide to Constraining Effective Field Theories With Machine Learning\"](https://arxiv.org/abs/1805.00020). There is also SCANDAL introduced in [\"Mining gold from implicit models to improve likelihood-free inference\"](https://arxiv.org/abs/1805.12244).\n",
    "\n",
    "Most of these methods exist both in a \"single parameterized\" version, in which only the dependence of the likelihood ratio on the numerator is modelled, and a \"doubly parameterized\" version, in which both the dependence on the numerator and denominator parameters is modelled. For the single parameterized version, use `method='rascal'`, `method='alice'`, and so on. For the double parameterized version, use `method='rascal2'`, `method='alice2'`, etc. Note that for the doubly parameterized estimators you have to provide `theta1_filename`, and in the case of RASCAL and ALICES also `t_xz1_filename`."
   ]
  },
  {
   "cell_type": "code",
   "execution_count": 25,
   "metadata": {},
   "outputs": [
    {
     "name": "stderr",
     "output_type": "stream",
     "text": [
      "16:34 madminer.ml          INFO    Starting training\n",
      "16:34 madminer.ml          INFO      Method:                 alices\n",
      "16:34 madminer.ml          INFO      Training data:          x at data/samples/x_train.npy\n",
      "16:34 madminer.ml          INFO                              theta0 at data/samples/theta0_train.npy\n",
      "16:34 madminer.ml          INFO                              y at data/samples/y_train.npy\n",
      "16:34 madminer.ml          INFO                              r_xz at data/samples/r_xz_train.npy\n",
      "16:34 madminer.ml          INFO                              t_xz (theta0) at data/samples/t_xz_train.npy\n",
      "16:34 madminer.ml          INFO      Features:               all\n",
      "16:34 madminer.ml          INFO      Method:                 alices\n",
      "16:34 madminer.ml          INFO      Hidden layers:          (20, 20)\n",
      "16:34 madminer.ml          INFO      Activation function:    tanh\n",
      "16:34 madminer.ml          INFO      alpha:                  10.0\n",
      "16:34 madminer.ml          INFO      Batch size:             256\n",
      "16:34 madminer.ml          INFO      Trainer:                amsgrad\n",
      "16:34 madminer.ml          INFO      Epochs:                 20\n",
      "16:34 madminer.ml          INFO      Learning rate:          0.001 initially, decaying to 0.0001\n",
      "16:34 madminer.ml          INFO      Validation split:       0.3\n",
      "16:34 madminer.ml          INFO      Early stopping:         True\n",
      "16:34 madminer.ml          INFO      Scale inputs:           True\n",
      "16:34 madminer.ml          INFO      Shuffle labels          False\n",
      "16:34 madminer.ml          INFO      Regularization:         None\n",
      "16:34 madminer.ml          INFO      Samples:                all\n",
      "16:34 madminer.ml          INFO    Loading training data\n",
      "16:34 madminer.ml          INFO    Found 25000 samples with 2 parameters and 2 observables\n",
      "16:34 madminer.ml          INFO    Rescaling inputs\n",
      "16:34 madminer.ml          INFO    Creating model for method alices\n",
      "16:34 madminer.ml          INFO    Training model\n",
      "16:35 madminer.utils.ml.ra INFO      Epoch 02: train loss 0.7336 (improved_xe: 0.6133, mse_score: 0.0120)\n",
      "16:35 madminer.utils.ml.ra INFO                val. loss  0.7178 (improved_xe: 0.5697, mse_score: 0.0122) (*)\n",
      "16:35 madminer.utils.ml.ra INFO      Epoch 04: train loss 0.6032 (improved_xe: 0.4878, mse_score: 0.0115)\n",
      "16:35 madminer.utils.ml.ra INFO                val. loss  0.6177 (improved_xe: 0.4794, mse_score: 0.0117) (*)\n",
      "16:35 madminer.utils.ml.ra INFO      Epoch 06: train loss 0.5719 (improved_xe: 0.4618, mse_score: 0.0110)\n",
      "16:35 madminer.utils.ml.ra INFO                val. loss  0.5922 (improved_xe: 0.4635, mse_score: 0.0109) (*)\n",
      "16:35 madminer.utils.ml.ra INFO      Epoch 08: train loss 0.5648 (improved_xe: 0.4580, mse_score: 0.0107)\n",
      "16:35 madminer.utils.ml.ra INFO                val. loss  0.5855 (improved_xe: 0.4604, mse_score: 0.0105) (*)\n",
      "16:35 madminer.utils.ml.ra INFO      Epoch 10: train loss 0.5601 (improved_xe: 0.4554, mse_score: 0.0105)\n",
      "16:35 madminer.utils.ml.ra INFO                val. loss  0.5821 (improved_xe: 0.4583, mse_score: 0.0104) (*)\n",
      "16:35 madminer.utils.ml.ra INFO      Epoch 12: train loss 0.5584 (improved_xe: 0.4552, mse_score: 0.0103)\n",
      "16:35 madminer.utils.ml.ra INFO                val. loss  0.5818 (improved_xe: 0.4582, mse_score: 0.0104) (*)\n",
      "16:35 madminer.utils.ml.ra INFO      Epoch 14: train loss 0.5565 (improved_xe: 0.4540, mse_score: 0.0103)\n",
      "16:35 madminer.utils.ml.ra INFO                val. loss  0.5803 (improved_xe: 0.4576, mse_score: 0.0103)\n",
      "16:35 madminer.utils.ml.ra INFO      Epoch 16: train loss 0.5558 (improved_xe: 0.4536, mse_score: 0.0102)\n",
      "16:35 madminer.utils.ml.ra INFO                val. loss  0.5796 (improved_xe: 0.4576, mse_score: 0.0103) (*)\n",
      "16:36 madminer.utils.ml.ra INFO      Epoch 18: train loss 0.5551 (improved_xe: 0.4533, mse_score: 0.0102)\n",
      "16:36 madminer.utils.ml.ra INFO                val. loss  0.5814 (improved_xe: 0.4589, mse_score: 0.0103)\n",
      "16:36 madminer.utils.ml.ra INFO      Epoch 20: train loss 0.5550 (improved_xe: 0.4533, mse_score: 0.0102)\n",
      "16:36 madminer.utils.ml.ra INFO                val. loss  0.5784 (improved_xe: 0.4576, mse_score: 0.0101) (*)\n",
      "16:36 madminer.utils.ml.ra INFO    Early stopping did not improve performance\n",
      "16:36 madminer.utils.ml.ra INFO    Finished training\n"
     ]
    }
   ],
   "source": [
    "forge.train(\n",
    "    method='alices',\n",
    "    theta0_filename='data/samples/theta0_train.npy',\n",
    "    x_filename='data/samples/x_train.npy',\n",
    "    y_filename='data/samples/y_train.npy',\n",
    "    r_xz_filename='data/samples/r_xz_train.npy',\n",
    "    t_xz0_filename='data/samples/t_xz_train.npy',\n",
    "    n_hidden=(20,20),\n",
    "    alpha=10.,\n",
    "    n_epochs=20,\n",
    "    validation_split=0.3,\n",
    "    batch_size=256\n",
    ")\n",
    "\n",
    "forge.save('models/alices')"
   ]
  },
  {
   "cell_type": "markdown",
   "metadata": {},
   "source": [
    "### Evaluation"
   ]
  },
  {
   "cell_type": "markdown",
   "metadata": {},
   "source": [
    "`forge.evaluate(theta,x)` estimated the log likelihood ratio and the score for all combination between the given phase-space points `x` and parameters `theta`. That is, if given 100 events `x` and a grid of 25 `theta` points, it will return 25\\*100 estimates for the log likelihood and 25\\*100 estimates for the  score, both indexed by `[i_theta,i_x]`."
   ]
  },
  {
   "cell_type": "code",
   "execution_count": 26,
   "metadata": {},
   "outputs": [],
   "source": [
    "theta_each = np.linspace(-20.,20.,21)\n",
    "theta0, theta1 = np.meshgrid(theta_each, theta_each)\n",
    "theta_grid = np.vstack((theta0.flatten(), theta1.flatten())).T\n",
    "np.save('data/samples/theta_grid.npy', theta_grid)\n",
    "\n",
    "theta_denom = np.array([[0.,0.]])\n",
    "np.save('data/samples/theta_ref.npy', theta_denom)\n"
   ]
  },
  {
   "cell_type": "code",
   "execution_count": 27,
   "metadata": {},
   "outputs": [],
   "source": [
    "forge.load('models/alices')\n",
    "\n",
    "log_r_hat, _, _ = forge.evaluate(\n",
    "    theta0_filename='data/samples/theta_grid.npy',\n",
    "    x='data/samples/x_test.npy',\n",
    "    evaluate_score=False\n",
    ")"
   ]
  },
  {
   "cell_type": "markdown",
   "metadata": {},
   "source": [
    "Let's look at the result:"
   ]
  },
  {
   "cell_type": "code",
   "execution_count": 28,
   "metadata": {
    "scrolled": true
   },
   "outputs": [
    {
     "data": {
      "image/png": "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\n",
      "text/plain": [
       "<Figure size 432x360 with 2 Axes>"
      ]
     },
     "metadata": {
      "needs_background": "light"
     },
     "output_type": "display_data"
    }
   ],
   "source": [
    "bin_size = theta_each[1] - theta_each[0]\n",
    "edges = np.linspace(theta_each[0] - bin_size/2, theta_each[-1] + bin_size/2, len(theta_each)+1)\n",
    "\n",
    "fig = plt.figure(figsize=(6,5))\n",
    "ax = plt.gca()\n",
    "\n",
    "expected_llr = np.mean(log_r_hat,axis=1)\n",
    "best_fit = theta_grid[np.argmin(-2.*expected_llr)]\n",
    "\n",
    "cmin, cmax = np.min(-2*expected_llr), np.max(-2*expected_llr)\n",
    "    \n",
    "pcm = ax.pcolormesh(edges, edges, -2. * expected_llr.reshape((21,21)),\n",
    "                    norm=matplotlib.colors.Normalize(vmin=cmin, vmax=cmax),\n",
    "                    cmap='viridis_r')\n",
    "cbar = fig.colorbar(pcm, ax=ax, extend='both')\n",
    "\n",
    "plt.scatter(best_fit[0], best_fit[1], s=80., color='black', marker='*')\n",
    "\n",
    "plt.xlabel(r'$\\theta_0$')\n",
    "plt.ylabel(r'$\\theta_1$')\n",
    "cbar.set_label(r'$\\mathbb{E}_x [ -2\\, \\log \\,\\hat{r}(x | \\theta, \\theta_{SM}) ]$')\n",
    "\n",
    "plt.tight_layout()\n",
    "plt.show()\n"
   ]
  },
  {
   "cell_type": "markdown",
   "metadata": {},
   "source": [
    "Note that in this tutorial our sample size was very small, and the network does not really have a chance to converge to the correct likelihood ratio function. So don't worry if you find a minimum that is not at the right point (the SM, i.e. the origin in this plot). Feel free to dial up the event numbers in the run card as well as the training samples and see what happens then!\n",
    "\n",
    "That's it for now. Please have a look at the documentation for a detailed description of all classes and functions. And if you're curious about SALLY, Fisher information matrices, and ensemble methods, please look at the second part of the tutorial!"
   ]
  },
  {
   "cell_type": "code",
   "execution_count": null,
   "metadata": {},
   "outputs": [],
   "source": []
  }
 ],
 "metadata": {
  "kernelspec": {
   "display_name": "Python 2",
   "language": "python",
   "name": "python2"
  },
  "language_info": {
   "codemirror_mode": {
    "name": "ipython",
    "version": 2
   },
   "file_extension": ".py",
   "mimetype": "text/x-python",
   "name": "python",
   "nbconvert_exporter": "python",
   "pygments_lexer": "ipython2",
   "version": "2.7.15"
  }
 },
 "nbformat": 4,
 "nbformat_minor": 2
}
